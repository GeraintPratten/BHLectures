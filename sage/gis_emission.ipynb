{
 "cells": [
  {
   "cell_type": "markdown",
   "metadata": {},
   "source": [
    "# Emission from a point source in Schwarzschild spacetime\n",
    "\n",
    "This [Jupyter/SageMath](https://www.sagemath.org/) notebook is relative to the lectures\n",
    "[Geometry and physics of black holes](http://luth.obspm.fr/~luthier/gourgoulhon/bh16/).\n",
    "\n",
    "To run it, you must start SageMath with `sage -n jupyter`."
   ]
  },
  {
   "cell_type": "code",
   "execution_count": 1,
   "metadata": {},
   "outputs": [
    {
     "data": {
      "text/plain": [
       "'SageMath version 9.1.beta4, Release Date: 2020-02-13'"
      ]
     },
     "execution_count": 1,
     "metadata": {},
     "output_type": "execute_result"
    }
   ],
   "source": [
    "version()"
   ]
  },
  {
   "cell_type": "code",
   "execution_count": 2,
   "metadata": {},
   "outputs": [],
   "source": [
    "%display latex"
   ]
  },
  {
   "cell_type": "code",
   "execution_count": 3,
   "metadata": {},
   "outputs": [
    {
     "data": {
      "text/html": [
       "<html><script type=\"math/tex; mode=display\">\\newcommand{\\Bold}[1]{\\mathbf{#1}}-\\frac{\\frac{2}{r} - 1}{r^{2}}</script></html>"
      ],
      "text/plain": [
       "-(2/r - 1)/r^2"
      ]
     },
     "execution_count": 3,
     "metadata": {},
     "output_type": "execute_result"
    }
   ],
   "source": [
    "U(r) = (1 - 2/r)/r^2\n",
    "U(r)"
   ]
  },
  {
   "cell_type": "code",
   "execution_count": null,
   "metadata": {},
   "outputs": [],
   "source": [
    "r_list = [2.1, 2.5, 3]\n",
    "rmin = r_list[0]\n",
    "rmax = 1.99*r_list[-1]\n",
    "def huecol(r):\n",
    "    return - log((rmax - r1)/(rmax - r_list[-1])) \\\n",
    "           / log((rmax - rmin)/(rmax - r_list[-1])) / 3\n",
    "g = Graphics()\n",
    "for r1 in r_list[:-1]:\n",
    "    g += plot(lambda eta: - sin(eta)/sqrt(U(r1)), (0, 2*pi),\n",
    "              legend_label=r\"$r_{{\\rm em}}={:.1f}\\, m$\".format(float(r1)), \n",
    "              thickness=1.5, linestyle='dashed',\n",
    "              color=hue(huecol(r1)),\n",
    "              ticks=[pi/2, None], tick_formatter=[pi, 'latex'],\n",
    "              fontsize=14, axes_labels_size=1.2,\n",
    "              axes_labels=[r'$\\eta$', r'$\\epsilon_L \\, b/m$'], \n",
    "              frame=True, gridlines=True, axes=False)\n",
    "g"
   ]
  },
  {
   "cell_type": "code",
   "execution_count": null,
   "metadata": {},
   "outputs": [],
   "source": [
    "r_list = [3, 3.5, 6]\n",
    "r_colors = ['red', 'orange', 'gold']\n",
    "rmin = 0.99*r_list[0]\n",
    "rmax = r_list[-1]\n",
    "def huecol(r):\n",
    "    return log((r1 - rmin)/(r_list[0] - rmin)) / log((rmax - rmin)/(r_list[0] - rmin)) / 2\n",
    "for r1, color in zip(r_list, r_colors):\n",
    "    g += plot(lambda eta: - sin(eta)/sqrt(U(r1)), (0, 2*pi),\n",
    "              legend_label=r\"$r_{{\\rm em}}={:.1f}\\, m$\".format(float(r1)), \n",
    "              thickness=1.5, color=color)"
   ]
  },
  {
   "cell_type": "code",
   "execution_count": null,
   "metadata": {},
   "outputs": [],
   "source": [
    "bc = 3*sqrt(3)\n",
    "g += line([(0, bc), (2*pi, bc)], color='black', thickness=2, alpha=0.5)\n",
    "g += line([(0, -bc), (2*pi, -bc)], color='black', thickness=2, alpha=0.5)\n",
    "g"
   ]
  },
  {
   "cell_type": "code",
   "execution_count": null,
   "metadata": {},
   "outputs": [],
   "source": [
    "g.save(\"gis_b_eta.pdf\")"
   ]
  }
 ],
 "metadata": {
  "kernelspec": {
   "display_name": "SageMath 9.1.beta4",
   "language": "sage",
   "name": "sagemath"
  },
  "language_info": {
   "codemirror_mode": {
    "name": "ipython",
    "version": 3
   },
   "file_extension": ".py",
   "mimetype": "text/x-python",
   "name": "python",
   "nbconvert_exporter": "python",
   "pygments_lexer": "ipython3",
   "version": "3.7.3"
  }
 },
 "nbformat": 4,
 "nbformat_minor": 2
}
