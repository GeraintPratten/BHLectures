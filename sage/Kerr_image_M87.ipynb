{
 "cells": [
  {
   "cell_type": "markdown",
   "metadata": {},
   "source": [
    "# Critical curve of a Kerr black hole onto the EHT image of M87*\n",
    "\n",
    "This Jupyter/SageMath notebook is relative to the lectures\n",
    "[Geometry and physics of black holes](https://luth.obspm.fr/~luthier/gourgoulhon/bh16/)."
   ]
  },
  {
   "cell_type": "code",
   "execution_count": 1,
   "metadata": {},
   "outputs": [
    {
     "data": {
      "text/plain": [
       "'SageMath version 9.3.beta7, Release Date: 2021-02-07'"
      ]
     },
     "execution_count": 1,
     "metadata": {},
     "output_type": "execute_result"
    }
   ],
   "source": [
    "version()"
   ]
  },
  {
   "cell_type": "code",
   "execution_count": 2,
   "metadata": {},
   "outputs": [],
   "source": [
    "%display latex"
   ]
  },
  {
   "cell_type": "code",
   "execution_count": 3,
   "metadata": {},
   "outputs": [],
   "source": [
    "import matplotlib.image as mpimg\n",
    "import matplotlib.pyplot as plt"
   ]
  },
  {
   "cell_type": "markdown",
   "metadata": {},
   "source": [
    "## Functions $\\ell_{\\rm c}(r_0)$ and $q_{\\rm c}(r_0)$ for critical null geodesics\n",
    "\n",
    "We use $m=1$ and denote $r_0$ simply by $r$."
   ]
  },
  {
   "cell_type": "code",
   "execution_count": 4,
   "metadata": {},
   "outputs": [],
   "source": [
    "a, r = var('a r') "
   ]
  },
  {
   "cell_type": "code",
   "execution_count": 5,
   "metadata": {},
   "outputs": [
    {
     "data": {
      "text/html": [
       "<html><script type=\"math/tex; mode=display\">\\newcommand{\\Bold}[1]{\\mathbf{#1}}\\left( a, r \\right) \\ {\\mapsto} \\ -\\frac{a^{2} {\\left(r + 1\\right)} + {\\left(r - 3\\right)} r^{2}}{a {\\left(r - 1\\right)}}</script></html>"
      ],
      "text/latex": [
       "\\begin{math}\n",
       "\\newcommand{\\Bold}[1]{\\mathbf{#1}}\\left( a, r \\right) \\ {\\mapsto} \\ -\\frac{a^{2} {\\left(r + 1\\right)} + {\\left(r - 3\\right)} r^{2}}{a {\\left(r - 1\\right)}}\n",
       "\\end{math}"
      ],
      "text/plain": [
       "(a, r) |--> -(a^2*(r + 1) + (r - 3)*r^2)/(a*(r - 1))"
      ]
     },
     "execution_count": 5,
     "metadata": {},
     "output_type": "execute_result"
    }
   ],
   "source": [
    "lsph(a, r) = (r^2*(3 - r) - a^2*(r + 1))/(a*(r -1))\n",
    "lsph"
   ]
  },
  {
   "cell_type": "code",
   "execution_count": 6,
   "metadata": {},
   "outputs": [
    {
     "data": {
      "text/html": [
       "<html><script type=\"math/tex; mode=display\">\\newcommand{\\Bold}[1]{\\mathbf{#1}}\\left( a, r \\right) \\ {\\mapsto} \\ -\\frac{{\\left({\\left(r - 3\\right)}^{2} r - 4 \\, a^{2}\\right)} r^{3}}{a^{2} {\\left(r - 1\\right)}^{2}}</script></html>"
      ],
      "text/latex": [
       "\\begin{math}\n",
       "\\newcommand{\\Bold}[1]{\\mathbf{#1}}\\left( a, r \\right) \\ {\\mapsto} \\ -\\frac{{\\left({\\left(r - 3\\right)}^{2} r - 4 \\, a^{2}\\right)} r^{3}}{a^{2} {\\left(r - 1\\right)}^{2}}\n",
       "\\end{math}"
      ],
      "text/plain": [
       "(a, r) |--> -((r - 3)^2*r - 4*a^2)*r^3/(a^2*(r - 1)^2)"
      ]
     },
     "execution_count": 6,
     "metadata": {},
     "output_type": "execute_result"
    }
   ],
   "source": [
    "qsph(a, r) = r^3 / (a^2*(r - 1)^2) * (4*a^2 - r*(r - 3)^2)\n",
    "qsph"
   ]
  },
  {
   "cell_type": "markdown",
   "metadata": {},
   "source": [
    "The radii $r_+$ and $r_-$ of the two horizons:"
   ]
  },
  {
   "cell_type": "code",
   "execution_count": 7,
   "metadata": {},
   "outputs": [],
   "source": [
    "rp(a) = 1 + sqrt(1 - a^2)\n",
    "rm(a) = 1 - sqrt(1 - a^2)"
   ]
  },
  {
   "cell_type": "markdown",
   "metadata": {},
   "source": [
    "## Critical radii $r_{\\rm ph}^{**}$, $r_{\\rm ph}^*$, $r_{\\rm ph}^+$, $r_{\\rm ph}^-$, $r_{\\rm ph}^{\\rm ms}$ and $r_{\\rm ph}^{\\rm pol}$ "
   ]
  },
  {
   "cell_type": "code",
   "execution_count": 8,
   "metadata": {},
   "outputs": [
    {
     "data": {
      "text/html": [
       "<html><script type=\"math/tex; mode=display\">\\newcommand{\\Bold}[1]{\\mathbf{#1}}a \\ {\\mapsto}\\ \\cos\\left(\\frac{2}{3} \\, \\pi + \\frac{2}{3} \\, \\arcsin\\left(a\\right)\\right) + \\frac{1}{2}</script></html>"
      ],
      "text/latex": [
       "\\begin{math}\n",
       "\\newcommand{\\Bold}[1]{\\mathbf{#1}}a \\ {\\mapsto}\\ \\cos\\left(\\frac{2}{3} \\, \\pi + \\frac{2}{3} \\, \\arcsin\\left(a\\right)\\right) + \\frac{1}{2}\n",
       "\\end{math}"
      ],
      "text/plain": [
       "a |--> cos(2/3*pi + 2/3*arcsin(a)) + 1/2"
      ]
     },
     "execution_count": 8,
     "metadata": {},
     "output_type": "execute_result"
    }
   ],
   "source": [
    "rph_ss(a) = 1/2 + cos(2/3*asin(a) + 2*pi/3)\n",
    "rph_ss"
   ]
  },
  {
   "cell_type": "code",
   "execution_count": 9,
   "metadata": {},
   "outputs": [
    {
     "data": {
      "text/html": [
       "<html><script type=\"math/tex; mode=display\">\\newcommand{\\Bold}[1]{\\mathbf{#1}}a \\ {\\mapsto}\\ 4 \\, \\cos\\left(\\frac{4}{3} \\, \\pi + \\frac{1}{3} \\, \\arccos\\left(-a\\right)\\right)^{2}</script></html>"
      ],
      "text/latex": [
       "\\begin{math}\n",
       "\\newcommand{\\Bold}[1]{\\mathbf{#1}}a \\ {\\mapsto}\\ 4 \\, \\cos\\left(\\frac{4}{3} \\, \\pi + \\frac{1}{3} \\, \\arccos\\left(-a\\right)\\right)^{2}\n",
       "\\end{math}"
      ],
      "text/plain": [
       "a |--> 4*cos(4/3*pi + 1/3*arccos(-a))^2"
      ]
     },
     "execution_count": 9,
     "metadata": {},
     "output_type": "execute_result"
    }
   ],
   "source": [
    "rph_s(a) = 4*cos(acos(-a)/3 + 4*pi/3)^2\n",
    "rph_s"
   ]
  },
  {
   "cell_type": "code",
   "execution_count": 10,
   "metadata": {},
   "outputs": [
    {
     "data": {
      "text/html": [
       "<html><script type=\"math/tex; mode=display\">\\newcommand{\\Bold}[1]{\\mathbf{#1}}a \\ {\\mapsto}\\ 4 \\, \\cos\\left(\\frac{1}{3} \\, \\arccos\\left(-a\\right)\\right)^{2}</script></html>"
      ],
      "text/latex": [
       "\\begin{math}\n",
       "\\newcommand{\\Bold}[1]{\\mathbf{#1}}a \\ {\\mapsto}\\ 4 \\, \\cos\\left(\\frac{1}{3} \\, \\arccos\\left(-a\\right)\\right)^{2}\n",
       "\\end{math}"
      ],
      "text/plain": [
       "a |--> 4*cos(1/3*arccos(-a))^2"
      ]
     },
     "execution_count": 10,
     "metadata": {},
     "output_type": "execute_result"
    }
   ],
   "source": [
    "rph_p(a) = 4*cos(acos(-a)/3)^2\n",
    "rph_p"
   ]
  },
  {
   "cell_type": "code",
   "execution_count": 11,
   "metadata": {},
   "outputs": [
    {
     "data": {
      "text/html": [
       "<html><script type=\"math/tex; mode=display\">\\newcommand{\\Bold}[1]{\\mathbf{#1}}a \\ {\\mapsto}\\ 4 \\, \\cos\\left(\\frac{1}{3} \\, \\arccos\\left(a\\right)\\right)^{2}</script></html>"
      ],
      "text/latex": [
       "\\begin{math}\n",
       "\\newcommand{\\Bold}[1]{\\mathbf{#1}}a \\ {\\mapsto}\\ 4 \\, \\cos\\left(\\frac{1}{3} \\, \\arccos\\left(a\\right)\\right)^{2}\n",
       "\\end{math}"
      ],
      "text/plain": [
       "a |--> 4*cos(1/3*arccos(a))^2"
      ]
     },
     "execution_count": 11,
     "metadata": {},
     "output_type": "execute_result"
    }
   ],
   "source": [
    "rph_m(a) = 4*cos(acos(a)/3)^2\n",
    "rph_m"
   ]
  },
  {
   "cell_type": "markdown",
   "metadata": {},
   "source": [
    "We add the radius of the marginally stable orbit:"
   ]
  },
  {
   "cell_type": "code",
   "execution_count": 12,
   "metadata": {},
   "outputs": [
    {
     "data": {
      "text/html": [
       "<html><script type=\"math/tex; mode=display\">\\newcommand{\\Bold}[1]{\\mathbf{#1}}a \\ {\\mapsto}\\ -{\\left(-a^{2} + 1\\right)}^{\\frac{1}{3}} + 1</script></html>"
      ],
      "text/latex": [
       "\\begin{math}\n",
       "\\newcommand{\\Bold}[1]{\\mathbf{#1}}a \\ {\\mapsto}\\ -{\\left(-a^{2} + 1\\right)}^{\\frac{1}{3}} + 1\n",
       "\\end{math}"
      ],
      "text/plain": [
       "a |--> -(-a^2 + 1)^(1/3) + 1"
      ]
     },
     "execution_count": 12,
     "metadata": {},
     "output_type": "execute_result"
    }
   ],
   "source": [
    "rph_ms(a) = 1 - (1 - a^2)^(1/3)\n",
    "rph_ms"
   ]
  },
  {
   "cell_type": "markdown",
   "metadata": {},
   "source": [
    "as well as the radius of outer and inner polar orbits:"
   ]
  },
  {
   "cell_type": "code",
   "execution_count": 13,
   "metadata": {},
   "outputs": [
    {
     "data": {
      "text/html": [
       "<html><script type=\"math/tex; mode=display\">\\newcommand{\\Bold}[1]{\\mathbf{#1}}a \\ {\\mapsto}\\ 2 \\, \\sqrt{-\\frac{1}{3} \\, a^{2} + 1} \\cos\\left(\\frac{1}{3} \\, \\arccos\\left(-\\frac{a^{2} - 1}{{\\left(-\\frac{1}{3} \\, a^{2} + 1\\right)}^{\\frac{3}{2}}}\\right)\\right) + 1</script></html>"
      ],
      "text/latex": [
       "\\begin{math}\n",
       "\\newcommand{\\Bold}[1]{\\mathbf{#1}}a \\ {\\mapsto}\\ 2 \\, \\sqrt{-\\frac{1}{3} \\, a^{2} + 1} \\cos\\left(\\frac{1}{3} \\, \\arccos\\left(-\\frac{a^{2} - 1}{{\\left(-\\frac{1}{3} \\, a^{2} + 1\\right)}^{\\frac{3}{2}}}\\right)\\right) + 1\n",
       "\\end{math}"
      ],
      "text/plain": [
       "a |--> 2*sqrt(-1/3*a^2 + 1)*cos(1/3*arccos(-(a^2 - 1)/(-1/3*a^2 + 1)^(3/2))) + 1"
      ]
     },
     "execution_count": 13,
     "metadata": {},
     "output_type": "execute_result"
    }
   ],
   "source": [
    "rph_pol(a) = 1 + 2*sqrt(1 - a^2/3)*cos(1/3*arccos((1 - a^2)/(1 - a^2/3)^(3/2)))\n",
    "rph_pol"
   ]
  },
  {
   "cell_type": "code",
   "execution_count": 14,
   "metadata": {},
   "outputs": [
    {
     "data": {
      "text/html": [
       "<html><script type=\"math/tex; mode=display\">\\newcommand{\\Bold}[1]{\\mathbf{#1}}a \\ {\\mapsto}\\ 2 \\, \\sqrt{-\\frac{1}{3} \\, a^{2} + 1} \\cos\\left(\\frac{2}{3} \\, \\pi + \\frac{1}{3} \\, \\arccos\\left(-\\frac{a^{2}}{{\\left(-\\frac{1}{3} \\, a^{2} + 1\\right)}^{\\frac{3}{2}}} + \\frac{1}{{\\left(-\\frac{1}{3} \\, a^{2} + 1\\right)}^{\\frac{3}{2}}}\\right)\\right) + 1</script></html>"
      ],
      "text/latex": [
       "\\begin{math}\n",
       "\\newcommand{\\Bold}[1]{\\mathbf{#1}}a \\ {\\mapsto}\\ 2 \\, \\sqrt{-\\frac{1}{3} \\, a^{2} + 1} \\cos\\left(\\frac{2}{3} \\, \\pi + \\frac{1}{3} \\, \\arccos\\left(-\\frac{a^{2}}{{\\left(-\\frac{1}{3} \\, a^{2} + 1\\right)}^{\\frac{3}{2}}} + \\frac{1}{{\\left(-\\frac{1}{3} \\, a^{2} + 1\\right)}^{\\frac{3}{2}}}\\right)\\right) + 1\n",
       "\\end{math}"
      ],
      "text/plain": [
       "a |--> 2*sqrt(-1/3*a^2 + 1)*cos(2/3*pi + 1/3*arccos(-a^2/(-1/3*a^2 + 1)^(3/2) + 1/(-1/3*a^2 + 1)^(3/2))) + 1"
      ]
     },
     "execution_count": 14,
     "metadata": {},
     "output_type": "execute_result"
    }
   ],
   "source": [
    "rph_pol_in(a) = 1 + 2*sqrt(1 - a^2/3)*cos(1/3*arccos((1 - a^2)/(1 - a^2/3)^(3/2)) + 2*pi/3)\n",
    "rph_pol_in"
   ]
  },
  {
   "cell_type": "code",
   "execution_count": 15,
   "metadata": {},
   "outputs": [
    {
     "data": {
      "text/html": [
       "<html><script type=\"math/tex; mode=display\">\\newcommand{\\Bold}[1]{\\mathbf{#1}}r_{\\rm ph}^{**} =  -0.477673658836338</script></html>"
      ],
      "text/latex": [
       "\\begin{math}\n",
       "\\newcommand{\\Bold}[1]{\\mathbf{#1}}r_{\\rm ph}^{**} =  -0.477673658836338\n",
       "\\end{math}"
      ],
      "text/plain": [
       "r_{\\rm ph}^{**} =  -0.477673658836338"
      ]
     },
     "metadata": {},
     "output_type": "display_data"
    },
    {
     "data": {
      "text/html": [
       "<html><script type=\"math/tex; mode=display\">\\newcommand{\\Bold}[1]{\\mathbf{#1}}r_{\\rm ph}^{\\rm ms} =  0.539741795874205</script></html>"
      ],
      "text/latex": [
       "\\begin{math}\n",
       "\\newcommand{\\Bold}[1]{\\mathbf{#1}}r_{\\rm ph}^{\\rm ms} =  0.539741795874205\n",
       "\\end{math}"
      ],
      "text/plain": [
       "r_{\\rm ph}^{\\rm ms} =  0.539741795874205"
      ]
     },
     "metadata": {},
     "output_type": "display_data"
    },
    {
     "data": {
      "text/html": [
       "<html><script type=\"math/tex; mode=display\">\\newcommand{\\Bold}[1]{\\mathbf{#1}}r_{\\rm ph}^{*} =  0.658372153864346</script></html>"
      ],
      "text/latex": [
       "\\begin{math}\n",
       "\\newcommand{\\Bold}[1]{\\mathbf{#1}}r_{\\rm ph}^{*} =  0.658372153864346\n",
       "\\end{math}"
      ],
      "text/plain": [
       "r_{\\rm ph}^{*} =  0.658372153864346"
      ]
     },
     "metadata": {},
     "output_type": "display_data"
    },
    {
     "data": {
      "text/html": [
       "<html><script type=\"math/tex; mode=display\">\\newcommand{\\Bold}[1]{\\mathbf{#1}}r_- =  0.687750100080080</script></html>"
      ],
      "text/latex": [
       "\\begin{math}\n",
       "\\newcommand{\\Bold}[1]{\\mathbf{#1}}r_- =  0.687750100080080\n",
       "\\end{math}"
      ],
      "text/plain": [
       "r_- =  0.687750100080080"
      ]
     },
     "metadata": {},
     "output_type": "display_data"
    },
    {
     "data": {
      "text/html": [
       "<html><script type=\"math/tex; mode=display\">\\newcommand{\\Bold}[1]{\\mathbf{#1}}r_+ =  1.31224989991992</script></html>"
      ],
      "text/latex": [
       "\\begin{math}\n",
       "\\newcommand{\\Bold}[1]{\\mathbf{#1}}r_+ =  1.31224989991992\n",
       "\\end{math}"
      ],
      "text/plain": [
       "r_+ =  1.31224989991992"
      ]
     },
     "metadata": {},
     "output_type": "display_data"
    },
    {
     "data": {
      "text/html": [
       "<html><script type=\"math/tex; mode=display\">\\newcommand{\\Bold}[1]{\\mathbf{#1}}r_{\\rm ph}^+ =  1.38628052846298</script></html>"
      ],
      "text/latex": [
       "\\begin{math}\n",
       "\\newcommand{\\Bold}[1]{\\mathbf{#1}}r_{\\rm ph}^+ =  1.38628052846298\n",
       "\\end{math}"
      ],
      "text/plain": [
       "r_{\\rm ph}^+ =  1.38628052846298"
      ]
     },
     "metadata": {},
     "output_type": "display_data"
    },
    {
     "data": {
      "text/html": [
       "<html><script type=\"math/tex; mode=display\">\\newcommand{\\Bold}[1]{\\mathbf{#1}}r_{\\rm ph}^- =  3.95534731767268</script></html>"
      ],
      "text/latex": [
       "\\begin{math}\n",
       "\\newcommand{\\Bold}[1]{\\mathbf{#1}}r_{\\rm ph}^- =  3.95534731767268\n",
       "\\end{math}"
      ],
      "text/plain": [
       "r_{\\rm ph}^- =  3.95534731767268"
      ]
     },
     "metadata": {},
     "output_type": "display_data"
    },
    {
     "data": {
      "text/html": [
       "<html><script type=\"math/tex; mode=display\">\\newcommand{\\Bold}[1]{\\mathbf{#1}}r_{\\rm ph}^{\\rm pol} =  2.49269429554008</script></html>"
      ],
      "text/latex": [
       "\\begin{math}\n",
       "\\newcommand{\\Bold}[1]{\\mathbf{#1}}r_{\\rm ph}^{\\rm pol} =  2.49269429554008\n",
       "\\end{math}"
      ],
      "text/plain": [
       "r_{\\rm ph}^{\\rm pol} =  2.49269429554008"
      ]
     },
     "metadata": {},
     "output_type": "display_data"
    },
    {
     "data": {
      "text/html": [
       "<html><script type=\"math/tex; mode=display\">\\newcommand{\\Bold}[1]{\\mathbf{#1}}r_{\\rm ph}^{\\rm pol,in} =  -0.399338575773941</script></html>"
      ],
      "text/latex": [
       "\\begin{math}\n",
       "\\newcommand{\\Bold}[1]{\\mathbf{#1}}r_{\\rm ph}^{\\rm pol,in} =  -0.399338575773941\n",
       "\\end{math}"
      ],
      "text/plain": [
       "r_{\\rm ph}^{\\rm pol,in} =  -0.399338575773941"
      ]
     },
     "metadata": {},
     "output_type": "display_data"
    }
   ],
   "source": [
    "a0 = 0.95\n",
    "# a0 = 1\n",
    "show(LatexExpr(r'r_{\\rm ph}^{**} = '), n(rph_ss(a0)))\n",
    "show(LatexExpr(r'r_{\\rm ph}^{\\rm ms} = '), n(rph_ms(a0)))\n",
    "show(LatexExpr(r'r_{\\rm ph}^{*} = '), n(rph_s(a0)))\n",
    "show(LatexExpr(r'r_- = '), n(rm(a0)))\n",
    "show(LatexExpr(r'r_+ = '), n(rp(a0)))\n",
    "show(LatexExpr(r'r_{\\rm ph}^+ = '), n(rph_p(a0)))\n",
    "show(LatexExpr(r'r_{\\rm ph}^- = '), n(rph_m(a0)))\n",
    "show(LatexExpr(r'r_{\\rm ph}^{\\rm pol} = '), n(rph_pol(a0)))\n",
    "show(LatexExpr(r'r_{\\rm ph}^{\\rm pol,in} = '), n(rph_pol_in(a0)))"
   ]
  },
  {
   "cell_type": "code",
   "execution_count": 16,
   "metadata": {},
   "outputs": [],
   "source": [
    "def alpha(a, th_obs, r0):\n",
    "    if a == 1:\n",
    "        ell = - r0^2 + 2*r0 + 1\n",
    "    else:\n",
    "        ell = lsph(a, r0)\n",
    "    return - ell / sin(th_obs)\n",
    "\n",
    "def Theta(a, th_obs, r0):\n",
    "    if a == 1:\n",
    "        ell = - r0^2 + 2*r0 + 1\n",
    "        q = r0^3 * (4 - r0)\n",
    "    else:\n",
    "        ell = lsph(a, r0)\n",
    "        q = qsph(a, r0)\n",
    "    return q + cos(th_obs)^2 * (a^2 - ell^2/sin(th_obs)^2)\n",
    "\n",
    "def beta(a, th_obs, r0, eps_theta=1):\n",
    "    return eps_theta * sqrt(Theta(a, th_obs, r0,))"
   ]
  },
  {
   "cell_type": "code",
   "execution_count": 17,
   "metadata": {},
   "outputs": [],
   "source": [
    "def r0_bounds(a, th_obs, outer=True):\n",
    "    r\"\"\"\n",
    "    Return `(r0_min, r0_max)`\n",
    "    \"\"\"\n",
    "    if outer:\n",
    "        r1 = n(rph_p(a))\n",
    "        r2 = n(rph_m(a))\n",
    "        r3 = rph_pol(a)\n",
    "    else:\n",
    "        r1 = n(rph_ss(a))\n",
    "        r2 = 0\n",
    "        r3 = rph_pol_in(a)\n",
    "    #\n",
    "    # Computation of rmin:\n",
    "    try:\n",
    "        if a == 1:\n",
    "            th_crit = n(asin(sqrt(3) - 1))\n",
    "            if n(th_obs) < th_crit or n(th_obs) > n(pi) - th_crit:\n",
    "                rmin = find_root(lambda r: Theta(a, th_obs, r), r1, r3)\n",
    "            else:\n",
    "                rmin = 1\n",
    "        else:\n",
    "            rmin = find_root(lambda r: Theta(a, th_obs, r), r1, r3)\n",
    "    except TypeError:  # special case th_obs = pi/2\n",
    "        rmin = r1    \n",
    "    #\n",
    "    # Computation of rmax:\n",
    "    try:\n",
    "        rmax = find_root(lambda r: Theta(a, th_obs, r), r3, r2)\n",
    "    except TypeError:  # special case th_obs = pi/2\n",
    "        rmax = r2    \n",
    "    #\n",
    "    return (rmin, rmax)"
   ]
  },
  {
   "cell_type": "code",
   "execution_count": 18,
   "metadata": {},
   "outputs": [],
   "source": [
    "def shadow_plot(a, th_obs, orientation=0, outer=True, color=None, number_colors=5, \n",
    "                range_col=None, thickness=2, linestyle='-', plot_points=200,\n",
    "                legend='automatic', legend_loc=(1.02, 0.36), fill=True, \n",
    "                fillcolor='grey', draw_NHEKline=True, \n",
    "                draw_spin=False, spin_arrow_length=7, spin_arrow_options=None,\n",
    "                frame=True, axes=True, axes_labels='automatic', gridlines=True):\n",
    "    if a==0:\n",
    "        # Case a = 0:\n",
    "        rs = 3*sqrt(3)\n",
    "        if color is None:\n",
    "            color = 'black'\n",
    "        if legend == 'automatic':\n",
    "            legend = None\n",
    "        g = parametric_plot((rs*cos(x), rs*sin(x)), (x, 0, 2*pi), \n",
    "                            color=color, thickness=thickness,\n",
    "                            linestyle=linestyle, legend_label=legend, \n",
    "                            fill=fill, fillcolor=fillcolor, frame=frame, \n",
    "                            axes=axes, gridlines=gridlines)\n",
    "    else:\n",
    "        # Case a != 0\n",
    "        rmin, rmax = r0_bounds(a, th_obs, outer=outer)\n",
    "        if rmin > 0:\n",
    "            rmin = 1.00000001*rmin\n",
    "            rmax = 0.99999999*rmax\n",
    "        else:\n",
    "            rmin = 0.9999999*rmin\n",
    "            rmax = 1.0000001*rmax\n",
    "        print(\"rmin : \", rmin, \"  rmax : \", rmax)\n",
    "        co = cos(orientation)\n",
    "        so = sin(orientation)\n",
    "        fa = lambda r: co*alpha(a, th_obs, r) - so*beta(a, th_obs, r)\n",
    "        fb = lambda r: so*alpha(a, th_obs, r) + co*beta(a, th_obs, r)\n",
    "        fam = lambda r: co*alpha(a, th_obs, r) - so*beta(a, th_obs, r, eps_theta=-1)\n",
    "        fbm = lambda r: so*alpha(a, th_obs, r) + co*beta(a, th_obs, r, eps_theta=-1)\n",
    "        if range_col is None:\n",
    "            range_col = r0_bounds(a, pi/2, outer=outer)\n",
    "        rmin_col, rmax_col = range_col \n",
    "        print(\"rmin_col : \", rmin_col, \"  rmax_col : \", rmax_col)\n",
    "        dr = (rmax_col - rmin_col) / number_colors\n",
    "        rm = rmin_col + int((rmin - rmin_col)/dr)*dr\n",
    "        r1s = rmin\n",
    "        r_ranges = []\n",
    "        while rm + dr < rmax:\n",
    "            col = hue((rm - rmin_col)/(rmax_col - rmin_col + 0.1))\n",
    "            r2s = rm + dr\n",
    "            r_ranges.append((r1s, r2s, col))\n",
    "            rm += dr\n",
    "            r1s = r2s\n",
    "        if color is None:\n",
    "            col = hue((rm - rmin_col)/(rmax_col - rmin_col + 0.1))\n",
    "        else:\n",
    "            col = color\n",
    "        r_ranges.append((r1s, rmax, col))\n",
    "        g = Graphics()\n",
    "        legend_label = None  # a priori\n",
    "        if a == 1 and draw_NHEKline:\n",
    "            th_crit = asin(sqrt(3) - 1)\n",
    "            if th_obs > th_crit and th_obs < pi - th_crit:\n",
    "                # NHEK line\n",
    "                alpha0 = -2/sin(th_obs)\n",
    "                beta0 = sqrt(3 - cos(th_obs)**2 *(6 + cos(th_obs)**2))/sin(th_obs)\n",
    "                alpha1 = co*alpha0 - so*beta0\n",
    "                beta1 = so*alpha0 + co*beta0\n",
    "                alpha2 = co*alpha0 + so*beta0\n",
    "                beta2 = so*alpha0 - co*beta0\n",
    "                if legend == 'automatic':\n",
    "                    legend_label = r\"$r_0 = m$\"\n",
    "                if color is None:\n",
    "                    colNHEK = 'maroon'\n",
    "                else:\n",
    "                    colNHEK = color\n",
    "                g += line([(alpha1, beta1), (alpha2, beta2)], color=colNHEK, \n",
    "                          thickness=thickness, linestyle=linestyle,\n",
    "                          legend_label=legend_label)\n",
    "                if fill:\n",
    "                    g += polygon2d([(fa(rmax), 0), (alpha0, beta0), (alpha0, -beta0)], \n",
    "                                   color=fillcolor, alpha=0.5)\n",
    "        for rg in r_ranges:\n",
    "            r1s, r2s = rg[0], rg[1]\n",
    "            col = rg[2]\n",
    "            if legend:\n",
    "                if legend == 'automatic':\n",
    "                    if draw_NHEKline and abs(r1s - 1) < 1e-5:\n",
    "                        legend_label = r\"${:.2f}\\, m < r_0 \\leq {:.2f}\\, m$\".format(\n",
    "                                       float(r1s), float(r2s))\n",
    "                    else:\n",
    "                        legend_label = r\"${:.2f}\\, m \\leq r_0 \\leq {:.2f}\\, m$\".format(\n",
    "                                       float(r1s), float(r2s))\n",
    "                else:\n",
    "                    legend_label = legend\n",
    "            g += parametric_plot((fa, fb), (r1s, r2s), plot_points=plot_points, color=col, \n",
    "                                 thickness=thickness, linestyle=linestyle,\n",
    "                                 legend_label=legend_label, \n",
    "                                 frame=frame, axes=axes, gridlines=gridlines)\n",
    "            g += parametric_plot((fam, fbm), (r1s, r2s), plot_points=plot_points, color=col, \n",
    "                                 thickness=thickness, linestyle=linestyle)\n",
    "        if fill:\n",
    "            g += parametric_plot((fa, fb), (rmin, rmax), fill=True, fillcolor=fillcolor, \n",
    "                                 thickness=0)\n",
    "            g += parametric_plot((fam, fbm), (rmin, rmax), fill=True, fillcolor=fillcolor, \n",
    "                                 thickness=0)\n",
    "        if draw_spin:\n",
    "            if not spin_arrow_options:\n",
    "                spin_arrow_options = {}\n",
    "            if 'color' not in spin_arrow_options:\n",
    "                spin_arrow_options['color'] = color\n",
    "            g += arrow2d((0,0), (-so*spin_arrow_length, co*spin_arrow_length), \n",
    "                         **spin_arrow_options)\n",
    "        # end of case a != 0\n",
    "    g.set_aspect_ratio(1)\n",
    "    if axes_labels:\n",
    "        if axes_labels == 'automatic':\n",
    "            g.axes_labels([r\"$(r_{\\mathscr{O}}/m)\\; \\alpha$\", \n",
    "                           r\"$(r_{\\mathscr{O}}/m)\\; \\beta$\"])\n",
    "        else:\n",
    "            g.axes_labels(axes_labels)\n",
    "    if legend:\n",
    "        g.set_legend_options(handlelength=2, loc=legend_loc)\n",
    "    return g"
   ]
  },
  {
   "cell_type": "code",
   "execution_count": 19,
   "metadata": {},
   "outputs": [
    {
     "name": "stdout",
     "output_type": "stream",
     "text": [
      "rmin :  1.00000001000000   rmax :  3.99999996000000\n",
      "rmin_col :  1   rmax_col :  4.0\n"
     ]
    },
    {
     "data": {
      "image/png": "[encoded data removed]",
      "text/plain": [
       "Graphics object consisting of 4 graphics primitives"
      ]
     },
     "execution_count": 19,
     "metadata": {},
     "output_type": "execute_result"
    }
   ],
   "source": [
    "shadow_plot(1, pi/2, orientation=pi/6, fill=False, color='red', \n",
    "            number_colors=1, thickness=1.5, linestyle=':', \n",
    "            draw_spin=True, spin_arrow_options={'color': 'blue', 'width': 3},\n",
    "            legend=False)"
   ]
  },
  {
   "cell_type": "markdown",
   "metadata": {},
   "source": [
    "Half-width of the image in units of $m/r_{\\mathscr{O}}$:"
   ]
  },
  {
   "cell_type": "code",
   "execution_count": 20,
   "metadata": {},
   "outputs": [
    {
     "name": "stdout",
     "output_type": "stream",
     "text": [
      "fsize = 17.3275984058939 m/r_obs\n"
     ]
    }
   ],
   "source": [
    "EHT_field_of_view = 127   # Field of view for EHT image of M87* (in microarcseconds)\n",
    "scale_M87 = 3.66467403690525  # m/r for M87* (in microarcseconds)\n",
    "fsize = EHT_field_of_view / 2 / scale_M87\n",
    "extent = (-fsize, fsize, -fsize, fsize)\n",
    "print(\"fsize =\", fsize, \"m/r_obs\")"
   ]
  },
  {
   "cell_type": "code",
   "execution_count": 21,
   "metadata": {},
   "outputs": [],
   "source": [
    "def empty_plot(size, frame=True, axes=False, axes_labels='automatic', \n",
    "               gridlines=False):\n",
    "    g = Graphics()\n",
    "    g._extra_kwds['frame'] = frame\n",
    "    g._extra_kwds['axes'] = axes\n",
    "    g._extra_kwds['gridlines'] = gridlines\n",
    "    if axes_labels:\n",
    "        if axes_labels == 'automatic':\n",
    "            g.axes_labels([r\"$(r_{\\mathscr{O}}/m)\\; \\alpha$\", \n",
    "                           r\"$(r_{\\mathscr{O}}/m)\\; \\beta$\"])\n",
    "        else:\n",
    "            g.axes_labels(axes_labels)\n",
    "    g.set_aspect_ratio(1)\n",
    "    g.set_axes_range(-size, size, -size, size)\n",
    "    return g"
   ]
  },
  {
   "cell_type": "markdown",
   "metadata": {},
   "source": [
    "Default resolution of SageMath images:"
   ]
  },
  {
   "cell_type": "code",
   "execution_count": 22,
   "metadata": {},
   "outputs": [
    {
     "data": {
      "text/html": [
       "<html><script type=\"math/tex; mode=display\">\\newcommand{\\Bold}[1]{\\mathbf{#1}}100</script></html>"
      ],
      "text/latex": [
       "\\begin{math}\n",
       "\\newcommand{\\Bold}[1]{\\mathbf{#1}}100\n",
       "\\end{math}"
      ],
      "text/plain": [
       "100"
      ]
     },
     "execution_count": 22,
     "metadata": {},
     "output_type": "execute_result"
    }
   ],
   "source": [
    "dpi = Graphics.SHOW_OPTIONS['dpi']\n",
    "dpi"
   ]
  },
  {
   "cell_type": "markdown",
   "metadata": {},
   "source": [
    "Default resolution of Matplotlib images:"
   ]
  },
  {
   "cell_type": "code",
   "execution_count": 23,
   "metadata": {},
   "outputs": [
    {
     "data": {
      "text/html": [
       "<html><script type=\"math/tex; mode=display\">\\newcommand{\\Bold}[1]{\\mathbf{#1}}72.0</script></html>"
      ],
      "text/latex": [
       "\\begin{math}\n",
       "\\newcommand{\\Bold}[1]{\\mathbf{#1}}72.0\n",
       "\\end{math}"
      ],
      "text/plain": [
       "72.0"
      ]
     },
     "execution_count": 23,
     "metadata": {},
     "output_type": "execute_result"
    }
   ],
   "source": [
    "from matplotlib import rcParams\n",
    "rcParams['figure.dpi']"
   ]
  },
  {
   "cell_type": "code",
   "execution_count": 24,
   "metadata": {},
   "outputs": [],
   "source": [
    "th_obs = 160./180.*pi\n",
    "orient = 110./180.*pi\n",
    "image_parameters = [(0, th_obs, orient, 'cyan'), (1., th_obs, orient, 'green')]"
   ]
  },
  {
   "cell_type": "code",
   "execution_count": 25,
   "metadata": {},
   "outputs": [],
   "source": [
    "gimage = 'M87_EHT'"
   ]
  },
  {
   "cell_type": "code",
   "execution_count": 26,
   "metadata": {
    "scrolled": false
   },
   "outputs": [
    {
     "name": "stdout",
     "output_type": "stream",
     "text": [
      "M87_EHT  resolution: (474, 474, 4)\n",
      "figsize:  (4.74, 4.74)\n",
      "a/m = 0   theta_obs = 0.888888888888889*pi\n",
      "a/m = 1.00000000000000   theta_obs = 0.888888888888889*pi\n",
      "rmin :  1.80513274742777   rmax :  2.98032420210041\n",
      "rmin_col :  1   rmax_col :  4.0\n"
     ]
    },
    {
     "data": {
      "application/javascript": [
       "/* Put everything inside the global mpl namespace */\n",
       "/* global mpl */\n",
       "window.mpl = {};\n",
       "\n",
       "mpl.get_websocket_type = function () {\n",
       "    if (typeof WebSocket !== 'undefined') {\n",
       "        return WebSocket;\n",
       "    } else if (typeof MozWebSocket !== 'undefined') {\n",
       "        return MozWebSocket;\n",
       "    } else {\n",
       "        alert(\n",
       "            'Your browser does not have WebSocket support. ' +\n",
       "                'Please try Chrome, Safari or Firefox ≥ 6. ' +\n",
       "                'Firefox 4 and 5 are also supported but you ' +\n",
       "                'have to enable WebSockets in about:config.'\n",
       "        );\n",
       "    }\n",
       "};\n",
       "\n",
       "mpl.figure = function (figure_id, websocket, ondownload, parent_element) {\n",
       "    this.id = figure_id;\n",
       "\n",
       "    this.ws = websocket;\n",
       "\n",
       "    this.supports_binary = this.ws.binaryType !== undefined;\n",
       "\n",
       "    if (!this.supports_binary) {\n",
       "        var warnings = document.getElementById('mpl-warnings');\n",
       "        if (warnings) {\n",
       "            warnings.style.display = 'block';\n",
       "            warnings.textContent =\n",
       "                'This browser does not support binary websocket messages. ' +\n",
       "                'Performance may be slow.';\n",
       "        }\n",
       "    }\n",
       "\n",
       "    this.imageObj = new Image();\n",
       "\n",
       "    this.context = undefined;\n",
       "    this.message = undefined;\n",
       "    this.canvas = undefined;\n",
       "    this.rubberband_canvas = undefined;\n",
       "    this.rubberband_context = undefined;\n",
       "    this.format_dropdown = undefined;\n",
       "\n",
       "    this.image_mode = 'full';\n",
       "\n",
       "    this.root = document.createElement('div');\n",
       "    this.root.setAttribute('style', 'display: inline-block');\n",
       "    this._root_extra_style(this.root);\n",
       "\n",
       "    parent_element.appendChild(this.root);\n",
       "\n",
       "    this._init_header(this);\n",
       "    this._init_canvas(this);\n",
       "    this._init_toolbar(this);\n",
       "\n",
       "    var fig = this;\n",
       "\n",
       "    this.waiting = false;\n",
       "\n",
       "    this.ws.onopen = function () {\n",
       "        fig.send_message('supports_binary', { value: fig.supports_binary });\n",
       "        fig.send_message('send_image_mode', {});\n",
       "        if (fig.ratio !== 1) {\n",
       "            fig.send_message('set_dpi_ratio', { dpi_ratio: fig.ratio });\n",
       "        }\n",
       "        fig.send_message('refresh', {});\n",
       "    };\n",
       "\n",
       "    this.imageObj.onload = function () {\n",
       "        if (fig.image_mode === 'full') {\n",
       "            // Full images could contain transparency (where diff images\n",
       "            // almost always do), so we need to clear the canvas so that\n",
       "            // there is no ghosting.\n",
       "            fig.context.clearRect(0, 0, fig.canvas.width, fig.canvas.height);\n",
       "        }\n",
       "        fig.context.drawImage(fig.imageObj, 0, 0);\n",
       "    };\n",
       "\n",
       "    this.imageObj.onunload = function () {\n",
       "        fig.ws.close();\n",
       "    };\n",
       "\n",
       "    this.ws.onmessage = this._make_on_message_function(this);\n",
       "\n",
       "    this.ondownload = ondownload;\n",
       "};\n",
       "\n",
       "mpl.figure.prototype._init_header = function () {\n",
       "    var titlebar = document.createElement('div');\n",
       "    titlebar.classList =\n",
       "        'ui-dialog-titlebar ui-widget-header ui-corner-all ui-helper-clearfix';\n",
       "    var titletext = document.createElement('div');\n",
       "    titletext.classList = 'ui-dialog-title';\n",
       "    titletext.setAttribute(\n",
       "        'style',\n",
       "        'width: 100%; text-align: center; padding: 3px;'\n",
       "    );\n",
       "    titlebar.appendChild(titletext);\n",
       "    this.root.appendChild(titlebar);\n",
       "    this.header = titletext;\n",
       "};\n",
       "\n",
       "mpl.figure.prototype._canvas_extra_style = function (_canvas_div) {};\n",
       "\n",
       "mpl.figure.prototype._root_extra_style = function (_canvas_div) {};\n",
       "\n",
       "mpl.figure.prototype._init_canvas = function () {\n",
       "    var fig = this;\n",
       "\n",
       "    var canvas_div = (this.canvas_div = document.createElement('div'));\n",
       "    canvas_div.setAttribute(\n",
       "        'style',\n",
       "        'border: 1px solid #ddd;' +\n",
       "            'box-sizing: content-box;' +\n",
       "            'clear: both;' +\n",
       "            'min-height: 1px;' +\n",
       "            'min-width: 1px;' +\n",
       "            'outline: 0;' +\n",
       "            'overflow: hidden;' +\n",
       "            'position: relative;' +\n",
       "            'resize: both;'\n",
       "    );\n",
       "\n",
       "    function on_keyboard_event_closure(name) {\n",
       "        return function (event) {\n",
       "            return fig.key_event(event, name);\n",
       "        };\n",
       "    }\n",
       "\n",
       "    canvas_div.addEventListener(\n",
       "        'keydown',\n",
       "        on_keyboard_event_closure('key_press')\n",
       "    );\n",
       "    canvas_div.addEventListener(\n",
       "        'keyup',\n",
       "        on_keyboard_event_closure('key_release')\n",
       "    );\n",
       "\n",
       "    this._canvas_extra_style(canvas_div);\n",
       "    this.root.appendChild(canvas_div);\n",
       "\n",
       "    var canvas = (this.canvas = document.createElement('canvas'));\n",
       "    canvas.classList.add('mpl-canvas');\n",
       "    canvas.setAttribute('style', 'box-sizing: content-box;');\n",
       "\n",
       "    this.context = canvas.getContext('2d');\n",
       "\n",
       "    var backingStore =\n",
       "        this.context.backingStorePixelRatio ||\n",
       "        this.context.webkitBackingStorePixelRatio ||\n",
       "        this.context.mozBackingStorePixelRatio ||\n",
       "        this.context.msBackingStorePixelRatio ||\n",
       "        this.context.oBackingStorePixelRatio ||\n",
       "        this.context.backingStorePixelRatio ||\n",
       "        1;\n",
       "\n",
       "    this.ratio = (window.devicePixelRatio || 1) / backingStore;\n",
       "    if (this.ratio !== 1) {\n",
       "        fig.send_message('set_dpi_ratio', { dpi_ratio: this.ratio });\n",
       "    }\n",
       "\n",
       "    var rubberband_canvas = (this.rubberband_canvas = document.createElement(\n",
       "        'canvas'\n",
       "    ));\n",
       "    rubberband_canvas.setAttribute(\n",
       "        'style',\n",
       "        'box-sizing: content-box; position: absolute; left: 0; top: 0; z-index: 1;'\n",
       "    );\n",
       "\n",
       "    var resizeObserver = new ResizeObserver(function (entries) {\n",
       "        var nentries = entries.length;\n",
       "        for (var i = 0; i < nentries; i++) {\n",
       "            var entry = entries[i];\n",
       "            var width, height;\n",
       "            if (entry.contentBoxSize) {\n",
       "                if (entry.contentBoxSize instanceof Array) {\n",
       "                    // Chrome 84 implements new version of spec.\n",
       "                    width = entry.contentBoxSize[0].inlineSize;\n",
       "                    height = entry.contentBoxSize[0].blockSize;\n",
       "                } else {\n",
       "                    // Firefox implements old version of spec.\n",
       "                    width = entry.contentBoxSize.inlineSize;\n",
       "                    height = entry.contentBoxSize.blockSize;\n",
       "                }\n",
       "            } else {\n",
       "                // Chrome <84 implements even older version of spec.\n",
       "                width = entry.contentRect.width;\n",
       "                height = entry.contentRect.height;\n",
       "            }\n",
       "\n",
       "            // Keep the size of the canvas and rubber band canvas in sync with\n",
       "            // the canvas container.\n",
       "            if (entry.devicePixelContentBoxSize) {\n",
       "                // Chrome 84 implements new version of spec.\n",
       "                canvas.setAttribute(\n",
       "                    'width',\n",
       "                    entry.devicePixelContentBoxSize[0].inlineSize\n",
       "                );\n",
       "                canvas.setAttribute(\n",
       "                    'height',\n",
       "                    entry.devicePixelContentBoxSize[0].blockSize\n",
       "                );\n",
       "            } else {\n",
       "                canvas.setAttribute('width', width * fig.ratio);\n",
       "                canvas.setAttribute('height', height * fig.ratio);\n",
       "            }\n",
       "            canvas.setAttribute(\n",
       "                'style',\n",
       "                'width: ' + width + 'px; height: ' + height + 'px;'\n",
       "            );\n",
       "\n",
       "            rubberband_canvas.setAttribute('width', width);\n",
       "            rubberband_canvas.setAttribute('height', height);\n",
       "\n",
       "            // And update the size in Python. We ignore the initial 0/0 size\n",
       "            // that occurs as the element is placed into the DOM, which should\n",
       "            // otherwise not happen due to the minimum size styling.\n",
       "            if (width != 0 && height != 0) {\n",
       "                fig.request_resize(width, height);\n",
       "            }\n",
       "        }\n",
       "    });\n",
       "    resizeObserver.observe(canvas_div);\n",
       "\n",
       "    function on_mouse_event_closure(name) {\n",
       "        return function (event) {\n",
       "            return fig.mouse_event(event, name);\n",
       "        };\n",
       "    }\n",
       "\n",
       "    rubberband_canvas.addEventListener(\n",
       "        'mousedown',\n",
       "        on_mouse_event_closure('button_press')\n",
       "    );\n",
       "    rubberband_canvas.addEventListener(\n",
       "        'mouseup',\n",
       "        on_mouse_event_closure('button_release')\n",
       "    );\n",
       "    // Throttle sequential mouse events to 1 every 20ms.\n",
       "    rubberband_canvas.addEventListener(\n",
       "        'mousemove',\n",
       "        on_mouse_event_closure('motion_notify')\n",
       "    );\n",
       "\n",
       "    rubberband_canvas.addEventListener(\n",
       "        'mouseenter',\n",
       "        on_mouse_event_closure('figure_enter')\n",
       "    );\n",
       "    rubberband_canvas.addEventListener(\n",
       "        'mouseleave',\n",
       "        on_mouse_event_closure('figure_leave')\n",
       "    );\n",
       "\n",
       "    canvas_div.addEventListener('wheel', function (event) {\n",
       "        if (event.deltaY < 0) {\n",
       "            event.step = 1;\n",
       "        } else {\n",
       "            event.step = -1;\n",
       "        }\n",
       "        on_mouse_event_closure('scroll')(event);\n",
       "    });\n",
       "\n",
       "    canvas_div.appendChild(canvas);\n",
       "    canvas_div.appendChild(rubberband_canvas);\n",
       "\n",
       "    this.rubberband_context = rubberband_canvas.getContext('2d');\n",
       "    this.rubberband_context.strokeStyle = '#000000';\n",
       "\n",
       "    this._resize_canvas = function (width, height, forward) {\n",
       "        if (forward) {\n",
       "            canvas_div.style.width = width + 'px';\n",
       "            canvas_div.style.height = height + 'px';\n",
       "        }\n",
       "    };\n",
       "\n",
       "    // Disable right mouse context menu.\n",
       "    this.rubberband_canvas.addEventListener('contextmenu', function (_e) {\n",
       "        event.preventDefault();\n",
       "        return false;\n",
       "    });\n",
       "\n",
       "    function set_focus() {\n",
       "        canvas.focus();\n",
       "        canvas_div.focus();\n",
       "    }\n",
       "\n",
       "    window.setTimeout(set_focus, 100);\n",
       "};\n",
       "\n",
       "mpl.figure.prototype._init_toolbar = function () {\n",
       "    var fig = this;\n",
       "\n",
       "    var toolbar = document.createElement('div');\n",
       "    toolbar.classList = 'mpl-toolbar';\n",
       "    this.root.appendChild(toolbar);\n",
       "\n",
       "    function on_click_closure(name) {\n",
       "        return function (_event) {\n",
       "            return fig.toolbar_button_onclick(name);\n",
       "        };\n",
       "    }\n",
       "\n",
       "    function on_mouseover_closure(tooltip) {\n",
       "        return function (event) {\n",
       "            if (!event.currentTarget.disabled) {\n",
       "                return fig.toolbar_button_onmouseover(tooltip);\n",
       "            }\n",
       "        };\n",
       "    }\n",
       "\n",
       "    fig.buttons = {};\n",
       "    var buttonGroup = document.createElement('div');\n",
       "    buttonGroup.classList = 'mpl-button-group';\n",
       "    for (var toolbar_ind in mpl.toolbar_items) {\n",
       "        var name = mpl.toolbar_items[toolbar_ind][0];\n",
       "        var tooltip = mpl.toolbar_items[toolbar_ind][1];\n",
       "        var image = mpl.toolbar_items[toolbar_ind][2];\n",
       "        var method_name = mpl.toolbar_items[toolbar_ind][3];\n",
       "\n",
       "        if (!name) {\n",
       "            /* Instead of a spacer, we start a new button group. */\n",
       "            if (buttonGroup.hasChildNodes()) {\n",
       "                toolbar.appendChild(buttonGroup);\n",
       "            }\n",
       "            buttonGroup = document.createElement('div');\n",
       "            buttonGroup.classList = 'mpl-button-group';\n",
       "            continue;\n",
       "        }\n",
       "\n",
       "        var button = (fig.buttons[name] = document.createElement('button'));\n",
       "        button.classList = 'mpl-widget';\n",
       "        button.setAttribute('role', 'button');\n",
       "        button.setAttribute('aria-disabled', 'false');\n",
       "        button.addEventListener('click', on_click_closure(method_name));\n",
       "        button.addEventListener('mouseover', on_mouseover_closure(tooltip));\n",
       "\n",
       "        var icon_img = document.createElement('img');\n",
       "        icon_img.src = '_images/' + image + '.png';\n",
       "        icon_img.srcset = '_images/' + image + '_large.png 2x';\n",
       "        icon_img.alt = tooltip;\n",
       "        button.appendChild(icon_img);\n",
       "\n",
       "        buttonGroup.appendChild(button);\n",
       "    }\n",
       "\n",
       "    if (buttonGroup.hasChildNodes()) {\n",
       "        toolbar.appendChild(buttonGroup);\n",
       "    }\n",
       "\n",
       "    var fmt_picker = document.createElement('select');\n",
       "    fmt_picker.classList = 'mpl-widget';\n",
       "    toolbar.appendChild(fmt_picker);\n",
       "    this.format_dropdown = fmt_picker;\n",
       "\n",
       "    for (var ind in mpl.extensions) {\n",
       "        var fmt = mpl.extensions[ind];\n",
       "        var option = document.createElement('option');\n",
       "        option.selected = fmt === mpl.default_extension;\n",
       "        option.innerHTML = fmt;\n",
       "        fmt_picker.appendChild(option);\n",
       "    }\n",
       "\n",
       "    var status_bar = document.createElement('span');\n",
       "    status_bar.classList = 'mpl-message';\n",
       "    toolbar.appendChild(status_bar);\n",
       "    this.message = status_bar;\n",
       "};\n",
       "\n",
       "mpl.figure.prototype.request_resize = function (x_pixels, y_pixels) {\n",
       "    // Request matplotlib to resize the figure. Matplotlib will then trigger a resize in the client,\n",
       "    // which will in turn request a refresh of the image.\n",
       "    this.send_message('resize', { width: x_pixels, height: y_pixels });\n",
       "};\n",
       "\n",
       "mpl.figure.prototype.send_message = function (type, properties) {\n",
       "    properties['type'] = type;\n",
       "    properties['figure_id'] = this.id;\n",
       "    this.ws.send(JSON.stringify(properties));\n",
       "};\n",
       "\n",
       "mpl.figure.prototype.send_draw_message = function () {\n",
       "    if (!this.waiting) {\n",
       "        this.waiting = true;\n",
       "        this.ws.send(JSON.stringify({ type: 'draw', figure_id: this.id }));\n",
       "    }\n",
       "};\n",
       "\n",
       "mpl.figure.prototype.handle_save = function (fig, _msg) {\n",
       "    var format_dropdown = fig.format_dropdown;\n",
       "    var format = format_dropdown.options[format_dropdown.selectedIndex].value;\n",
       "    fig.ondownload(fig, format);\n",
       "};\n",
       "\n",
       "mpl.figure.prototype.handle_resize = function (fig, msg) {\n",
       "    var size = msg['size'];\n",
       "    if (size[0] !== fig.canvas.width || size[1] !== fig.canvas.height) {\n",
       "        fig._resize_canvas(size[0], size[1], msg['forward']);\n",
       "        fig.send_message('refresh', {});\n",
       "    }\n",
       "};\n",
       "\n",
       "mpl.figure.prototype.handle_rubberband = function (fig, msg) {\n",
       "    var x0 = msg['x0'] / fig.ratio;\n",
       "    var y0 = (fig.canvas.height - msg['y0']) / fig.ratio;\n",
       "    var x1 = msg['x1'] / fig.ratio;\n",
       "    var y1 = (fig.canvas.height - msg['y1']) / fig.ratio;\n",
       "    x0 = Math.floor(x0) + 0.5;\n",
       "    y0 = Math.floor(y0) + 0.5;\n",
       "    x1 = Math.floor(x1) + 0.5;\n",
       "    y1 = Math.floor(y1) + 0.5;\n",
       "    var min_x = Math.min(x0, x1);\n",
       "    var min_y = Math.min(y0, y1);\n",
       "    var width = Math.abs(x1 - x0);\n",
       "    var height = Math.abs(y1 - y0);\n",
       "\n",
       "    fig.rubberband_context.clearRect(\n",
       "        0,\n",
       "        0,\n",
       "        fig.canvas.width / fig.ratio,\n",
       "        fig.canvas.height / fig.ratio\n",
       "    );\n",
       "\n",
       "    fig.rubberband_context.strokeRect(min_x, min_y, width, height);\n",
       "};\n",
       "\n",
       "mpl.figure.prototype.handle_figure_label = function (fig, msg) {\n",
       "    // Updates the figure title.\n",
       "    fig.header.textContent = msg['label'];\n",
       "};\n",
       "\n",
       "mpl.figure.prototype.handle_cursor = function (fig, msg) {\n",
       "    var cursor = msg['cursor'];\n",
       "    switch (cursor) {\n",
       "        case 0:\n",
       "            cursor = 'pointer';\n",
       "            break;\n",
       "        case 1:\n",
       "            cursor = 'default';\n",
       "            break;\n",
       "        case 2:\n",
       "            cursor = 'crosshair';\n",
       "            break;\n",
       "        case 3:\n",
       "            cursor = 'move';\n",
       "            break;\n",
       "    }\n",
       "    fig.rubberband_canvas.style.cursor = cursor;\n",
       "};\n",
       "\n",
       "mpl.figure.prototype.handle_message = function (fig, msg) {\n",
       "    fig.message.textContent = msg['message'];\n",
       "};\n",
       "\n",
       "mpl.figure.prototype.handle_draw = function (fig, _msg) {\n",
       "    // Request the server to send over a new figure.\n",
       "    fig.send_draw_message();\n",
       "};\n",
       "\n",
       "mpl.figure.prototype.handle_image_mode = function (fig, msg) {\n",
       "    fig.image_mode = msg['mode'];\n",
       "};\n",
       "\n",
       "mpl.figure.prototype.handle_history_buttons = function (fig, msg) {\n",
       "    for (var key in msg) {\n",
       "        if (!(key in fig.buttons)) {\n",
       "            continue;\n",
       "        }\n",
       "        fig.buttons[key].disabled = !msg[key];\n",
       "        fig.buttons[key].setAttribute('aria-disabled', !msg[key]);\n",
       "    }\n",
       "};\n",
       "\n",
       "mpl.figure.prototype.handle_navigate_mode = function (fig, msg) {\n",
       "    if (msg['mode'] === 'PAN') {\n",
       "        fig.buttons['Pan'].classList.add('active');\n",
       "        fig.buttons['Zoom'].classList.remove('active');\n",
       "    } else if (msg['mode'] === 'ZOOM') {\n",
       "        fig.buttons['Pan'].classList.remove('active');\n",
       "        fig.buttons['Zoom'].classList.add('active');\n",
       "    } else {\n",
       "        fig.buttons['Pan'].classList.remove('active');\n",
       "        fig.buttons['Zoom'].classList.remove('active');\n",
       "    }\n",
       "};\n",
       "\n",
       "mpl.figure.prototype.updated_canvas_event = function () {\n",
       "    // Called whenever the canvas gets updated.\n",
       "    this.send_message('ack', {});\n",
       "};\n",
       "\n",
       "// A function to construct a web socket function for onmessage handling.\n",
       "// Called in the figure constructor.\n",
       "mpl.figure.prototype._make_on_message_function = function (fig) {\n",
       "    return function socket_on_message(evt) {\n",
       "        if (evt.data instanceof Blob) {\n",
       "            /* FIXME: We get \"Resource interpreted as Image but\n",
       "             * transferred with MIME type text/plain:\" errors on\n",
       "             * Chrome.  But how to set the MIME type?  It doesn't seem\n",
       "             * to be part of the websocket stream */\n",
       "            evt.data.type = 'image/png';\n",
       "\n",
       "            /* Free the memory for the previous frames */\n",
       "            if (fig.imageObj.src) {\n",
       "                (window.URL || window.webkitURL).revokeObjectURL(\n",
       "                    fig.imageObj.src\n",
       "                );\n",
       "            }\n",
       "\n",
       "            fig.imageObj.src = (window.URL || window.webkitURL).createObjectURL(\n",
       "                evt.data\n",
       "            );\n",
       "            fig.updated_canvas_event();\n",
       "            fig.waiting = false;\n",
       "            return;\n",
       "        } else if (\n",
       "            typeof evt.data === 'string' &&\n",
       "            evt.data.slice(0, 21) === 'data:image/png;base64'\n",
       "        ) {\n",
       "            fig.imageObj.src = evt.data;\n",
       "            fig.updated_canvas_event();\n",
       "            fig.waiting = false;\n",
       "            return;\n",
       "        }\n",
       "\n",
       "        var msg = JSON.parse(evt.data);\n",
       "        var msg_type = msg['type'];\n",
       "\n",
       "        // Call the  \"handle_{type}\" callback, which takes\n",
       "        // the figure and JSON message as its only arguments.\n",
       "        try {\n",
       "            var callback = fig['handle_' + msg_type];\n",
       "        } catch (e) {\n",
       "            console.log(\n",
       "                \"No handler for the '\" + msg_type + \"' message type: \",\n",
       "                msg\n",
       "            );\n",
       "            return;\n",
       "        }\n",
       "\n",
       "        if (callback) {\n",
       "            try {\n",
       "                // console.log(\"Handling '\" + msg_type + \"' message: \", msg);\n",
       "                callback(fig, msg);\n",
       "            } catch (e) {\n",
       "                console.log(\n",
       "                    \"Exception inside the 'handler_\" + msg_type + \"' callback:\",\n",
       "                    e,\n",
       "                    e.stack,\n",
       "                    msg\n",
       "                );\n",
       "            }\n",
       "        }\n",
       "    };\n",
       "};\n",
       "\n",
       "// from http://stackoverflow.com/questions/1114465/getting-mouse-location-in-canvas\n",
       "mpl.findpos = function (e) {\n",
       "    //this section is from http://www.quirksmode.org/js/events_properties.html\n",
       "    var targ;\n",
       "    if (!e) {\n",
       "        e = window.event;\n",
       "    }\n",
       "    if (e.target) {\n",
       "        targ = e.target;\n",
       "    } else if (e.srcElement) {\n",
       "        targ = e.srcElement;\n",
       "    }\n",
       "    if (targ.nodeType === 3) {\n",
       "        // defeat Safari bug\n",
       "        targ = targ.parentNode;\n",
       "    }\n",
       "\n",
       "    // pageX,Y are the mouse positions relative to the document\n",
       "    var boundingRect = targ.getBoundingClientRect();\n",
       "    var x = e.pageX - (boundingRect.left + document.body.scrollLeft);\n",
       "    var y = e.pageY - (boundingRect.top + document.body.scrollTop);\n",
       "\n",
       "    return { x: x, y: y };\n",
       "};\n",
       "\n",
       "/*\n",
       " * return a copy of an object with only non-object keys\n",
       " * we need this to avoid circular references\n",
       " * http://stackoverflow.com/a/24161582/3208463\n",
       " */\n",
       "function simpleKeys(original) {\n",
       "    return Object.keys(original).reduce(function (obj, key) {\n",
       "        if (typeof original[key] !== 'object') {\n",
       "            obj[key] = original[key];\n",
       "        }\n",
       "        return obj;\n",
       "    }, {});\n",
       "}\n",
       "\n",
       "mpl.figure.prototype.mouse_event = function (event, name) {\n",
       "    var canvas_pos = mpl.findpos(event);\n",
       "\n",
       "    if (name === 'button_press') {\n",
       "        this.canvas.focus();\n",
       "        this.canvas_div.focus();\n",
       "    }\n",
       "\n",
       "    var x = canvas_pos.x * this.ratio;\n",
       "    var y = canvas_pos.y * this.ratio;\n",
       "\n",
       "    this.send_message(name, {\n",
       "        x: x,\n",
       "        y: y,\n",
       "        button: event.button,\n",
       "        step: event.step,\n",
       "        guiEvent: simpleKeys(event),\n",
       "    });\n",
       "\n",
       "    /* This prevents the web browser from automatically changing to\n",
       "     * the text insertion cursor when the button is pressed.  We want\n",
       "     * to control all of the cursor setting manually through the\n",
       "     * 'cursor' event from matplotlib */\n",
       "    event.preventDefault();\n",
       "    return false;\n",
       "};\n",
       "\n",
       "mpl.figure.prototype._key_event_extra = function (_event, _name) {\n",
       "    // Handle any extra behaviour associated with a key event\n",
       "};\n",
       "\n",
       "mpl.figure.prototype.key_event = function (event, name) {\n",
       "    // Prevent repeat events\n",
       "    if (name === 'key_press') {\n",
       "        if (event.which === this._key) {\n",
       "            return;\n",
       "        } else {\n",
       "            this._key = event.which;\n",
       "        }\n",
       "    }\n",
       "    if (name === 'key_release') {\n",
       "        this._key = null;\n",
       "    }\n",
       "\n",
       "    var value = '';\n",
       "    if (event.ctrlKey && event.which !== 17) {\n",
       "        value += 'ctrl+';\n",
       "    }\n",
       "    if (event.altKey && event.which !== 18) {\n",
       "        value += 'alt+';\n",
       "    }\n",
       "    if (event.shiftKey && event.which !== 16) {\n",
       "        value += 'shift+';\n",
       "    }\n",
       "\n",
       "    value += 'k';\n",
       "    value += event.which.toString();\n",
       "\n",
       "    this._key_event_extra(event, name);\n",
       "\n",
       "    this.send_message(name, { key: value, guiEvent: simpleKeys(event) });\n",
       "    return false;\n",
       "};\n",
       "\n",
       "mpl.figure.prototype.toolbar_button_onclick = function (name) {\n",
       "    if (name === 'download') {\n",
       "        this.handle_save(this, null);\n",
       "    } else {\n",
       "        this.send_message('toolbar_button', { name: name });\n",
       "    }\n",
       "};\n",
       "\n",
       "mpl.figure.prototype.toolbar_button_onmouseover = function (tooltip) {\n",
       "    this.message.textContent = tooltip;\n",
       "};\n",
       "mpl.toolbar_items = [[\"Home\", \"Reset original view\", \"fa fa-home icon-home\", \"home\"], [\"Back\", \"Back to previous view\", \"fa fa-arrow-left icon-arrow-left\", \"back\"], [\"Forward\", \"Forward to next view\", \"fa fa-arrow-right icon-arrow-right\", \"forward\"], [\"\", \"\", \"\", \"\"], [\"Pan\", \"Left button pans, Right button zooms\\nx/y fixes axis, CTRL fixes aspect\", \"fa fa-arrows icon-move\", \"pan\"], [\"Zoom\", \"Zoom to rectangle\\nx/y fixes axis, CTRL fixes aspect\", \"fa fa-square-o icon-check-empty\", \"zoom\"], [\"\", \"\", \"\", \"\"], [\"Download\", \"Download plot\", \"fa fa-floppy-o icon-save\", \"download\"]];\n",
       "\n",
       "mpl.extensions = [\"eps\", \"jpeg\", \"pdf\", \"png\", \"ps\", \"raw\", \"svg\", \"tif\"];\n",
       "\n",
       "mpl.default_extension = \"png\";/* global mpl */\n",
       "\n",
       "var comm_websocket_adapter = function (comm) {\n",
       "    // Create a \"websocket\"-like object which calls the given IPython comm\n",
       "    // object with the appropriate methods. Currently this is a non binary\n",
       "    // socket, so there is still some room for performance tuning.\n",
       "    var ws = {};\n",
       "\n",
       "    ws.close = function () {\n",
       "        comm.close();\n",
       "    };\n",
       "    ws.send = function (m) {\n",
       "        //console.log('sending', m);\n",
       "        comm.send(m);\n",
       "    };\n",
       "    // Register the callback with on_msg.\n",
       "    comm.on_msg(function (msg) {\n",
       "        //console.log('receiving', msg['content']['data'], msg);\n",
       "        // Pass the mpl event to the overridden (by mpl) onmessage function.\n",
       "        ws.onmessage(msg['content']['data']);\n",
       "    });\n",
       "    return ws;\n",
       "};\n",
       "\n",
       "mpl.mpl_figure_comm = function (comm, msg) {\n",
       "    // This is the function which gets called when the mpl process\n",
       "    // starts-up an IPython Comm through the \"matplotlib\" channel.\n",
       "\n",
       "    var id = msg.content.data.id;\n",
       "    // Get hold of the div created by the display call when the Comm\n",
       "    // socket was opened in Python.\n",
       "    var element = document.getElementById(id);\n",
       "    var ws_proxy = comm_websocket_adapter(comm);\n",
       "\n",
       "    function ondownload(figure, _format) {\n",
       "        window.open(figure.canvas.toDataURL());\n",
       "    }\n",
       "\n",
       "    var fig = new mpl.figure(id, ws_proxy, ondownload, element);\n",
       "\n",
       "    // Call onopen now - mpl needs it, as it is assuming we've passed it a real\n",
       "    // web socket which is closed, not our websocket->open comm proxy.\n",
       "    ws_proxy.onopen();\n",
       "\n",
       "    fig.parent_element = element;\n",
       "    fig.cell_info = mpl.find_output_cell(\"<div id='\" + id + \"'></div>\");\n",
       "    if (!fig.cell_info) {\n",
       "        console.error('Failed to find cell for figure', id, fig);\n",
       "        return;\n",
       "    }\n",
       "    fig.cell_info[0].output_area.element.one(\n",
       "        'cleared',\n",
       "        { fig: fig },\n",
       "        fig._remove_fig_handler\n",
       "    );\n",
       "};\n",
       "\n",
       "mpl.figure.prototype.handle_close = function (fig, msg) {\n",
       "    var width = fig.canvas.width / fig.ratio;\n",
       "    fig.cell_info[0].output_area.element.off(\n",
       "        'cleared',\n",
       "        fig._remove_fig_handler\n",
       "    );\n",
       "\n",
       "    // Update the output cell to use the data from the current canvas.\n",
       "    fig.push_to_output();\n",
       "    var dataURL = fig.canvas.toDataURL();\n",
       "    // Re-enable the keyboard manager in IPython - without this line, in FF,\n",
       "    // the notebook keyboard shortcuts fail.\n",
       "    IPython.keyboard_manager.enable();\n",
       "    fig.parent_element.innerHTML =\n",
       "        '<img src=\"' + dataURL + '\" width=\"' + width + '\">';\n",
       "    fig.close_ws(fig, msg);\n",
       "};\n",
       "\n",
       "mpl.figure.prototype.close_ws = function (fig, msg) {\n",
       "    fig.send_message('closing', msg);\n",
       "    // fig.ws.close()\n",
       "};\n",
       "\n",
       "mpl.figure.prototype.push_to_output = function (_remove_interactive) {\n",
       "    // Turn the data on the canvas into data in the output cell.\n",
       "    var width = this.canvas.width / this.ratio;\n",
       "    var dataURL = this.canvas.toDataURL();\n",
       "    this.cell_info[1]['text/html'] =\n",
       "        '<img src=\"' + dataURL + '\" width=\"' + width + '\">';\n",
       "};\n",
       "\n",
       "mpl.figure.prototype.updated_canvas_event = function () {\n",
       "    // Tell IPython that the notebook contents must change.\n",
       "    IPython.notebook.set_dirty(true);\n",
       "    this.send_message('ack', {});\n",
       "    var fig = this;\n",
       "    // Wait a second, then push the new image to the DOM so\n",
       "    // that it is saved nicely (might be nice to debounce this).\n",
       "    setTimeout(function () {\n",
       "        fig.push_to_output();\n",
       "    }, 1000);\n",
       "};\n",
       "\n",
       "mpl.figure.prototype._init_toolbar = function () {\n",
       "    var fig = this;\n",
       "\n",
       "    var toolbar = document.createElement('div');\n",
       "    toolbar.classList = 'btn-toolbar';\n",
       "    this.root.appendChild(toolbar);\n",
       "\n",
       "    function on_click_closure(name) {\n",
       "        return function (_event) {\n",
       "            return fig.toolbar_button_onclick(name);\n",
       "        };\n",
       "    }\n",
       "\n",
       "    function on_mouseover_closure(tooltip) {\n",
       "        return function (event) {\n",
       "            if (!event.currentTarget.disabled) {\n",
       "                return fig.toolbar_button_onmouseover(tooltip);\n",
       "            }\n",
       "        };\n",
       "    }\n",
       "\n",
       "    fig.buttons = {};\n",
       "    var buttonGroup = document.createElement('div');\n",
       "    buttonGroup.classList = 'btn-group';\n",
       "    var button;\n",
       "    for (var toolbar_ind in mpl.toolbar_items) {\n",
       "        var name = mpl.toolbar_items[toolbar_ind][0];\n",
       "        var tooltip = mpl.toolbar_items[toolbar_ind][1];\n",
       "        var image = mpl.toolbar_items[toolbar_ind][2];\n",
       "        var method_name = mpl.toolbar_items[toolbar_ind][3];\n",
       "\n",
       "        if (!name) {\n",
       "            /* Instead of a spacer, we start a new button group. */\n",
       "            if (buttonGroup.hasChildNodes()) {\n",
       "                toolbar.appendChild(buttonGroup);\n",
       "            }\n",
       "            buttonGroup = document.createElement('div');\n",
       "            buttonGroup.classList = 'btn-group';\n",
       "            continue;\n",
       "        }\n",
       "\n",
       "        button = fig.buttons[name] = document.createElement('button');\n",
       "        button.classList = 'btn btn-default';\n",
       "        button.href = '#';\n",
       "        button.title = name;\n",
       "        button.innerHTML = '<i class=\"fa ' + image + ' fa-lg\"></i>';\n",
       "        button.addEventListener('click', on_click_closure(method_name));\n",
       "        button.addEventListener('mouseover', on_mouseover_closure(tooltip));\n",
       "        buttonGroup.appendChild(button);\n",
       "    }\n",
       "\n",
       "    if (buttonGroup.hasChildNodes()) {\n",
       "        toolbar.appendChild(buttonGroup);\n",
       "    }\n",
       "\n",
       "    // Add the status bar.\n",
       "    var status_bar = document.createElement('span');\n",
       "    status_bar.classList = 'mpl-message pull-right';\n",
       "    toolbar.appendChild(status_bar);\n",
       "    this.message = status_bar;\n",
       "\n",
       "    // Add the close button to the window.\n",
       "    var buttongrp = document.createElement('div');\n",
       "    buttongrp.classList = 'btn-group inline pull-right';\n",
       "    button = document.createElement('button');\n",
       "    button.classList = 'btn btn-mini btn-primary';\n",
       "    button.href = '#';\n",
       "    button.title = 'Stop Interaction';\n",
       "    button.innerHTML = '<i class=\"fa fa-power-off icon-remove icon-large\"></i>';\n",
       "    button.addEventListener('click', function (_evt) {\n",
       "        fig.handle_close(fig, {});\n",
       "    });\n",
       "    button.addEventListener(\n",
       "        'mouseover',\n",
       "        on_mouseover_closure('Stop Interaction')\n",
       "    );\n",
       "    buttongrp.appendChild(button);\n",
       "    var titlebar = this.root.querySelector('.ui-dialog-titlebar');\n",
       "    titlebar.insertBefore(buttongrp, titlebar.firstChild);\n",
       "};\n",
       "\n",
       "mpl.figure.prototype._remove_fig_handler = function (event) {\n",
       "    var fig = event.data.fig;\n",
       "    fig.close_ws(fig, {});\n",
       "};\n",
       "\n",
       "mpl.figure.prototype._root_extra_style = function (el) {\n",
       "    el.style.boxSizing = 'content-box'; // override notebook setting of border-box.\n",
       "};\n",
       "\n",
       "mpl.figure.prototype._canvas_extra_style = function (el) {\n",
       "    // this is important to make the div 'focusable\n",
       "    el.setAttribute('tabindex', 0);\n",
       "    // reach out to IPython and tell the keyboard manager to turn it's self\n",
       "    // off when our div gets focus\n",
       "\n",
       "    // location in version 3\n",
       "    if (IPython.notebook.keyboard_manager) {\n",
       "        IPython.notebook.keyboard_manager.register_events(el);\n",
       "    } else {\n",
       "        // location in version 2\n",
       "        IPython.keyboard_manager.register_events(el);\n",
       "    }\n",
       "};\n",
       "\n",
       "mpl.figure.prototype._key_event_extra = function (event, _name) {\n",
       "    var manager = IPython.notebook.keyboard_manager;\n",
       "    if (!manager) {\n",
       "        manager = IPython.keyboard_manager;\n",
       "    }\n",
       "\n",
       "    // Check for shift+enter\n",
       "    if (event.shiftKey && event.which === 13) {\n",
       "        this.canvas_div.blur();\n",
       "        // select the cell after this one\n",
       "        var index = IPython.notebook.find_cell_index(this.cell_info[0]);\n",
       "        IPython.notebook.select(index + 1);\n",
       "    }\n",
       "};\n",
       "\n",
       "mpl.figure.prototype.handle_save = function (fig, _msg) {\n",
       "    fig.ondownload(fig, null);\n",
       "};\n",
       "\n",
       "mpl.find_output_cell = function (html_output) {\n",
       "    // Return the cell and output element which can be found *uniquely* in the notebook.\n",
       "    // Note - this is a bit hacky, but it is done because the \"notebook_saving.Notebook\"\n",
       "    // IPython event is triggered only after the cells have been serialised, which for\n",
       "    // our purposes (turning an active figure into a static one), is too late.\n",
       "    var cells = IPython.notebook.get_cells();\n",
       "    var ncells = cells.length;\n",
       "    for (var i = 0; i < ncells; i++) {\n",
       "        var cell = cells[i];\n",
       "        if (cell.cell_type === 'code') {\n",
       "            for (var j = 0; j < cell.output_area.outputs.length; j++) {\n",
       "                var data = cell.output_area.outputs[j];\n",
       "                if (data.data) {\n",
       "                    // IPython >= 3 moved mimebundle to data attribute of output\n",
       "                    data = data.data;\n",
       "                }\n",
       "                if (data['text/html'] === html_output) {\n",
       "                    return [cell, data, j];\n",
       "                }\n",
       "            }\n",
       "        }\n",
       "    }\n",
       "};\n",
       "\n",
       "// Register the function which deals with the matplotlib target/channel.\n",
       "// The kernel may be null if the page has been refreshed.\n",
       "if (IPython.notebook.kernel !== null) {\n",
       "    IPython.notebook.kernel.comm_manager.register_target(\n",
       "        'matplotlib',\n",
       "        mpl.mpl_figure_comm\n",
       "    );\n",
       "}\n"
      ],
      "text/plain": [
       "<IPython.core.display.Javascript object>"
      ]
     },
     "metadata": {},
     "output_type": "display_data"
    },
    {
     "data": {
      "text/html": [
       "<img src=\"data:image/png;base64,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\" width=\"473.33333333333337\">"
      ],
      "text/plain": [
       "<IPython.core.display.HTML object>"
      ]
     },
     "metadata": {},
     "output_type": "display_data"
    }
   ],
   "source": [
    "%display plain\n",
    "%matplotlib notebook\n",
    "frame = True\n",
    "axes_labels = 'automatic'\n",
    "#axes_labels = False\n",
    "test_size = False\n",
    "raw = False\n",
    "img = mpimg.imread(gimage + '.png')\n",
    "print(gimage, \" resolution:\", img.shape)\n",
    "# size of the image in inches:\n",
    "figsize = (float(img.shape[0])/dpi, float(img.shape[1])/dpi)\n",
    "print(\"figsize: \", figsize)\n",
    "gcrit = Graphics()\n",
    "for a0, th_obs, orient, color in image_parameters:\n",
    "    print(\"a/m =\", a0, \"  theta_obs =\", th_obs)\n",
    "    # Critical curve as a SageMath graphics object from shadow_plot\n",
    "    if th_obs == 0:\n",
    "        th_obs = 0.001\n",
    "    if not raw:\n",
    "        g0 = shadow_plot(a0, th_obs, orientation=orient, fill=False, \n",
    "                         color=color, number_colors=1, thickness=2., \n",
    "                         linestyle=':', draw_spin=True,\n",
    "                         frame=frame, axes=False, \n",
    "                         axes_labels=axes_labels, gridlines=False, \n",
    "                         legend=False)\n",
    "        gcrit += g0\n",
    "        gcrit.axes_labels(g0.axes_labels())\n",
    "    else:\n",
    "        gcrit += empty_plot(fsize, axes_labels=axes_labels, frame=frame)\n",
    "    if test_size:\n",
    "        axes_labels_bck = gcrit.axes_labels()\n",
    "        gcrit += point((-fsize, 0), size=60, color='red', zorder=100)\n",
    "        gcrit += point((fsize, 0), size=60, color='red', zorder=100)\n",
    "        gcrit += point((0, -fsize), size=60, color='red', zorder=100)\n",
    "        gcrit += point((0, fsize), size=60, color='red', zorder=100)\n",
    "        gcrit.axes_labels(axes_labels_bck)\n",
    "gcrit.set_axes_range(-fsize, fsize, -fsize, fsize)\n",
    "# Matplotlib figure corresponding to gcrit:\n",
    "options = gcrit.SHOW_OPTIONS.copy()\n",
    "options.update(gcrit._extra_kwds)\n",
    "options['figsize'] = figsize\n",
    "options['axes_pad'] = 0\n",
    "options.pop('dpi')           # strip meaningless options for matplotlib\n",
    "options.pop('transparent')   #\n",
    "options.pop('fig_tight')     #\n",
    "fcrit = gcrit.matplotlib(**options)\n",
    "# Adding the M87ù* image onto it:\n",
    "ax = fcrit.axes[0]\n",
    "ax.imshow(img, extent=extent)\n",
    "# Save result to png and pdf\n",
    "ext = '_raw' if raw else '_crit'\n",
    "fcrit.savefig(gimage + ext + '.png', dpi=dpi, pad_inches=0, \n",
    "              bbox_inches='tight', transparent=True)\n",
    "fcrit.savefig(gimage + ext + '.pdf', pad_inches=0, \n",
    "              bbox_inches='tight')\n",
    "# Only for display in the current notebook:\n",
    "fig = plt.figure(figsize=figsize, dpi=dpi, frameon=False)\n",
    "imgc = mpimg.imread(gimage + '_crit.png')\n",
    "if axes_labels:\n",
    "    imgcp = plt.imshow(imgc)\n",
    "else:\n",
    "    imgcp = plt.imshow(imgc, extent=extent)"
   ]
  }
 ],
 "metadata": {
  "kernelspec": {
   "display_name": "SageMath 9.3.beta7",
   "language": "sage",
   "name": "sagemath"
  },
  "language_info": {
   "codemirror_mode": {
    "name": "ipython",
    "version": 3
   },
   "file_extension": ".py",
   "mimetype": "text/x-python",
   "name": "python",
   "nbconvert_exporter": "python",
   "pygments_lexer": "ipython3",
   "version": "3.8.5"
  }
 },
 "nbformat": 4,
 "nbformat_minor": 4
}
