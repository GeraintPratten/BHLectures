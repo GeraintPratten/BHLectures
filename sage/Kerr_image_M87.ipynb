{
 "cells": [
  {
   "cell_type": "markdown",
   "metadata": {},
   "source": [
    "# Critical curve of a Kerr black hole onto the EHT image of M87*\n",
    "\n",
    "This Jupyter/SageMath notebook is relative to the lectures\n",
    "[Geometry and physics of black holes](https://luth.obspm.fr/~luthier/gourgoulhon/bh16/)."
   ]
  },
  {
   "cell_type": "code",
   "execution_count": 1,
   "metadata": {},
   "outputs": [
    {
     "data": {
      "text/plain": [
       "'SageMath version 9.3.beta7, Release Date: 2021-02-07'"
      ]
     },
     "execution_count": 1,
     "metadata": {},
     "output_type": "execute_result"
    }
   ],
   "source": [
    "version()"
   ]
  },
  {
   "cell_type": "code",
   "execution_count": 2,
   "metadata": {},
   "outputs": [],
   "source": [
    "%display latex"
   ]
  },
  {
   "cell_type": "code",
   "execution_count": 3,
   "metadata": {},
   "outputs": [],
   "source": [
    "import matplotlib.image as mpimg\n",
    "import matplotlib.pyplot as plt"
   ]
  },
  {
   "cell_type": "markdown",
   "metadata": {},
   "source": [
    "## Functions $\\ell_{\\rm c}(r_0)$ and $q_{\\rm c}(r_0)$ for critical null geodesics\n",
    "\n",
    "We use $m=1$ and denote $r_0$ simply by $r$."
   ]
  },
  {
   "cell_type": "code",
   "execution_count": 4,
   "metadata": {},
   "outputs": [],
   "source": [
    "a, r = var('a r') "
   ]
  },
  {
   "cell_type": "code",
   "execution_count": 5,
   "metadata": {},
   "outputs": [
    {
     "data": {
      "text/html": [
       "<html><script type=\"math/tex; mode=display\">\\newcommand{\\Bold}[1]{\\mathbf{#1}}\\left( a, r \\right) \\ {\\mapsto} \\ -\\frac{a^{2} {\\left(r + 1\\right)} + {\\left(r - 3\\right)} r^{2}}{a {\\left(r - 1\\right)}}</script></html>"
      ],
      "text/latex": [
       "\\begin{math}\n",
       "\\newcommand{\\Bold}[1]{\\mathbf{#1}}\\left( a, r \\right) \\ {\\mapsto} \\ -\\frac{a^{2} {\\left(r + 1\\right)} + {\\left(r - 3\\right)} r^{2}}{a {\\left(r - 1\\right)}}\n",
       "\\end{math}"
      ],
      "text/plain": [
       "(a, r) |--> -(a^2*(r + 1) + (r - 3)*r^2)/(a*(r - 1))"
      ]
     },
     "execution_count": 5,
     "metadata": {},
     "output_type": "execute_result"
    }
   ],
   "source": [
    "lsph(a, r) = (r^2*(3 - r) - a^2*(r + 1))/(a*(r -1))\n",
    "lsph"
   ]
  },
  {
   "cell_type": "code",
   "execution_count": 6,
   "metadata": {},
   "outputs": [
    {
     "data": {
      "text/html": [
       "<html><script type=\"math/tex; mode=display\">\\newcommand{\\Bold}[1]{\\mathbf{#1}}\\left( a, r \\right) \\ {\\mapsto} \\ -\\frac{{\\left({\\left(r - 3\\right)}^{2} r - 4 \\, a^{2}\\right)} r^{3}}{a^{2} {\\left(r - 1\\right)}^{2}}</script></html>"
      ],
      "text/latex": [
       "\\begin{math}\n",
       "\\newcommand{\\Bold}[1]{\\mathbf{#1}}\\left( a, r \\right) \\ {\\mapsto} \\ -\\frac{{\\left({\\left(r - 3\\right)}^{2} r - 4 \\, a^{2}\\right)} r^{3}}{a^{2} {\\left(r - 1\\right)}^{2}}\n",
       "\\end{math}"
      ],
      "text/plain": [
       "(a, r) |--> -((r - 3)^2*r - 4*a^2)*r^3/(a^2*(r - 1)^2)"
      ]
     },
     "execution_count": 6,
     "metadata": {},
     "output_type": "execute_result"
    }
   ],
   "source": [
    "qsph(a, r) = r^3 / (a^2*(r - 1)^2) * (4*a^2 - r*(r - 3)^2)\n",
    "qsph"
   ]
  },
  {
   "cell_type": "markdown",
   "metadata": {},
   "source": [
    "The radii $r_+$ and $r_-$ of the two horizons:"
   ]
  },
  {
   "cell_type": "code",
   "execution_count": 7,
   "metadata": {},
   "outputs": [],
   "source": [
    "rp(a) = 1 + sqrt(1 - a^2)\n",
    "rm(a) = 1 - sqrt(1 - a^2)"
   ]
  },
  {
   "cell_type": "markdown",
   "metadata": {},
   "source": [
    "## Critical radii $r_{\\rm ph}^{**}$, $r_{\\rm ph}^*$, $r_{\\rm ph}^+$, $r_{\\rm ph}^-$, $r_{\\rm ph}^{\\rm ms}$ and $r_{\\rm ph}^{\\rm pol}$ "
   ]
  },
  {
   "cell_type": "code",
   "execution_count": 8,
   "metadata": {},
   "outputs": [
    {
     "data": {
      "text/html": [
       "<html><script type=\"math/tex; mode=display\">\\newcommand{\\Bold}[1]{\\mathbf{#1}}a \\ {\\mapsto}\\ \\cos\\left(\\frac{2}{3} \\, \\pi + \\frac{2}{3} \\, \\arcsin\\left(a\\right)\\right) + \\frac{1}{2}</script></html>"
      ],
      "text/latex": [
       "\\begin{math}\n",
       "\\newcommand{\\Bold}[1]{\\mathbf{#1}}a \\ {\\mapsto}\\ \\cos\\left(\\frac{2}{3} \\, \\pi + \\frac{2}{3} \\, \\arcsin\\left(a\\right)\\right) + \\frac{1}{2}\n",
       "\\end{math}"
      ],
      "text/plain": [
       "a |--> cos(2/3*pi + 2/3*arcsin(a)) + 1/2"
      ]
     },
     "execution_count": 8,
     "metadata": {},
     "output_type": "execute_result"
    }
   ],
   "source": [
    "rph_ss(a) = 1/2 + cos(2/3*asin(a) + 2*pi/3)\n",
    "rph_ss"
   ]
  },
  {
   "cell_type": "code",
   "execution_count": 9,
   "metadata": {},
   "outputs": [
    {
     "data": {
      "text/html": [
       "<html><script type=\"math/tex; mode=display\">\\newcommand{\\Bold}[1]{\\mathbf{#1}}a \\ {\\mapsto}\\ 4 \\, \\cos\\left(\\frac{4}{3} \\, \\pi + \\frac{1}{3} \\, \\arccos\\left(-a\\right)\\right)^{2}</script></html>"
      ],
      "text/latex": [
       "\\begin{math}\n",
       "\\newcommand{\\Bold}[1]{\\mathbf{#1}}a \\ {\\mapsto}\\ 4 \\, \\cos\\left(\\frac{4}{3} \\, \\pi + \\frac{1}{3} \\, \\arccos\\left(-a\\right)\\right)^{2}\n",
       "\\end{math}"
      ],
      "text/plain": [
       "a |--> 4*cos(4/3*pi + 1/3*arccos(-a))^2"
      ]
     },
     "execution_count": 9,
     "metadata": {},
     "output_type": "execute_result"
    }
   ],
   "source": [
    "rph_s(a) = 4*cos(acos(-a)/3 + 4*pi/3)^2\n",
    "rph_s"
   ]
  },
  {
   "cell_type": "code",
   "execution_count": 10,
   "metadata": {},
   "outputs": [
    {
     "data": {
      "text/html": [
       "<html><script type=\"math/tex; mode=display\">\\newcommand{\\Bold}[1]{\\mathbf{#1}}a \\ {\\mapsto}\\ 4 \\, \\cos\\left(\\frac{1}{3} \\, \\arccos\\left(-a\\right)\\right)^{2}</script></html>"
      ],
      "text/latex": [
       "\\begin{math}\n",
       "\\newcommand{\\Bold}[1]{\\mathbf{#1}}a \\ {\\mapsto}\\ 4 \\, \\cos\\left(\\frac{1}{3} \\, \\arccos\\left(-a\\right)\\right)^{2}\n",
       "\\end{math}"
      ],
      "text/plain": [
       "a |--> 4*cos(1/3*arccos(-a))^2"
      ]
     },
     "execution_count": 10,
     "metadata": {},
     "output_type": "execute_result"
    }
   ],
   "source": [
    "rph_p(a) = 4*cos(acos(-a)/3)^2\n",
    "rph_p"
   ]
  },
  {
   "cell_type": "code",
   "execution_count": 11,
   "metadata": {},
   "outputs": [
    {
     "data": {
      "text/html": [
       "<html><script type=\"math/tex; mode=display\">\\newcommand{\\Bold}[1]{\\mathbf{#1}}a \\ {\\mapsto}\\ 4 \\, \\cos\\left(\\frac{1}{3} \\, \\arccos\\left(a\\right)\\right)^{2}</script></html>"
      ],
      "text/latex": [
       "\\begin{math}\n",
       "\\newcommand{\\Bold}[1]{\\mathbf{#1}}a \\ {\\mapsto}\\ 4 \\, \\cos\\left(\\frac{1}{3} \\, \\arccos\\left(a\\right)\\right)^{2}\n",
       "\\end{math}"
      ],
      "text/plain": [
       "a |--> 4*cos(1/3*arccos(a))^2"
      ]
     },
     "execution_count": 11,
     "metadata": {},
     "output_type": "execute_result"
    }
   ],
   "source": [
    "rph_m(a) = 4*cos(acos(a)/3)^2\n",
    "rph_m"
   ]
  },
  {
   "cell_type": "markdown",
   "metadata": {},
   "source": [
    "We add the radius of the marginally stable orbit:"
   ]
  },
  {
   "cell_type": "code",
   "execution_count": 12,
   "metadata": {},
   "outputs": [
    {
     "data": {
      "text/html": [
       "<html><script type=\"math/tex; mode=display\">\\newcommand{\\Bold}[1]{\\mathbf{#1}}a \\ {\\mapsto}\\ -{\\left(-a^{2} + 1\\right)}^{\\frac{1}{3}} + 1</script></html>"
      ],
      "text/latex": [
       "\\begin{math}\n",
       "\\newcommand{\\Bold}[1]{\\mathbf{#1}}a \\ {\\mapsto}\\ -{\\left(-a^{2} + 1\\right)}^{\\frac{1}{3}} + 1\n",
       "\\end{math}"
      ],
      "text/plain": [
       "a |--> -(-a^2 + 1)^(1/3) + 1"
      ]
     },
     "execution_count": 12,
     "metadata": {},
     "output_type": "execute_result"
    }
   ],
   "source": [
    "rph_ms(a) = 1 - (1 - a^2)^(1/3)\n",
    "rph_ms"
   ]
  },
  {
   "cell_type": "markdown",
   "metadata": {},
   "source": [
    "as well as the radius of outer and inner polar orbits:"
   ]
  },
  {
   "cell_type": "code",
   "execution_count": 13,
   "metadata": {},
   "outputs": [
    {
     "data": {
      "text/html": [
       "<html><script type=\"math/tex; mode=display\">\\newcommand{\\Bold}[1]{\\mathbf{#1}}a \\ {\\mapsto}\\ 2 \\, \\sqrt{-\\frac{1}{3} \\, a^{2} + 1} \\cos\\left(\\frac{1}{3} \\, \\arccos\\left(-\\frac{a^{2} - 1}{{\\left(-\\frac{1}{3} \\, a^{2} + 1\\right)}^{\\frac{3}{2}}}\\right)\\right) + 1</script></html>"
      ],
      "text/latex": [
       "\\begin{math}\n",
       "\\newcommand{\\Bold}[1]{\\mathbf{#1}}a \\ {\\mapsto}\\ 2 \\, \\sqrt{-\\frac{1}{3} \\, a^{2} + 1} \\cos\\left(\\frac{1}{3} \\, \\arccos\\left(-\\frac{a^{2} - 1}{{\\left(-\\frac{1}{3} \\, a^{2} + 1\\right)}^{\\frac{3}{2}}}\\right)\\right) + 1\n",
       "\\end{math}"
      ],
      "text/plain": [
       "a |--> 2*sqrt(-1/3*a^2 + 1)*cos(1/3*arccos(-(a^2 - 1)/(-1/3*a^2 + 1)^(3/2))) + 1"
      ]
     },
     "execution_count": 13,
     "metadata": {},
     "output_type": "execute_result"
    }
   ],
   "source": [
    "rph_pol(a) = 1 + 2*sqrt(1 - a^2/3)*cos(1/3*arccos((1 - a^2)/(1 - a^2/3)^(3/2)))\n",
    "rph_pol"
   ]
  },
  {
   "cell_type": "code",
   "execution_count": 14,
   "metadata": {},
   "outputs": [
    {
     "data": {
      "text/html": [
       "<html><script type=\"math/tex; mode=display\">\\newcommand{\\Bold}[1]{\\mathbf{#1}}a \\ {\\mapsto}\\ 2 \\, \\sqrt{-\\frac{1}{3} \\, a^{2} + 1} \\cos\\left(\\frac{2}{3} \\, \\pi + \\frac{1}{3} \\, \\arccos\\left(-\\frac{a^{2}}{{\\left(-\\frac{1}{3} \\, a^{2} + 1\\right)}^{\\frac{3}{2}}} + \\frac{1}{{\\left(-\\frac{1}{3} \\, a^{2} + 1\\right)}^{\\frac{3}{2}}}\\right)\\right) + 1</script></html>"
      ],
      "text/latex": [
       "\\begin{math}\n",
       "\\newcommand{\\Bold}[1]{\\mathbf{#1}}a \\ {\\mapsto}\\ 2 \\, \\sqrt{-\\frac{1}{3} \\, a^{2} + 1} \\cos\\left(\\frac{2}{3} \\, \\pi + \\frac{1}{3} \\, \\arccos\\left(-\\frac{a^{2}}{{\\left(-\\frac{1}{3} \\, a^{2} + 1\\right)}^{\\frac{3}{2}}} + \\frac{1}{{\\left(-\\frac{1}{3} \\, a^{2} + 1\\right)}^{\\frac{3}{2}}}\\right)\\right) + 1\n",
       "\\end{math}"
      ],
      "text/plain": [
       "a |--> 2*sqrt(-1/3*a^2 + 1)*cos(2/3*pi + 1/3*arccos(-a^2/(-1/3*a^2 + 1)^(3/2) + 1/(-1/3*a^2 + 1)^(3/2))) + 1"
      ]
     },
     "execution_count": 14,
     "metadata": {},
     "output_type": "execute_result"
    }
   ],
   "source": [
    "rph_pol_in(a) = 1 + 2*sqrt(1 - a^2/3)*cos(1/3*arccos((1 - a^2)/(1 - a^2/3)^(3/2)) + 2*pi/3)\n",
    "rph_pol_in"
   ]
  },
  {
   "cell_type": "code",
   "execution_count": 15,
   "metadata": {},
   "outputs": [
    {
     "data": {
      "text/html": [
       "<html><script type=\"math/tex; mode=display\">\\newcommand{\\Bold}[1]{\\mathbf{#1}}r_{\\rm ph}^{**} =  -0.477673658836338</script></html>"
      ],
      "text/latex": [
       "\\begin{math}\n",
       "\\newcommand{\\Bold}[1]{\\mathbf{#1}}r_{\\rm ph}^{**} =  -0.477673658836338\n",
       "\\end{math}"
      ],
      "text/plain": [
       "r_{\\rm ph}^{**} =  -0.477673658836338"
      ]
     },
     "metadata": {},
     "output_type": "display_data"
    },
    {
     "data": {
      "text/html": [
       "<html><script type=\"math/tex; mode=display\">\\newcommand{\\Bold}[1]{\\mathbf{#1}}r_{\\rm ph}^{\\rm ms} =  0.539741795874205</script></html>"
      ],
      "text/latex": [
       "\\begin{math}\n",
       "\\newcommand{\\Bold}[1]{\\mathbf{#1}}r_{\\rm ph}^{\\rm ms} =  0.539741795874205\n",
       "\\end{math}"
      ],
      "text/plain": [
       "r_{\\rm ph}^{\\rm ms} =  0.539741795874205"
      ]
     },
     "metadata": {},
     "output_type": "display_data"
    },
    {
     "data": {
      "text/html": [
       "<html><script type=\"math/tex; mode=display\">\\newcommand{\\Bold}[1]{\\mathbf{#1}}r_{\\rm ph}^{*} =  0.658372153864346</script></html>"
      ],
      "text/latex": [
       "\\begin{math}\n",
       "\\newcommand{\\Bold}[1]{\\mathbf{#1}}r_{\\rm ph}^{*} =  0.658372153864346\n",
       "\\end{math}"
      ],
      "text/plain": [
       "r_{\\rm ph}^{*} =  0.658372153864346"
      ]
     },
     "metadata": {},
     "output_type": "display_data"
    },
    {
     "data": {
      "text/html": [
       "<html><script type=\"math/tex; mode=display\">\\newcommand{\\Bold}[1]{\\mathbf{#1}}r_- =  0.687750100080080</script></html>"
      ],
      "text/latex": [
       "\\begin{math}\n",
       "\\newcommand{\\Bold}[1]{\\mathbf{#1}}r_- =  0.687750100080080\n",
       "\\end{math}"
      ],
      "text/plain": [
       "r_- =  0.687750100080080"
      ]
     },
     "metadata": {},
     "output_type": "display_data"
    },
    {
     "data": {
      "text/html": [
       "<html><script type=\"math/tex; mode=display\">\\newcommand{\\Bold}[1]{\\mathbf{#1}}r_+ =  1.31224989991992</script></html>"
      ],
      "text/latex": [
       "\\begin{math}\n",
       "\\newcommand{\\Bold}[1]{\\mathbf{#1}}r_+ =  1.31224989991992\n",
       "\\end{math}"
      ],
      "text/plain": [
       "r_+ =  1.31224989991992"
      ]
     },
     "metadata": {},
     "output_type": "display_data"
    },
    {
     "data": {
      "text/html": [
       "<html><script type=\"math/tex; mode=display\">\\newcommand{\\Bold}[1]{\\mathbf{#1}}r_{\\rm ph}^+ =  1.38628052846298</script></html>"
      ],
      "text/latex": [
       "\\begin{math}\n",
       "\\newcommand{\\Bold}[1]{\\mathbf{#1}}r_{\\rm ph}^+ =  1.38628052846298\n",
       "\\end{math}"
      ],
      "text/plain": [
       "r_{\\rm ph}^+ =  1.38628052846298"
      ]
     },
     "metadata": {},
     "output_type": "display_data"
    },
    {
     "data": {
      "text/html": [
       "<html><script type=\"math/tex; mode=display\">\\newcommand{\\Bold}[1]{\\mathbf{#1}}r_{\\rm ph}^- =  3.95534731767268</script></html>"
      ],
      "text/latex": [
       "\\begin{math}\n",
       "\\newcommand{\\Bold}[1]{\\mathbf{#1}}r_{\\rm ph}^- =  3.95534731767268\n",
       "\\end{math}"
      ],
      "text/plain": [
       "r_{\\rm ph}^- =  3.95534731767268"
      ]
     },
     "metadata": {},
     "output_type": "display_data"
    },
    {
     "data": {
      "text/html": [
       "<html><script type=\"math/tex; mode=display\">\\newcommand{\\Bold}[1]{\\mathbf{#1}}r_{\\rm ph}^{\\rm pol} =  2.49269429554008</script></html>"
      ],
      "text/latex": [
       "\\begin{math}\n",
       "\\newcommand{\\Bold}[1]{\\mathbf{#1}}r_{\\rm ph}^{\\rm pol} =  2.49269429554008\n",
       "\\end{math}"
      ],
      "text/plain": [
       "r_{\\rm ph}^{\\rm pol} =  2.49269429554008"
      ]
     },
     "metadata": {},
     "output_type": "display_data"
    },
    {
     "data": {
      "text/html": [
       "<html><script type=\"math/tex; mode=display\">\\newcommand{\\Bold}[1]{\\mathbf{#1}}r_{\\rm ph}^{\\rm pol,in} =  -0.399338575773941</script></html>"
      ],
      "text/latex": [
       "\\begin{math}\n",
       "\\newcommand{\\Bold}[1]{\\mathbf{#1}}r_{\\rm ph}^{\\rm pol,in} =  -0.399338575773941\n",
       "\\end{math}"
      ],
      "text/plain": [
       "r_{\\rm ph}^{\\rm pol,in} =  -0.399338575773941"
      ]
     },
     "metadata": {},
     "output_type": "display_data"
    }
   ],
   "source": [
    "a0 = 0.95\n",
    "# a0 = 1\n",
    "show(LatexExpr(r'r_{\\rm ph}^{**} = '), n(rph_ss(a0)))\n",
    "show(LatexExpr(r'r_{\\rm ph}^{\\rm ms} = '), n(rph_ms(a0)))\n",
    "show(LatexExpr(r'r_{\\rm ph}^{*} = '), n(rph_s(a0)))\n",
    "show(LatexExpr(r'r_- = '), n(rm(a0)))\n",
    "show(LatexExpr(r'r_+ = '), n(rp(a0)))\n",
    "show(LatexExpr(r'r_{\\rm ph}^+ = '), n(rph_p(a0)))\n",
    "show(LatexExpr(r'r_{\\rm ph}^- = '), n(rph_m(a0)))\n",
    "show(LatexExpr(r'r_{\\rm ph}^{\\rm pol} = '), n(rph_pol(a0)))\n",
    "show(LatexExpr(r'r_{\\rm ph}^{\\rm pol,in} = '), n(rph_pol_in(a0)))"
   ]
  },
  {
   "cell_type": "code",
   "execution_count": 16,
   "metadata": {},
   "outputs": [],
   "source": [
    "def alpha(a, th_obs, r0):\n",
    "    if a == 1:\n",
    "        ell = - r0^2 + 2*r0 + 1\n",
    "    else:\n",
    "        ell = lsph(a, r0)\n",
    "    return - ell / sin(th_obs)\n",
    "\n",
    "def Theta(a, th_obs, r0):\n",
    "    if a == 1:\n",
    "        ell = - r0^2 + 2*r0 + 1\n",
    "        q = r0^3 * (4 - r0)\n",
    "    else:\n",
    "        ell = lsph(a, r0)\n",
    "        q = qsph(a, r0)\n",
    "    return q + cos(th_obs)^2 * (a^2 - ell^2/sin(th_obs)^2)\n",
    "\n",
    "def beta(a, th_obs, r0, eps_theta=1):\n",
    "    return eps_theta * sqrt(Theta(a, th_obs, r0,))"
   ]
  },
  {
   "cell_type": "code",
   "execution_count": 17,
   "metadata": {},
   "outputs": [],
   "source": [
    "def r0_bounds(a, th_obs, outer=True):\n",
    "    r\"\"\"\n",
    "    Return `(r0_min, r0_max)`\n",
    "    \"\"\"\n",
    "    if outer:\n",
    "        r1 = n(rph_p(a))\n",
    "        r2 = n(rph_m(a))\n",
    "        r3 = rph_pol(a)\n",
    "    else:\n",
    "        r1 = n(rph_ss(a))\n",
    "        r2 = 0\n",
    "        r3 = rph_pol_in(a)\n",
    "    #\n",
    "    # Computation of rmin:\n",
    "    try:\n",
    "        if a == 1:\n",
    "            th_crit = n(asin(sqrt(3) - 1))\n",
    "            if n(th_obs) < th_crit or n(th_obs) > n(pi) - th_crit:\n",
    "                rmin = find_root(lambda r: Theta(a, th_obs, r), r1, r3)\n",
    "            else:\n",
    "                rmin = 1\n",
    "        else:\n",
    "            rmin = find_root(lambda r: Theta(a, th_obs, r), r1, r3)\n",
    "    except TypeError:  # special case th_obs = pi/2\n",
    "        rmin = r1    \n",
    "    #\n",
    "    # Computation of rmax:\n",
    "    try:\n",
    "        rmax = find_root(lambda r: Theta(a, th_obs, r), r3, r2)\n",
    "    except TypeError:  # special case th_obs = pi/2\n",
    "        rmax = r2    \n",
    "    #\n",
    "    return (rmin, rmax)"
   ]
  },
  {
   "cell_type": "code",
   "execution_count": 18,
   "metadata": {},
   "outputs": [],
   "source": [
    "def shadow_plot(a, th_obs, orientation=0, outer=True, color=None, number_colors=5, \n",
    "                range_col=None, thickness=2, linestyle='-', plot_points=200,\n",
    "                legend='automatic', legend_loc=(1.02, 0.36), fill=True, \n",
    "                fillcolor='grey', draw_NHEKline=True, \n",
    "                draw_spin=False, spin_arrow_length=7, spin_arrow_options=None,\n",
    "                frame=True, axes=True, axes_labels='automatic', gridlines=True):\n",
    "    if a==0:\n",
    "        # Case a = 0:\n",
    "        rs = 3*sqrt(3)\n",
    "        if color is None:\n",
    "            color = 'black'\n",
    "        if legend == 'automatic':\n",
    "            legend = None\n",
    "        g = parametric_plot((rs*cos(x), rs*sin(x)), (x, 0, 2*pi), \n",
    "                            color=color, thickness=thickness,\n",
    "                            linestyle=linestyle, legend_label=legend, \n",
    "                            fill=fill, fillcolor=fillcolor, frame=frame, \n",
    "                            axes=axes, gridlines=gridlines)\n",
    "    else:\n",
    "        # Case a != 0\n",
    "        rmin, rmax = r0_bounds(a, th_obs, outer=outer)\n",
    "        if rmin > 0:\n",
    "            rmin = 1.00000001*rmin\n",
    "            rmax = 0.99999999*rmax\n",
    "        else:\n",
    "            rmin = 0.9999999*rmin\n",
    "            rmax = 1.0000001*rmax\n",
    "        print(\"rmin : \", rmin, \"  rmax : \", rmax)\n",
    "        co = cos(orientation)\n",
    "        so = sin(orientation)\n",
    "        fa = lambda r: co*alpha(a, th_obs, r) - so*beta(a, th_obs, r)\n",
    "        fb = lambda r: so*alpha(a, th_obs, r) + co*beta(a, th_obs, r)\n",
    "        fam = lambda r: co*alpha(a, th_obs, r) - so*beta(a, th_obs, r, eps_theta=-1)\n",
    "        fbm = lambda r: so*alpha(a, th_obs, r) + co*beta(a, th_obs, r, eps_theta=-1)\n",
    "        if range_col is None:\n",
    "            range_col = r0_bounds(a, pi/2, outer=outer)\n",
    "        rmin_col, rmax_col = range_col \n",
    "        print(\"rmin_col : \", rmin_col, \"  rmax_col : \", rmax_col)\n",
    "        dr = (rmax_col - rmin_col) / number_colors\n",
    "        rm = rmin_col + int((rmin - rmin_col)/dr)*dr\n",
    "        r1s = rmin\n",
    "        r_ranges = []\n",
    "        while rm + dr < rmax:\n",
    "            col = hue((rm - rmin_col)/(rmax_col - rmin_col + 0.1))\n",
    "            r2s = rm + dr\n",
    "            r_ranges.append((r1s, r2s, col))\n",
    "            rm += dr\n",
    "            r1s = r2s\n",
    "        if color is None:\n",
    "            col = hue((rm - rmin_col)/(rmax_col - rmin_col + 0.1))\n",
    "        else:\n",
    "            col = color\n",
    "        r_ranges.append((r1s, rmax, col))\n",
    "        g = Graphics()\n",
    "        legend_label = None  # a priori\n",
    "        if a == 1 and draw_NHEKline:\n",
    "            th_crit = asin(sqrt(3) - 1)\n",
    "            if th_obs > th_crit and th_obs < pi - th_crit:\n",
    "                # NHEK line\n",
    "                alpha0 = -2/sin(th_obs)\n",
    "                beta0 = sqrt(3 - cos(th_obs)**2 *(6 + cos(th_obs)**2))/sin(th_obs)\n",
    "                alpha1 = co*alpha0 - so*beta0\n",
    "                beta1 = so*alpha0 + co*beta0\n",
    "                alpha2 = co*alpha0 + so*beta0\n",
    "                beta2 = so*alpha0 - co*beta0\n",
    "                if legend == 'automatic':\n",
    "                    legend_label = r\"$r_0 = m$\"\n",
    "                if color is None:\n",
    "                    colNHEK = 'maroon'\n",
    "                else:\n",
    "                    colNHEK = color\n",
    "                g += line([(alpha1, beta1), (alpha2, beta2)], color=colNHEK, \n",
    "                          thickness=thickness, linestyle=linestyle,\n",
    "                          legend_label=legend_label)\n",
    "                if fill:\n",
    "                    g += polygon2d([(fa(rmax), 0), (alpha0, beta0), (alpha0, -beta0)], \n",
    "                                   color=fillcolor, alpha=0.5)\n",
    "        for rg in r_ranges:\n",
    "            r1s, r2s = rg[0], rg[1]\n",
    "            col = rg[2]\n",
    "            if legend:\n",
    "                if legend == 'automatic':\n",
    "                    if draw_NHEKline and abs(r1s - 1) < 1e-5:\n",
    "                        legend_label = r\"${:.2f}\\, m < r_0 \\leq {:.2f}\\, m$\".format(\n",
    "                                       float(r1s), float(r2s))\n",
    "                    else:\n",
    "                        legend_label = r\"${:.2f}\\, m \\leq r_0 \\leq {:.2f}\\, m$\".format(\n",
    "                                       float(r1s), float(r2s))\n",
    "                else:\n",
    "                    legend_label = legend\n",
    "            g += parametric_plot((fa, fb), (r1s, r2s), plot_points=plot_points, color=col, \n",
    "                                 thickness=thickness, linestyle=linestyle,\n",
    "                                 legend_label=legend_label, \n",
    "                                 frame=frame, axes=axes, gridlines=gridlines)\n",
    "            g += parametric_plot((fam, fbm), (r1s, r2s), plot_points=plot_points, color=col, \n",
    "                                 thickness=thickness, linestyle=linestyle)\n",
    "        if fill:\n",
    "            g += parametric_plot((fa, fb), (rmin, rmax), fill=True, fillcolor=fillcolor, \n",
    "                                 thickness=0)\n",
    "            g += parametric_plot((fam, fbm), (rmin, rmax), fill=True, fillcolor=fillcolor, \n",
    "                                 thickness=0)\n",
    "        if draw_spin:\n",
    "            if not spin_arrow_options:\n",
    "                spin_arrow_options = {}\n",
    "            if 'color' not in spin_arrow_options:\n",
    "                spin_arrow_options['color'] = color\n",
    "            g += arrow2d((0,0), (-so*spin_arrow_length, co*spin_arrow_length), \n",
    "                         **spin_arrow_options)\n",
    "        # end of case a != 0\n",
    "    g.set_aspect_ratio(1)\n",
    "    if axes_labels:\n",
    "        if axes_labels == 'automatic':\n",
    "            g.axes_labels([r\"$(r_{\\mathscr{O}}/m)\\; \\alpha$\", \n",
    "                           r\"$(r_{\\mathscr{O}}/m)\\; \\beta$\"])\n",
    "        else:\n",
    "            g.axes_labels(axes_labels)\n",
    "    if legend:\n",
    "        g.set_legend_options(handlelength=2, loc=legend_loc)\n",
    "    return g"
   ]
  },
  {
   "cell_type": "code",
   "execution_count": 19,
   "metadata": {},
   "outputs": [
    {
     "name": "stdout",
     "output_type": "stream",
     "text": [
      "rmin :  1.00000001000000   rmax :  3.99999996000000\n",
      "rmin_col :  1   rmax_col :  4.0\n"
     ]
    },
    {
     "data": {
      "image/png": "[encoded data removed]",
      "text/plain": [
       "Graphics object consisting of 4 graphics primitives"
      ]
     },
     "execution_count": 19,
     "metadata": {},
     "output_type": "execute_result"
    }
   ],
   "source": [
    "shadow_plot(1, pi/2, orientation=pi/6, fill=False, color='red', \n",
    "            number_colors=1, thickness=1.5, linestyle=':', \n",
    "            draw_spin=True, spin_arrow_options={'color': 'blue', 'width': 3},\n",
    "            legend=False)"
   ]
  },
  {
   "cell_type": "markdown",
   "metadata": {},
   "source": [
    "Half-width of the image in units of $m/r_{\\mathscr{O}}$:"
   ]
  },
  {
   "cell_type": "code",
   "execution_count": 20,
   "metadata": {},
   "outputs": [
    {
     "name": "stdout",
     "output_type": "stream",
     "text": [
      "fsize = 17.3275984058939 m/r_obs\n"
     ]
    }
   ],
   "source": [
    "EHT_field_of_view = 127   # Field of view for EHT image of M87* (in microarcseconds)\n",
    "scale_M87 = 3.66467403690525  # m/r for M87* (in microarcseconds)\n",
    "fsize = EHT_field_of_view / 2 / scale_M87\n",
    "extent = (-fsize, fsize, -fsize, fsize)\n",
    "print(\"fsize =\", fsize, \"m/r_obs\")"
   ]
  },
  {
   "cell_type": "code",
   "execution_count": 21,
   "metadata": {},
   "outputs": [],
   "source": [
    "def empty_plot(size, frame=True, axes=False, axes_labels='automatic', \n",
    "               gridlines=False):\n",
    "    g = Graphics()\n",
    "    g._extra_kwds['frame'] = frame\n",
    "    g._extra_kwds['axes'] = axes\n",
    "    g._extra_kwds['gridlines'] = gridlines\n",
    "    if axes_labels:\n",
    "        if axes_labels == 'automatic':\n",
    "            g.axes_labels([r\"$(r_{\\mathscr{O}}/m)\\; \\alpha$\", \n",
    "                           r\"$(r_{\\mathscr{O}}/m)\\; \\beta$\"])\n",
    "        else:\n",
    "            g.axes_labels(axes_labels)\n",
    "    g.set_aspect_ratio(1)\n",
    "    g.set_axes_range(-size, size, -size, size)\n",
    "    return g"
   ]
  },
  {
   "cell_type": "markdown",
   "metadata": {},
   "source": [
    "Default resolution of SageMath images:"
   ]
  },
  {
   "cell_type": "code",
   "execution_count": 22,
   "metadata": {},
   "outputs": [
    {
     "data": {
      "text/html": [
       "<html><script type=\"math/tex; mode=display\">\\newcommand{\\Bold}[1]{\\mathbf{#1}}100</script></html>"
      ],
      "text/latex": [
       "\\begin{math}\n",
       "\\newcommand{\\Bold}[1]{\\mathbf{#1}}100\n",
       "\\end{math}"
      ],
      "text/plain": [
       "100"
      ]
     },
     "execution_count": 22,
     "metadata": {},
     "output_type": "execute_result"
    }
   ],
   "source": [
    "dpi = Graphics.SHOW_OPTIONS['dpi']\n",
    "dpi"
   ]
  },
  {
   "cell_type": "markdown",
   "metadata": {},
   "source": [
    "Default resolution of Matplotlib images:"
   ]
  },
  {
   "cell_type": "code",
   "execution_count": 23,
   "metadata": {},
   "outputs": [
    {
     "data": {
      "text/html": [
       "<html><script type=\"math/tex; mode=display\">\\newcommand{\\Bold}[1]{\\mathbf{#1}}72.0</script></html>"
      ],
      "text/latex": [
       "\\begin{math}\n",
       "\\newcommand{\\Bold}[1]{\\mathbf{#1}}72.0\n",
       "\\end{math}"
      ],
      "text/plain": [
       "72.0"
      ]
     },
     "execution_count": 23,
     "metadata": {},
     "output_type": "execute_result"
    }
   ],
   "source": [
    "from matplotlib import rcParams\n",
    "rcParams['figure.dpi']"
   ]
  },
  {
   "cell_type": "markdown",
   "metadata": {},
   "source": [
    "The inclination of the jet axis with respect to the line of sight is $\\iota = 17^\\circ$ and its orientation\n",
    "is $\\Theta = -72^\\circ$ from the North axis. We have $\\theta_{\\mathscr{O}} = \\iota$ or $\\theta_{\\mathscr{O}}  = \\pi - \\iota$. Assuming that the emitting matted in the EHT image rotates in the same direction as the black hole implies $\\theta_{\\mathscr{O}} = \\pi - \\iota$:"
   ]
  },
  {
   "cell_type": "code",
   "execution_count": 29,
   "metadata": {},
   "outputs": [],
   "source": [
    "inc_jet = 17.  # inclination of jet axis w.r.t. line of sight (in degrees)\n",
    "Theta_jet = -72.   # orientation of jet axis in the plane of sky (in degress)\n",
    "th_obs = (180. - inc_jet)/180.*pi\n",
    "orient = (180. + Theta_jet)/180.*pi\n",
    "image_parameters = [(0, th_obs, orient, ''), (1., th_obs, orient, 'green')]"
   ]
  },
  {
   "cell_type": "code",
   "execution_count": 25,
   "metadata": {},
   "outputs": [],
   "source": [
    "gimage = 'M87_EHT'"
   ]
  },
  {
   "cell_type": "code",
   "execution_count": 30,
   "metadata": {
    "scrolled": false
   },
   "outputs": [
    {
     "name": "stdout",
     "output_type": "stream",
     "text": [
      "M87_EHT  resolution: (474, 474, 4)\n",
      "figsize:  (4.74, 4.74)\n",
      "a/m = 0   theta_obs = 0.905555555555556*pi\n",
      "a/m = 1.00000000000000   theta_obs = 0.905555555555556*pi\n",
      "rmin :  1.89727388775268   rmax :  2.90008539695632\n",
      "rmin_col :  1   rmax_col :  4.0\n"
     ]
    },
    {
     "data": {
      "application/javascript": [
       "/* Put everything inside the global mpl namespace */\n",
       "/* global mpl */\n",
       "window.mpl = {};\n",
       "\n",
       "mpl.get_websocket_type = function () {\n",
       "    if (typeof WebSocket !== 'undefined') {\n",
       "        return WebSocket;\n",
       "    } else if (typeof MozWebSocket !== 'undefined') {\n",
       "        return MozWebSocket;\n",
       "    } else {\n",
       "        alert(\n",
       "            'Your browser does not have WebSocket support. ' +\n",
       "                'Please try Chrome, Safari or Firefox ≥ 6. ' +\n",
       "                'Firefox 4 and 5 are also supported but you ' +\n",
       "                'have to enable WebSockets in about:config.'\n",
       "        );\n",
       "    }\n",
       "};\n",
       "\n",
       "mpl.figure = function (figure_id, websocket, ondownload, parent_element) {\n",
       "    this.id = figure_id;\n",
       "\n",
       "    this.ws = websocket;\n",
       "\n",
       "    this.supports_binary = this.ws.binaryType !== undefined;\n",
       "\n",
       "    if (!this.supports_binary) {\n",
       "        var warnings = document.getElementById('mpl-warnings');\n",
       "        if (warnings) {\n",
       "            warnings.style.display = 'block';\n",
       "            warnings.textContent =\n",
       "                'This browser does not support binary websocket messages. ' +\n",
       "                'Performance may be slow.';\n",
       "        }\n",
       "    }\n",
       "\n",
       "    this.imageObj = new Image();\n",
       "\n",
       "    this.context = undefined;\n",
       "    this.message = undefined;\n",
       "    this.canvas = undefined;\n",
       "    this.rubberband_canvas = undefined;\n",
       "    this.rubberband_context = undefined;\n",
       "    this.format_dropdown = undefined;\n",
       "\n",
       "    this.image_mode = 'full';\n",
       "\n",
       "    this.root = document.createElement('div');\n",
       "    this.root.setAttribute('style', 'display: inline-block');\n",
       "    this._root_extra_style(this.root);\n",
       "\n",
       "    parent_element.appendChild(this.root);\n",
       "\n",
       "    this._init_header(this);\n",
       "    this._init_canvas(this);\n",
       "    this._init_toolbar(this);\n",
       "\n",
       "    var fig = this;\n",
       "\n",
       "    this.waiting = false;\n",
       "\n",
       "    this.ws.onopen = function () {\n",
       "        fig.send_message('supports_binary', { value: fig.supports_binary });\n",
       "        fig.send_message('send_image_mode', {});\n",
       "        if (fig.ratio !== 1) {\n",
       "            fig.send_message('set_dpi_ratio', { dpi_ratio: fig.ratio });\n",
       "        }\n",
       "        fig.send_message('refresh', {});\n",
       "    };\n",
       "\n",
       "    this.imageObj.onload = function () {\n",
       "        if (fig.image_mode === 'full') {\n",
       "            // Full images could contain transparency (where diff images\n",
       "            // almost always do), so we need to clear the canvas so that\n",
       "            // there is no ghosting.\n",
       "            fig.context.clearRect(0, 0, fig.canvas.width, fig.canvas.height);\n",
       "        }\n",
       "        fig.context.drawImage(fig.imageObj, 0, 0);\n",
       "    };\n",
       "\n",
       "    this.imageObj.onunload = function () {\n",
       "        fig.ws.close();\n",
       "    };\n",
       "\n",
       "    this.ws.onmessage = this._make_on_message_function(this);\n",
       "\n",
       "    this.ondownload = ondownload;\n",
       "};\n",
       "\n",
       "mpl.figure.prototype._init_header = function () {\n",
       "    var titlebar = document.createElement('div');\n",
       "    titlebar.classList =\n",
       "        'ui-dialog-titlebar ui-widget-header ui-corner-all ui-helper-clearfix';\n",
       "    var titletext = document.createElement('div');\n",
       "    titletext.classList = 'ui-dialog-title';\n",
       "    titletext.setAttribute(\n",
       "        'style',\n",
       "        'width: 100%; text-align: center; padding: 3px;'\n",
       "    );\n",
       "    titlebar.appendChild(titletext);\n",
       "    this.root.appendChild(titlebar);\n",
       "    this.header = titletext;\n",
       "};\n",
       "\n",
       "mpl.figure.prototype._canvas_extra_style = function (_canvas_div) {};\n",
       "\n",
       "mpl.figure.prototype._root_extra_style = function (_canvas_div) {};\n",
       "\n",
       "mpl.figure.prototype._init_canvas = function () {\n",
       "    var fig = this;\n",
       "\n",
       "    var canvas_div = (this.canvas_div = document.createElement('div'));\n",
       "    canvas_div.setAttribute(\n",
       "        'style',\n",
       "        'border: 1px solid #ddd;' +\n",
       "            'box-sizing: content-box;' +\n",
       "            'clear: both;' +\n",
       "            'min-height: 1px;' +\n",
       "            'min-width: 1px;' +\n",
       "            'outline: 0;' +\n",
       "            'overflow: hidden;' +\n",
       "            'position: relative;' +\n",
       "            'resize: both;'\n",
       "    );\n",
       "\n",
       "    function on_keyboard_event_closure(name) {\n",
       "        return function (event) {\n",
       "            return fig.key_event(event, name);\n",
       "        };\n",
       "    }\n",
       "\n",
       "    canvas_div.addEventListener(\n",
       "        'keydown',\n",
       "        on_keyboard_event_closure('key_press')\n",
       "    );\n",
       "    canvas_div.addEventListener(\n",
       "        'keyup',\n",
       "        on_keyboard_event_closure('key_release')\n",
       "    );\n",
       "\n",
       "    this._canvas_extra_style(canvas_div);\n",
       "    this.root.appendChild(canvas_div);\n",
       "\n",
       "    var canvas = (this.canvas = document.createElement('canvas'));\n",
       "    canvas.classList.add('mpl-canvas');\n",
       "    canvas.setAttribute('style', 'box-sizing: content-box;');\n",
       "\n",
       "    this.context = canvas.getContext('2d');\n",
       "\n",
       "    var backingStore =\n",
       "        this.context.backingStorePixelRatio ||\n",
       "        this.context.webkitBackingStorePixelRatio ||\n",
       "        this.context.mozBackingStorePixelRatio ||\n",
       "        this.context.msBackingStorePixelRatio ||\n",
       "        this.context.oBackingStorePixelRatio ||\n",
       "        this.context.backingStorePixelRatio ||\n",
       "        1;\n",
       "\n",
       "    this.ratio = (window.devicePixelRatio || 1) / backingStore;\n",
       "    if (this.ratio !== 1) {\n",
       "        fig.send_message('set_dpi_ratio', { dpi_ratio: this.ratio });\n",
       "    }\n",
       "\n",
       "    var rubberband_canvas = (this.rubberband_canvas = document.createElement(\n",
       "        'canvas'\n",
       "    ));\n",
       "    rubberband_canvas.setAttribute(\n",
       "        'style',\n",
       "        'box-sizing: content-box; position: absolute; left: 0; top: 0; z-index: 1;'\n",
       "    );\n",
       "\n",
       "    var resizeObserver = new ResizeObserver(function (entries) {\n",
       "        var nentries = entries.length;\n",
       "        for (var i = 0; i < nentries; i++) {\n",
       "            var entry = entries[i];\n",
       "            var width, height;\n",
       "            if (entry.contentBoxSize) {\n",
       "                if (entry.contentBoxSize instanceof Array) {\n",
       "                    // Chrome 84 implements new version of spec.\n",
       "                    width = entry.contentBoxSize[0].inlineSize;\n",
       "                    height = entry.contentBoxSize[0].blockSize;\n",
       "                } else {\n",
       "                    // Firefox implements old version of spec.\n",
       "                    width = entry.contentBoxSize.inlineSize;\n",
       "                    height = entry.contentBoxSize.blockSize;\n",
       "                }\n",
       "            } else {\n",
       "                // Chrome <84 implements even older version of spec.\n",
       "                width = entry.contentRect.width;\n",
       "                height = entry.contentRect.height;\n",
       "            }\n",
       "\n",
       "            // Keep the size of the canvas and rubber band canvas in sync with\n",
       "            // the canvas container.\n",
       "            if (entry.devicePixelContentBoxSize) {\n",
       "                // Chrome 84 implements new version of spec.\n",
       "                canvas.setAttribute(\n",
       "                    'width',\n",
       "                    entry.devicePixelContentBoxSize[0].inlineSize\n",
       "                );\n",
       "                canvas.setAttribute(\n",
       "                    'height',\n",
       "                    entry.devicePixelContentBoxSize[0].blockSize\n",
       "                );\n",
       "            } else {\n",
       "                canvas.setAttribute('width', width * fig.ratio);\n",
       "                canvas.setAttribute('height', height * fig.ratio);\n",
       "            }\n",
       "            canvas.setAttribute(\n",
       "                'style',\n",
       "                'width: ' + width + 'px; height: ' + height + 'px;'\n",
       "            );\n",
       "\n",
       "            rubberband_canvas.setAttribute('width', width);\n",
       "            rubberband_canvas.setAttribute('height', height);\n",
       "\n",
       "            // And update the size in Python. We ignore the initial 0/0 size\n",
       "            // that occurs as the element is placed into the DOM, which should\n",
       "            // otherwise not happen due to the minimum size styling.\n",
       "            if (width != 0 && height != 0) {\n",
       "                fig.request_resize(width, height);\n",
       "            }\n",
       "        }\n",
       "    });\n",
       "    resizeObserver.observe(canvas_div);\n",
       "\n",
       "    function on_mouse_event_closure(name) {\n",
       "        return function (event) {\n",
       "            return fig.mouse_event(event, name);\n",
       "        };\n",
       "    }\n",
       "\n",
       "    rubberband_canvas.addEventListener(\n",
       "        'mousedown',\n",
       "        on_mouse_event_closure('button_press')\n",
       "    );\n",
       "    rubberband_canvas.addEventListener(\n",
       "        'mouseup',\n",
       "        on_mouse_event_closure('button_release')\n",
       "    );\n",
       "    // Throttle sequential mouse events to 1 every 20ms.\n",
       "    rubberband_canvas.addEventListener(\n",
       "        'mousemove',\n",
       "        on_mouse_event_closure('motion_notify')\n",
       "    );\n",
       "\n",
       "    rubberband_canvas.addEventListener(\n",
       "        'mouseenter',\n",
       "        on_mouse_event_closure('figure_enter')\n",
       "    );\n",
       "    rubberband_canvas.addEventListener(\n",
       "        'mouseleave',\n",
       "        on_mouse_event_closure('figure_leave')\n",
       "    );\n",
       "\n",
       "    canvas_div.addEventListener('wheel', function (event) {\n",
       "        if (event.deltaY < 0) {\n",
       "            event.step = 1;\n",
       "        } else {\n",
       "            event.step = -1;\n",
       "        }\n",
       "        on_mouse_event_closure('scroll')(event);\n",
       "    });\n",
       "\n",
       "    canvas_div.appendChild(canvas);\n",
       "    canvas_div.appendChild(rubberband_canvas);\n",
       "\n",
       "    this.rubberband_context = rubberband_canvas.getContext('2d');\n",
       "    this.rubberband_context.strokeStyle = '#000000';\n",
       "\n",
       "    this._resize_canvas = function (width, height, forward) {\n",
       "        if (forward) {\n",
       "            canvas_div.style.width = width + 'px';\n",
       "            canvas_div.style.height = height + 'px';\n",
       "        }\n",
       "    };\n",
       "\n",
       "    // Disable right mouse context menu.\n",
       "    this.rubberband_canvas.addEventListener('contextmenu', function (_e) {\n",
       "        event.preventDefault();\n",
       "        return false;\n",
       "    });\n",
       "\n",
       "    function set_focus() {\n",
       "        canvas.focus();\n",
       "        canvas_div.focus();\n",
       "    }\n",
       "\n",
       "    window.setTimeout(set_focus, 100);\n",
       "};\n",
       "\n",
       "mpl.figure.prototype._init_toolbar = function () {\n",
       "    var fig = this;\n",
       "\n",
       "    var toolbar = document.createElement('div');\n",
       "    toolbar.classList = 'mpl-toolbar';\n",
       "    this.root.appendChild(toolbar);\n",
       "\n",
       "    function on_click_closure(name) {\n",
       "        return function (_event) {\n",
       "            return fig.toolbar_button_onclick(name);\n",
       "        };\n",
       "    }\n",
       "\n",
       "    function on_mouseover_closure(tooltip) {\n",
       "        return function (event) {\n",
       "            if (!event.currentTarget.disabled) {\n",
       "                return fig.toolbar_button_onmouseover(tooltip);\n",
       "            }\n",
       "        };\n",
       "    }\n",
       "\n",
       "    fig.buttons = {};\n",
       "    var buttonGroup = document.createElement('div');\n",
       "    buttonGroup.classList = 'mpl-button-group';\n",
       "    for (var toolbar_ind in mpl.toolbar_items) {\n",
       "        var name = mpl.toolbar_items[toolbar_ind][0];\n",
       "        var tooltip = mpl.toolbar_items[toolbar_ind][1];\n",
       "        var image = mpl.toolbar_items[toolbar_ind][2];\n",
       "        var method_name = mpl.toolbar_items[toolbar_ind][3];\n",
       "\n",
       "        if (!name) {\n",
       "            /* Instead of a spacer, we start a new button group. */\n",
       "            if (buttonGroup.hasChildNodes()) {\n",
       "                toolbar.appendChild(buttonGroup);\n",
       "            }\n",
       "            buttonGroup = document.createElement('div');\n",
       "            buttonGroup.classList = 'mpl-button-group';\n",
       "            continue;\n",
       "        }\n",
       "\n",
       "        var button = (fig.buttons[name] = document.createElement('button'));\n",
       "        button.classList = 'mpl-widget';\n",
       "        button.setAttribute('role', 'button');\n",
       "        button.setAttribute('aria-disabled', 'false');\n",
       "        button.addEventListener('click', on_click_closure(method_name));\n",
       "        button.addEventListener('mouseover', on_mouseover_closure(tooltip));\n",
       "\n",
       "        var icon_img = document.createElement('img');\n",
       "        icon_img.src = '_images/' + image + '.png';\n",
       "        icon_img.srcset = '_images/' + image + '_large.png 2x';\n",
       "        icon_img.alt = tooltip;\n",
       "        button.appendChild(icon_img);\n",
       "\n",
       "        buttonGroup.appendChild(button);\n",
       "    }\n",
       "\n",
       "    if (buttonGroup.hasChildNodes()) {\n",
       "        toolbar.appendChild(buttonGroup);\n",
       "    }\n",
       "\n",
       "    var fmt_picker = document.createElement('select');\n",
       "    fmt_picker.classList = 'mpl-widget';\n",
       "    toolbar.appendChild(fmt_picker);\n",
       "    this.format_dropdown = fmt_picker;\n",
       "\n",
       "    for (var ind in mpl.extensions) {\n",
       "        var fmt = mpl.extensions[ind];\n",
       "        var option = document.createElement('option');\n",
       "        option.selected = fmt === mpl.default_extension;\n",
       "        option.innerHTML = fmt;\n",
       "        fmt_picker.appendChild(option);\n",
       "    }\n",
       "\n",
       "    var status_bar = document.createElement('span');\n",
       "    status_bar.classList = 'mpl-message';\n",
       "    toolbar.appendChild(status_bar);\n",
       "    this.message = status_bar;\n",
       "};\n",
       "\n",
       "mpl.figure.prototype.request_resize = function (x_pixels, y_pixels) {\n",
       "    // Request matplotlib to resize the figure. Matplotlib will then trigger a resize in the client,\n",
       "    // which will in turn request a refresh of the image.\n",
       "    this.send_message('resize', { width: x_pixels, height: y_pixels });\n",
       "};\n",
       "\n",
       "mpl.figure.prototype.send_message = function (type, properties) {\n",
       "    properties['type'] = type;\n",
       "    properties['figure_id'] = this.id;\n",
       "    this.ws.send(JSON.stringify(properties));\n",
       "};\n",
       "\n",
       "mpl.figure.prototype.send_draw_message = function () {\n",
       "    if (!this.waiting) {\n",
       "        this.waiting = true;\n",
       "        this.ws.send(JSON.stringify({ type: 'draw', figure_id: this.id }));\n",
       "    }\n",
       "};\n",
       "\n",
       "mpl.figure.prototype.handle_save = function (fig, _msg) {\n",
       "    var format_dropdown = fig.format_dropdown;\n",
       "    var format = format_dropdown.options[format_dropdown.selectedIndex].value;\n",
       "    fig.ondownload(fig, format);\n",
       "};\n",
       "\n",
       "mpl.figure.prototype.handle_resize = function (fig, msg) {\n",
       "    var size = msg['size'];\n",
       "    if (size[0] !== fig.canvas.width || size[1] !== fig.canvas.height) {\n",
       "        fig._resize_canvas(size[0], size[1], msg['forward']);\n",
       "        fig.send_message('refresh', {});\n",
       "    }\n",
       "};\n",
       "\n",
       "mpl.figure.prototype.handle_rubberband = function (fig, msg) {\n",
       "    var x0 = msg['x0'] / fig.ratio;\n",
       "    var y0 = (fig.canvas.height - msg['y0']) / fig.ratio;\n",
       "    var x1 = msg['x1'] / fig.ratio;\n",
       "    var y1 = (fig.canvas.height - msg['y1']) / fig.ratio;\n",
       "    x0 = Math.floor(x0) + 0.5;\n",
       "    y0 = Math.floor(y0) + 0.5;\n",
       "    x1 = Math.floor(x1) + 0.5;\n",
       "    y1 = Math.floor(y1) + 0.5;\n",
       "    var min_x = Math.min(x0, x1);\n",
       "    var min_y = Math.min(y0, y1);\n",
       "    var width = Math.abs(x1 - x0);\n",
       "    var height = Math.abs(y1 - y0);\n",
       "\n",
       "    fig.rubberband_context.clearRect(\n",
       "        0,\n",
       "        0,\n",
       "        fig.canvas.width / fig.ratio,\n",
       "        fig.canvas.height / fig.ratio\n",
       "    );\n",
       "\n",
       "    fig.rubberband_context.strokeRect(min_x, min_y, width, height);\n",
       "};\n",
       "\n",
       "mpl.figure.prototype.handle_figure_label = function (fig, msg) {\n",
       "    // Updates the figure title.\n",
       "    fig.header.textContent = msg['label'];\n",
       "};\n",
       "\n",
       "mpl.figure.prototype.handle_cursor = function (fig, msg) {\n",
       "    var cursor = msg['cursor'];\n",
       "    switch (cursor) {\n",
       "        case 0:\n",
       "            cursor = 'pointer';\n",
       "            break;\n",
       "        case 1:\n",
       "            cursor = 'default';\n",
       "            break;\n",
       "        case 2:\n",
       "            cursor = 'crosshair';\n",
       "            break;\n",
       "        case 3:\n",
       "            cursor = 'move';\n",
       "            break;\n",
       "    }\n",
       "    fig.rubberband_canvas.style.cursor = cursor;\n",
       "};\n",
       "\n",
       "mpl.figure.prototype.handle_message = function (fig, msg) {\n",
       "    fig.message.textContent = msg['message'];\n",
       "};\n",
       "\n",
       "mpl.figure.prototype.handle_draw = function (fig, _msg) {\n",
       "    // Request the server to send over a new figure.\n",
       "    fig.send_draw_message();\n",
       "};\n",
       "\n",
       "mpl.figure.prototype.handle_image_mode = function (fig, msg) {\n",
       "    fig.image_mode = msg['mode'];\n",
       "};\n",
       "\n",
       "mpl.figure.prototype.handle_history_buttons = function (fig, msg) {\n",
       "    for (var key in msg) {\n",
       "        if (!(key in fig.buttons)) {\n",
       "            continue;\n",
       "        }\n",
       "        fig.buttons[key].disabled = !msg[key];\n",
       "        fig.buttons[key].setAttribute('aria-disabled', !msg[key]);\n",
       "    }\n",
       "};\n",
       "\n",
       "mpl.figure.prototype.handle_navigate_mode = function (fig, msg) {\n",
       "    if (msg['mode'] === 'PAN') {\n",
       "        fig.buttons['Pan'].classList.add('active');\n",
       "        fig.buttons['Zoom'].classList.remove('active');\n",
       "    } else if (msg['mode'] === 'ZOOM') {\n",
       "        fig.buttons['Pan'].classList.remove('active');\n",
       "        fig.buttons['Zoom'].classList.add('active');\n",
       "    } else {\n",
       "        fig.buttons['Pan'].classList.remove('active');\n",
       "        fig.buttons['Zoom'].classList.remove('active');\n",
       "    }\n",
       "};\n",
       "\n",
       "mpl.figure.prototype.updated_canvas_event = function () {\n",
       "    // Called whenever the canvas gets updated.\n",
       "    this.send_message('ack', {});\n",
       "};\n",
       "\n",
       "// A function to construct a web socket function for onmessage handling.\n",
       "// Called in the figure constructor.\n",
       "mpl.figure.prototype._make_on_message_function = function (fig) {\n",
       "    return function socket_on_message(evt) {\n",
       "        if (evt.data instanceof Blob) {\n",
       "            /* FIXME: We get \"Resource interpreted as Image but\n",
       "             * transferred with MIME type text/plain:\" errors on\n",
       "             * Chrome.  But how to set the MIME type?  It doesn't seem\n",
       "             * to be part of the websocket stream */\n",
       "            evt.data.type = 'image/png';\n",
       "\n",
       "            /* Free the memory for the previous frames */\n",
       "            if (fig.imageObj.src) {\n",
       "                (window.URL || window.webkitURL).revokeObjectURL(\n",
       "                    fig.imageObj.src\n",
       "                );\n",
       "            }\n",
       "\n",
       "            fig.imageObj.src = (window.URL || window.webkitURL).createObjectURL(\n",
       "                evt.data\n",
       "            );\n",
       "            fig.updated_canvas_event();\n",
       "            fig.waiting = false;\n",
       "            return;\n",
       "        } else if (\n",
       "            typeof evt.data === 'string' &&\n",
       "            evt.data.slice(0, 21) === 'data:image/png;base64'\n",
       "        ) {\n",
       "            fig.imageObj.src = evt.data;\n",
       "            fig.updated_canvas_event();\n",
       "            fig.waiting = false;\n",
       "            return;\n",
       "        }\n",
       "\n",
       "        var msg = JSON.parse(evt.data);\n",
       "        var msg_type = msg['type'];\n",
       "\n",
       "        // Call the  \"handle_{type}\" callback, which takes\n",
       "        // the figure and JSON message as its only arguments.\n",
       "        try {\n",
       "            var callback = fig['handle_' + msg_type];\n",
       "        } catch (e) {\n",
       "            console.log(\n",
       "                \"No handler for the '\" + msg_type + \"' message type: \",\n",
       "                msg\n",
       "            );\n",
       "            return;\n",
       "        }\n",
       "\n",
       "        if (callback) {\n",
       "            try {\n",
       "                // console.log(\"Handling '\" + msg_type + \"' message: \", msg);\n",
       "                callback(fig, msg);\n",
       "            } catch (e) {\n",
       "                console.log(\n",
       "                    \"Exception inside the 'handler_\" + msg_type + \"' callback:\",\n",
       "                    e,\n",
       "                    e.stack,\n",
       "                    msg\n",
       "                );\n",
       "            }\n",
       "        }\n",
       "    };\n",
       "};\n",
       "\n",
       "// from http://stackoverflow.com/questions/1114465/getting-mouse-location-in-canvas\n",
       "mpl.findpos = function (e) {\n",
       "    //this section is from http://www.quirksmode.org/js/events_properties.html\n",
       "    var targ;\n",
       "    if (!e) {\n",
       "        e = window.event;\n",
       "    }\n",
       "    if (e.target) {\n",
       "        targ = e.target;\n",
       "    } else if (e.srcElement) {\n",
       "        targ = e.srcElement;\n",
       "    }\n",
       "    if (targ.nodeType === 3) {\n",
       "        // defeat Safari bug\n",
       "        targ = targ.parentNode;\n",
       "    }\n",
       "\n",
       "    // pageX,Y are the mouse positions relative to the document\n",
       "    var boundingRect = targ.getBoundingClientRect();\n",
       "    var x = e.pageX - (boundingRect.left + document.body.scrollLeft);\n",
       "    var y = e.pageY - (boundingRect.top + document.body.scrollTop);\n",
       "\n",
       "    return { x: x, y: y };\n",
       "};\n",
       "\n",
       "/*\n",
       " * return a copy of an object with only non-object keys\n",
       " * we need this to avoid circular references\n",
       " * http://stackoverflow.com/a/24161582/3208463\n",
       " */\n",
       "function simpleKeys(original) {\n",
       "    return Object.keys(original).reduce(function (obj, key) {\n",
       "        if (typeof original[key] !== 'object') {\n",
       "            obj[key] = original[key];\n",
       "        }\n",
       "        return obj;\n",
       "    }, {});\n",
       "}\n",
       "\n",
       "mpl.figure.prototype.mouse_event = function (event, name) {\n",
       "    var canvas_pos = mpl.findpos(event);\n",
       "\n",
       "    if (name === 'button_press') {\n",
       "        this.canvas.focus();\n",
       "        this.canvas_div.focus();\n",
       "    }\n",
       "\n",
       "    var x = canvas_pos.x * this.ratio;\n",
       "    var y = canvas_pos.y * this.ratio;\n",
       "\n",
       "    this.send_message(name, {\n",
       "        x: x,\n",
       "        y: y,\n",
       "        button: event.button,\n",
       "        step: event.step,\n",
       "        guiEvent: simpleKeys(event),\n",
       "    });\n",
       "\n",
       "    /* This prevents the web browser from automatically changing to\n",
       "     * the text insertion cursor when the button is pressed.  We want\n",
       "     * to control all of the cursor setting manually through the\n",
       "     * 'cursor' event from matplotlib */\n",
       "    event.preventDefault();\n",
       "    return false;\n",
       "};\n",
       "\n",
       "mpl.figure.prototype._key_event_extra = function (_event, _name) {\n",
       "    // Handle any extra behaviour associated with a key event\n",
       "};\n",
       "\n",
       "mpl.figure.prototype.key_event = function (event, name) {\n",
       "    // Prevent repeat events\n",
       "    if (name === 'key_press') {\n",
       "        if (event.which === this._key) {\n",
       "            return;\n",
       "        } else {\n",
       "            this._key = event.which;\n",
       "        }\n",
       "    }\n",
       "    if (name === 'key_release') {\n",
       "        this._key = null;\n",
       "    }\n",
       "\n",
       "    var value = '';\n",
       "    if (event.ctrlKey && event.which !== 17) {\n",
       "        value += 'ctrl+';\n",
       "    }\n",
       "    if (event.altKey && event.which !== 18) {\n",
       "        value += 'alt+';\n",
       "    }\n",
       "    if (event.shiftKey && event.which !== 16) {\n",
       "        value += 'shift+';\n",
       "    }\n",
       "\n",
       "    value += 'k';\n",
       "    value += event.which.toString();\n",
       "\n",
       "    this._key_event_extra(event, name);\n",
       "\n",
       "    this.send_message(name, { key: value, guiEvent: simpleKeys(event) });\n",
       "    return false;\n",
       "};\n",
       "\n",
       "mpl.figure.prototype.toolbar_button_onclick = function (name) {\n",
       "    if (name === 'download') {\n",
       "        this.handle_save(this, null);\n",
       "    } else {\n",
       "        this.send_message('toolbar_button', { name: name });\n",
       "    }\n",
       "};\n",
       "\n",
       "mpl.figure.prototype.toolbar_button_onmouseover = function (tooltip) {\n",
       "    this.message.textContent = tooltip;\n",
       "};\n",
       "mpl.toolbar_items = [[\"Home\", \"Reset original view\", \"fa fa-home icon-home\", \"home\"], [\"Back\", \"Back to previous view\", \"fa fa-arrow-left icon-arrow-left\", \"back\"], [\"Forward\", \"Forward to next view\", \"fa fa-arrow-right icon-arrow-right\", \"forward\"], [\"\", \"\", \"\", \"\"], [\"Pan\", \"Left button pans, Right button zooms\\nx/y fixes axis, CTRL fixes aspect\", \"fa fa-arrows icon-move\", \"pan\"], [\"Zoom\", \"Zoom to rectangle\\nx/y fixes axis, CTRL fixes aspect\", \"fa fa-square-o icon-check-empty\", \"zoom\"], [\"\", \"\", \"\", \"\"], [\"Download\", \"Download plot\", \"fa fa-floppy-o icon-save\", \"download\"]];\n",
       "\n",
       "mpl.extensions = [\"eps\", \"jpeg\", \"pdf\", \"png\", \"ps\", \"raw\", \"svg\", \"tif\"];\n",
       "\n",
       "mpl.default_extension = \"png\";/* global mpl */\n",
       "\n",
       "var comm_websocket_adapter = function (comm) {\n",
       "    // Create a \"websocket\"-like object which calls the given IPython comm\n",
       "    // object with the appropriate methods. Currently this is a non binary\n",
       "    // socket, so there is still some room for performance tuning.\n",
       "    var ws = {};\n",
       "\n",
       "    ws.close = function () {\n",
       "        comm.close();\n",
       "    };\n",
       "    ws.send = function (m) {\n",
       "        //console.log('sending', m);\n",
       "        comm.send(m);\n",
       "    };\n",
       "    // Register the callback with on_msg.\n",
       "    comm.on_msg(function (msg) {\n",
       "        //console.log('receiving', msg['content']['data'], msg);\n",
       "        // Pass the mpl event to the overridden (by mpl) onmessage function.\n",
       "        ws.onmessage(msg['content']['data']);\n",
       "    });\n",
       "    return ws;\n",
       "};\n",
       "\n",
       "mpl.mpl_figure_comm = function (comm, msg) {\n",
       "    // This is the function which gets called when the mpl process\n",
       "    // starts-up an IPython Comm through the \"matplotlib\" channel.\n",
       "\n",
       "    var id = msg.content.data.id;\n",
       "    // Get hold of the div created by the display call when the Comm\n",
       "    // socket was opened in Python.\n",
       "    var element = document.getElementById(id);\n",
       "    var ws_proxy = comm_websocket_adapter(comm);\n",
       "\n",
       "    function ondownload(figure, _format) {\n",
       "        window.open(figure.canvas.toDataURL());\n",
       "    }\n",
       "\n",
       "    var fig = new mpl.figure(id, ws_proxy, ondownload, element);\n",
       "\n",
       "    // Call onopen now - mpl needs it, as it is assuming we've passed it a real\n",
       "    // web socket which is closed, not our websocket->open comm proxy.\n",
       "    ws_proxy.onopen();\n",
       "\n",
       "    fig.parent_element = element;\n",
       "    fig.cell_info = mpl.find_output_cell(\"<div id='\" + id + \"'></div>\");\n",
       "    if (!fig.cell_info) {\n",
       "        console.error('Failed to find cell for figure', id, fig);\n",
       "        return;\n",
       "    }\n",
       "    fig.cell_info[0].output_area.element.one(\n",
       "        'cleared',\n",
       "        { fig: fig },\n",
       "        fig._remove_fig_handler\n",
       "    );\n",
       "};\n",
       "\n",
       "mpl.figure.prototype.handle_close = function (fig, msg) {\n",
       "    var width = fig.canvas.width / fig.ratio;\n",
       "    fig.cell_info[0].output_area.element.off(\n",
       "        'cleared',\n",
       "        fig._remove_fig_handler\n",
       "    );\n",
       "\n",
       "    // Update the output cell to use the data from the current canvas.\n",
       "    fig.push_to_output();\n",
       "    var dataURL = fig.canvas.toDataURL();\n",
       "    // Re-enable the keyboard manager in IPython - without this line, in FF,\n",
       "    // the notebook keyboard shortcuts fail.\n",
       "    IPython.keyboard_manager.enable();\n",
       "    fig.parent_element.innerHTML =\n",
       "        '<img src=\"' + dataURL + '\" width=\"' + width + '\">';\n",
       "    fig.close_ws(fig, msg);\n",
       "};\n",
       "\n",
       "mpl.figure.prototype.close_ws = function (fig, msg) {\n",
       "    fig.send_message('closing', msg);\n",
       "    // fig.ws.close()\n",
       "};\n",
       "\n",
       "mpl.figure.prototype.push_to_output = function (_remove_interactive) {\n",
       "    // Turn the data on the canvas into data in the output cell.\n",
       "    var width = this.canvas.width / this.ratio;\n",
       "    var dataURL = this.canvas.toDataURL();\n",
       "    this.cell_info[1]['text/html'] =\n",
       "        '<img src=\"' + dataURL + '\" width=\"' + width + '\">';\n",
       "};\n",
       "\n",
       "mpl.figure.prototype.updated_canvas_event = function () {\n",
       "    // Tell IPython that the notebook contents must change.\n",
       "    IPython.notebook.set_dirty(true);\n",
       "    this.send_message('ack', {});\n",
       "    var fig = this;\n",
       "    // Wait a second, then push the new image to the DOM so\n",
       "    // that it is saved nicely (might be nice to debounce this).\n",
       "    setTimeout(function () {\n",
       "        fig.push_to_output();\n",
       "    }, 1000);\n",
       "};\n",
       "\n",
       "mpl.figure.prototype._init_toolbar = function () {\n",
       "    var fig = this;\n",
       "\n",
       "    var toolbar = document.createElement('div');\n",
       "    toolbar.classList = 'btn-toolbar';\n",
       "    this.root.appendChild(toolbar);\n",
       "\n",
       "    function on_click_closure(name) {\n",
       "        return function (_event) {\n",
       "            return fig.toolbar_button_onclick(name);\n",
       "        };\n",
       "    }\n",
       "\n",
       "    function on_mouseover_closure(tooltip) {\n",
       "        return function (event) {\n",
       "            if (!event.currentTarget.disabled) {\n",
       "                return fig.toolbar_button_onmouseover(tooltip);\n",
       "            }\n",
       "        };\n",
       "    }\n",
       "\n",
       "    fig.buttons = {};\n",
       "    var buttonGroup = document.createElement('div');\n",
       "    buttonGroup.classList = 'btn-group';\n",
       "    var button;\n",
       "    for (var toolbar_ind in mpl.toolbar_items) {\n",
       "        var name = mpl.toolbar_items[toolbar_ind][0];\n",
       "        var tooltip = mpl.toolbar_items[toolbar_ind][1];\n",
       "        var image = mpl.toolbar_items[toolbar_ind][2];\n",
       "        var method_name = mpl.toolbar_items[toolbar_ind][3];\n",
       "\n",
       "        if (!name) {\n",
       "            /* Instead of a spacer, we start a new button group. */\n",
       "            if (buttonGroup.hasChildNodes()) {\n",
       "                toolbar.appendChild(buttonGroup);\n",
       "            }\n",
       "            buttonGroup = document.createElement('div');\n",
       "            buttonGroup.classList = 'btn-group';\n",
       "            continue;\n",
       "        }\n",
       "\n",
       "        button = fig.buttons[name] = document.createElement('button');\n",
       "        button.classList = 'btn btn-default';\n",
       "        button.href = '#';\n",
       "        button.title = name;\n",
       "        button.innerHTML = '<i class=\"fa ' + image + ' fa-lg\"></i>';\n",
       "        button.addEventListener('click', on_click_closure(method_name));\n",
       "        button.addEventListener('mouseover', on_mouseover_closure(tooltip));\n",
       "        buttonGroup.appendChild(button);\n",
       "    }\n",
       "\n",
       "    if (buttonGroup.hasChildNodes()) {\n",
       "        toolbar.appendChild(buttonGroup);\n",
       "    }\n",
       "\n",
       "    // Add the status bar.\n",
       "    var status_bar = document.createElement('span');\n",
       "    status_bar.classList = 'mpl-message pull-right';\n",
       "    toolbar.appendChild(status_bar);\n",
       "    this.message = status_bar;\n",
       "\n",
       "    // Add the close button to the window.\n",
       "    var buttongrp = document.createElement('div');\n",
       "    buttongrp.classList = 'btn-group inline pull-right';\n",
       "    button = document.createElement('button');\n",
       "    button.classList = 'btn btn-mini btn-primary';\n",
       "    button.href = '#';\n",
       "    button.title = 'Stop Interaction';\n",
       "    button.innerHTML = '<i class=\"fa fa-power-off icon-remove icon-large\"></i>';\n",
       "    button.addEventListener('click', function (_evt) {\n",
       "        fig.handle_close(fig, {});\n",
       "    });\n",
       "    button.addEventListener(\n",
       "        'mouseover',\n",
       "        on_mouseover_closure('Stop Interaction')\n",
       "    );\n",
       "    buttongrp.appendChild(button);\n",
       "    var titlebar = this.root.querySelector('.ui-dialog-titlebar');\n",
       "    titlebar.insertBefore(buttongrp, titlebar.firstChild);\n",
       "};\n",
       "\n",
       "mpl.figure.prototype._remove_fig_handler = function (event) {\n",
       "    var fig = event.data.fig;\n",
       "    fig.close_ws(fig, {});\n",
       "};\n",
       "\n",
       "mpl.figure.prototype._root_extra_style = function (el) {\n",
       "    el.style.boxSizing = 'content-box'; // override notebook setting of border-box.\n",
       "};\n",
       "\n",
       "mpl.figure.prototype._canvas_extra_style = function (el) {\n",
       "    // this is important to make the div 'focusable\n",
       "    el.setAttribute('tabindex', 0);\n",
       "    // reach out to IPython and tell the keyboard manager to turn it's self\n",
       "    // off when our div gets focus\n",
       "\n",
       "    // location in version 3\n",
       "    if (IPython.notebook.keyboard_manager) {\n",
       "        IPython.notebook.keyboard_manager.register_events(el);\n",
       "    } else {\n",
       "        // location in version 2\n",
       "        IPython.keyboard_manager.register_events(el);\n",
       "    }\n",
       "};\n",
       "\n",
       "mpl.figure.prototype._key_event_extra = function (event, _name) {\n",
       "    var manager = IPython.notebook.keyboard_manager;\n",
       "    if (!manager) {\n",
       "        manager = IPython.keyboard_manager;\n",
       "    }\n",
       "\n",
       "    // Check for shift+enter\n",
       "    if (event.shiftKey && event.which === 13) {\n",
       "        this.canvas_div.blur();\n",
       "        // select the cell after this one\n",
       "        var index = IPython.notebook.find_cell_index(this.cell_info[0]);\n",
       "        IPython.notebook.select(index + 1);\n",
       "    }\n",
       "};\n",
       "\n",
       "mpl.figure.prototype.handle_save = function (fig, _msg) {\n",
       "    fig.ondownload(fig, null);\n",
       "};\n",
       "\n",
       "mpl.find_output_cell = function (html_output) {\n",
       "    // Return the cell and output element which can be found *uniquely* in the notebook.\n",
       "    // Note - this is a bit hacky, but it is done because the \"notebook_saving.Notebook\"\n",
       "    // IPython event is triggered only after the cells have been serialised, which for\n",
       "    // our purposes (turning an active figure into a static one), is too late.\n",
       "    var cells = IPython.notebook.get_cells();\n",
       "    var ncells = cells.length;\n",
       "    for (var i = 0; i < ncells; i++) {\n",
       "        var cell = cells[i];\n",
       "        if (cell.cell_type === 'code') {\n",
       "            for (var j = 0; j < cell.output_area.outputs.length; j++) {\n",
       "                var data = cell.output_area.outputs[j];\n",
       "                if (data.data) {\n",
       "                    // IPython >= 3 moved mimebundle to data attribute of output\n",
       "                    data = data.data;\n",
       "                }\n",
       "                if (data['text/html'] === html_output) {\n",
       "                    return [cell, data, j];\n",
       "                }\n",
       "            }\n",
       "        }\n",
       "    }\n",
       "};\n",
       "\n",
       "// Register the function which deals with the matplotlib target/channel.\n",
       "// The kernel may be null if the page has been refreshed.\n",
       "if (IPython.notebook.kernel !== null) {\n",
       "    IPython.notebook.kernel.comm_manager.register_target(\n",
       "        'matplotlib',\n",
       "        mpl.mpl_figure_comm\n",
       "    );\n",
       "}\n"
      ],
      "text/plain": [
       "<IPython.core.display.Javascript object>"
      ]
     },
     "metadata": {},
     "output_type": "display_data"
    },
    {
     "data": {
      "text/html": [
       "<img src=\"data:image/png;base64,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\" width=\"473.33333333333337\">"
      ],
      "text/plain": [
       "<IPython.core.display.HTML object>"
      ]
     },
     "metadata": {},
     "output_type": "display_data"
    }
   ],
   "source": [
    "%display plain\n",
    "%matplotlib notebook\n",
    "frame = True\n",
    "axes_labels = [r\"$(r_{\\mathscr{O}}/m)\\; \\alpha_{\\rm s}$\", \n",
    "               r\"$(r_{\\mathscr{O}}/m)\\; \\beta_{\\rm s}$\"]\n",
    "test_size = False\n",
    "raw = False\n",
    "img = mpimg.imread(gimage + '.png')\n",
    "print(gimage, \" resolution:\", img.shape)\n",
    "# size of the image in inches:\n",
    "figsize = (float(img.shape[0])/dpi, float(img.shape[1])/dpi)\n",
    "print(\"figsize: \", figsize)\n",
    "gcrit = Graphics()\n",
    "for a0, th_obs, orient, color in image_parameters:\n",
    "    print(\"a/m =\", a0, \"  theta_obs =\", th_obs)\n",
    "    # Critical curve as a SageMath graphics object from shadow_plot\n",
    "    if th_obs == 0:\n",
    "        th_obs = 0.001\n",
    "    if not raw:\n",
    "        g0 = shadow_plot(a0, th_obs, orientation=orient, fill=False, \n",
    "                         color=color, number_colors=1, thickness=2., \n",
    "                         linestyle=':', draw_spin=True,\n",
    "                         frame=frame, axes=False, \n",
    "                         axes_labels=axes_labels, gridlines=False, \n",
    "                         legend=False)\n",
    "        gcrit += g0\n",
    "        gcrit.axes_labels(g0.axes_labels())\n",
    "    else:\n",
    "        gcrit += empty_plot(fsize, axes_labels=axes_labels, frame=frame)\n",
    "    if test_size:\n",
    "        axes_labels_bck = gcrit.axes_labels()\n",
    "        gcrit += point((-fsize, 0), size=60, color='red', zorder=100)\n",
    "        gcrit += point((fsize, 0), size=60, color='red', zorder=100)\n",
    "        gcrit += point((0, -fsize), size=60, color='red', zorder=100)\n",
    "        gcrit += point((0, fsize), size=60, color='red', zorder=100)\n",
    "        gcrit.axes_labels(axes_labels_bck)\n",
    "# Adding the jet axis\n",
    "ta = tan((90 + Theta_jet)/180.*pi)\n",
    "gcrit += arrow2d((7, 7*ta), (16, 16*ta), color='lightskyblue', \n",
    "                 linestyle='--', thickness=2)\n",
    "gcrit += text(\"jet\", (11, 11*ta+1.5), rotation=17, color='lightskyblue',\n",
    "              fontsize=14)\n",
    "gcrit.axes_labels(g0.axes_labels())\n",
    "gcrit.set_axes_range(-fsize, fsize, -fsize, fsize)\n",
    "# Matplotlib figure corresponding to gcrit:\n",
    "options = gcrit.SHOW_OPTIONS.copy()\n",
    "options.update(gcrit._extra_kwds)\n",
    "options['figsize'] = figsize\n",
    "options['axes_pad'] = 0\n",
    "options.pop('dpi')           # strip meaningless options for matplotlib\n",
    "options.pop('transparent')   #\n",
    "options.pop('fig_tight')     #\n",
    "fcrit = gcrit.matplotlib(**options)\n",
    "# Adding the M87* image onto it:\n",
    "ax = fcrit.axes[0]\n",
    "ax.imshow(img, extent=extent)\n",
    "# Save result to png and pdf\n",
    "ext = '_raw' if raw else '_crit'\n",
    "fcrit.savefig(gimage + ext + '.png', dpi=dpi, pad_inches=0, \n",
    "              bbox_inches='tight', transparent=True)\n",
    "fcrit.savefig(gimage + ext + '.pdf', pad_inches=0, \n",
    "              bbox_inches='tight')\n",
    "# Only for display in the current notebook:\n",
    "fig = plt.figure(figsize=figsize, dpi=dpi, frameon=False)\n",
    "imgc = mpimg.imread(gimage + '_crit.png')\n",
    "if axes_labels:\n",
    "    imgcp = plt.imshow(imgc)\n",
    "else:\n",
    "    imgcp = plt.imshow(imgc, extent=extent)"
   ]
  },
  {
   "cell_type": "code",
   "execution_count": null,
   "metadata": {},
   "outputs": [],
   "source": []
  }
 ],
 "metadata": {
  "kernelspec": {
   "display_name": "SageMath 9.3.beta7",
   "language": "sage",
   "name": "sagemath"
  },
  "language_info": {
   "codemirror_mode": {
    "name": "ipython",
    "version": 3
   },
   "file_extension": ".py",
   "mimetype": "text/x-python",
   "name": "python",
   "nbconvert_exporter": "python",
   "pygments_lexer": "ipython3",
   "version": "3.8.5"
  }
 },
 "nbformat": 4,
 "nbformat_minor": 4
}
