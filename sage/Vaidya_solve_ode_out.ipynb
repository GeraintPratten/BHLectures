{
 "cells": [
  {
   "cell_type": "markdown",
   "id": "585d5c32-0c8d-413e-a2ad-91f8766a229d",
   "metadata": {},
   "source": [
    "# Solving the ODE for outgoing radial null geodesics in Vaidya spacetime\n",
    "\n",
    "This Jupyter/SageMath notebook is relative to the lectures\n",
    "[Geometry and physics of black holes](https://luth.obspm.fr/~luthier/gourgoulhon/bh16/).\n",
    "\n",
    "The computations make use of tools developed through the [SageManifolds project](https://sagemanifolds.obspm.fr)."
   ]
  },
  {
   "cell_type": "code",
   "execution_count": 1,
   "id": "af5f40ce-a96a-43c1-b830-a2f7c77d6bf2",
   "metadata": {},
   "outputs": [
    {
     "data": {
      "text/plain": [
       "'SageMath version 9.7.beta1, Release Date: 2022-05-26'"
      ]
     },
     "execution_count": 1,
     "metadata": {},
     "output_type": "execute_result"
    }
   ],
   "source": [
    "version()"
   ]
  },
  {
   "cell_type": "code",
   "execution_count": 2,
   "id": "745e8d88-46b2-4080-88ee-b49964052d5d",
   "metadata": {},
   "outputs": [],
   "source": [
    "%display latex"
   ]
  },
  {
   "cell_type": "code",
   "execution_count": 3,
   "id": "a3952b06-1be3-47a8-8620-3680316a3a9b",
   "metadata": {},
   "outputs": [],
   "source": [
    "x = var('x', domain='real')"
   ]
  },
  {
   "cell_type": "code",
   "execution_count": 4,
   "id": "7d0c7d93-6f9a-4297-b5c4-eb3f273f113d",
   "metadata": {},
   "outputs": [],
   "source": [
    "a = var('a', latex_name=r'\\alpha', domain='real')"
   ]
  },
  {
   "cell_type": "code",
   "execution_count": 5,
   "id": "56a44b6b-3605-4237-b433-9f62c8c84f6c",
   "metadata": {},
   "outputs": [
    {
     "data": {
      "text/html": [
       "<html>\\(\\displaystyle -\\frac{{\\alpha} x - 1}{{\\alpha} x^{2} - x + 2}\\)</html>"
      ],
      "text/latex": [
       "$\\displaystyle -\\frac{{\\alpha} x - 1}{{\\alpha} x^{2} - x + 2}$"
      ],
      "text/plain": [
       "-(a*x - 1)/(a*x^2 - x + 2)"
      ]
     },
     "execution_count": 5,
     "metadata": {},
     "output_type": "execute_result"
    }
   ],
   "source": [
    "f(x) = (1 - a*x) / (a*x^2 - x + 2)\n",
    "f(x)"
   ]
  },
  {
   "cell_type": "markdown",
   "id": "fb746f8d-72f5-43b3-8847-bdb2bb07072d",
   "metadata": {},
   "source": [
    "## Case of a high density radiation shell"
   ]
  },
  {
   "cell_type": "code",
   "execution_count": 6,
   "id": "c8a29227-b1b2-4783-ae1e-31ee0dc70d93",
   "metadata": {},
   "outputs": [],
   "source": [
    "assume(a > 1/8)"
   ]
  },
  {
   "cell_type": "code",
   "execution_count": 7,
   "id": "f4b54f1b-1cc6-4dec-af02-61f501424cff",
   "metadata": {},
   "outputs": [
    {
     "data": {
      "text/html": [
       "<html>\\(\\displaystyle \\frac{\\arctan\\left(\\frac{2 \\, {\\alpha} x - 1}{\\sqrt{8 \\, {\\alpha} - 1}}\\right)}{\\sqrt{8 \\, {\\alpha} - 1}} - \\frac{1}{2} \\, \\log\\left({\\alpha} x^{2} - x + 2\\right)\\)</html>"
      ],
      "text/latex": [
       "$\\displaystyle \\frac{\\arctan\\left(\\frac{2 \\, {\\alpha} x - 1}{\\sqrt{8 \\, {\\alpha} - 1}}\\right)}{\\sqrt{8 \\, {\\alpha} - 1}} - \\frac{1}{2} \\, \\log\\left({\\alpha} x^{2} - x + 2\\right)$"
      ],
      "text/plain": [
       "arctan((2*a*x - 1)/sqrt(8*a - 1))/sqrt(8*a - 1) - 1/2*log(a*x^2 - x + 2)"
      ]
     },
     "execution_count": 7,
     "metadata": {},
     "output_type": "execute_result"
    }
   ],
   "source": [
    "F(x) = integrate(f(x), x)\n",
    "F(x)"
   ]
  },
  {
   "cell_type": "code",
   "execution_count": 8,
   "id": "b47c84e5-464d-4871-a730-617ead570bc7",
   "metadata": {},
   "outputs": [],
   "source": [
    "P(x) = a*x^2 - x + 2"
   ]
  },
  {
   "cell_type": "code",
   "execution_count": 9,
   "id": "14f9200b-39b9-4d31-a06b-4887e9474fa7",
   "metadata": {},
   "outputs": [],
   "source": [
    "x1 = 1/(2*a)"
   ]
  },
  {
   "cell_type": "code",
   "execution_count": 10,
   "id": "e16f281a-eefb-47f8-90a2-ccdba49c0902",
   "metadata": {},
   "outputs": [
    {
     "data": {
      "text/html": [
       "<html>\\(\\displaystyle -\\frac{1}{4 \\, {\\alpha}} + 2\\)</html>"
      ],
      "text/latex": [
       "$\\displaystyle -\\frac{1}{4 \\, {\\alpha}} + 2$"
      ],
      "text/plain": [
       "-1/4/a + 2"
      ]
     },
     "execution_count": 10,
     "metadata": {},
     "output_type": "execute_result"
    }
   ],
   "source": [
    "P(x1)"
   ]
  },
  {
   "cell_type": "code",
   "execution_count": 11,
   "id": "f492f367-9f82-4979-8cad-5730f17b3743",
   "metadata": {},
   "outputs": [
    {
     "data": {
      "text/html": [
       "<html>\\(\\displaystyle -\\frac{1}{2} \\, \\log\\left(-\\frac{1}{4 \\, {\\alpha}} + 2\\right)\\)</html>"
      ],
      "text/latex": [
       "$\\displaystyle -\\frac{1}{2} \\, \\log\\left(-\\frac{1}{4 \\, {\\alpha}} + 2\\right)$"
      ],
      "text/plain": [
       "-1/2*log(-1/4/a + 2)"
      ]
     },
     "execution_count": 11,
     "metadata": {},
     "output_type": "execute_result"
    }
   ],
   "source": [
    "F(x1)"
   ]
  },
  {
   "cell_type": "code",
   "execution_count": 12,
   "id": "d71448f1-9e79-4c8b-8045-edbaa96c6f33",
   "metadata": {},
   "outputs": [
    {
     "data": {
      "text/html": [
       "<html>\\(\\displaystyle \\frac{2}{\\sqrt{\\frac{8 \\, {\\alpha} - 1}{{\\alpha}}}}\\)</html>"
      ],
      "text/latex": [
       "$\\displaystyle \\frac{2}{\\sqrt{\\frac{8 \\, {\\alpha} - 1}{{\\alpha}}}}$"
      ],
      "text/plain": [
       "2/sqrt((8*a - 1)/a)"
      ]
     },
     "execution_count": 12,
     "metadata": {},
     "output_type": "execute_result"
    }
   ],
   "source": [
    "exp(F(x1)).simplify_full()"
   ]
  },
  {
   "cell_type": "code",
   "execution_count": 13,
   "id": "7079e1e8-521e-4aed-831f-e4e740d32420",
   "metadata": {},
   "outputs": [
    {
     "data": {
      "text/html": [
       "<html>\\(\\displaystyle 2\\)</html>"
      ],
      "text/latex": [
       "$\\displaystyle 2$"
      ],
      "text/plain": [
       "2"
      ]
     },
     "execution_count": 13,
     "metadata": {},
     "output_type": "execute_result"
    }
   ],
   "source": [
    "P(1/a)"
   ]
  },
  {
   "cell_type": "code",
   "execution_count": 14,
   "id": "1289a06f-2971-431b-b0f4-cfd7e9029a46",
   "metadata": {},
   "outputs": [
    {
     "data": {
      "text/html": [
       "<html>\\(\\displaystyle -4 \\, e^{\\left(-\\frac{2 \\, \\arctan\\left(\\frac{1}{\\sqrt{\\frac{16}{x} - 1}}\\right)}{\\sqrt{\\frac{16}{x} - 1}}\\right)}\\)</html>"
      ],
      "text/latex": [
       "$\\displaystyle -4 \\, e^{\\left(-\\frac{2 \\, \\arctan\\left(\\frac{1}{\\sqrt{\\frac{16}{x} - 1}}\\right)}{\\sqrt{\\frac{16}{x} - 1}}\\right)}$"
      ],
      "text/plain": [
       "-4*e^(-2*arctan(1/sqrt(16/x - 1))/sqrt(16/x - 1))"
      ]
     },
     "execution_count": 14,
     "metadata": {},
     "output_type": "execute_result"
    }
   ],
   "source": [
    "thb = -4*exp(-2/sqrt(16/x - 1)*atan(1/sqrt(16/x - 1)))\n",
    "thb"
   ]
  },
  {
   "cell_type": "code",
   "execution_count": 15,
   "id": "8d79df08-6cfb-4e4f-8ed6-186aa90e6d91",
   "metadata": {},
   "outputs": [
    {
     "data": {
      "image/png": "[encoded data removed]",
      "text/plain": [
       "Graphics object consisting of 1 graphics primitive"
      ]
     },
     "execution_count": 15,
     "metadata": {},
     "output_type": "execute_result"
    }
   ],
   "source": [
    "plot(thb, (x, 0.001, 15.99))"
   ]
  },
  {
   "cell_type": "code",
   "execution_count": 16,
   "id": "9b60dbbd-9414-4f35-979d-5d92d130c7b9",
   "metadata": {},
   "outputs": [
    {
     "data": {
      "text/html": [
       "<html>\\(\\displaystyle -\\frac{1}{3840} \\, x^{3} - \\frac{1}{96} \\, x^{2} + \\frac{1}{2} \\, x - 4\\)</html>"
      ],
      "text/latex": [
       "$\\displaystyle -\\frac{1}{3840} \\, x^{3} - \\frac{1}{96} \\, x^{2} + \\frac{1}{2} \\, x - 4$"
      ],
      "text/plain": [
       "-1/3840*x^3 - 1/96*x^2 + 1/2*x - 4"
      ]
     },
     "execution_count": 16,
     "metadata": {},
     "output_type": "execute_result"
    }
   ],
   "source": [
    "taylor(thb, x, 0, 3)"
   ]
  },
  {
   "cell_type": "code",
   "execution_count": 17,
   "id": "e745d966-6e84-4f46-9b5e-f69efbeaf243",
   "metadata": {},
   "outputs": [
    {
     "data": {
      "text/html": [
       "<html>\\(\\displaystyle x\\)</html>"
      ],
      "text/latex": [
       "$\\displaystyle x$"
      ],
      "text/plain": [
       "x"
      ]
     },
     "execution_count": 17,
     "metadata": {},
     "output_type": "execute_result"
    }
   ],
   "source": [
    "x"
   ]
  },
  {
   "cell_type": "code",
   "execution_count": 18,
   "id": "a29ca495-c43a-4812-bc65-3a1a407ba565",
   "metadata": {},
   "outputs": [
    {
     "data": {
      "text/html": [
       "<html>\\(\\displaystyle \\left( {\\alpha}, x \\right) \\ {\\mapsto} \\ \\frac{\\sqrt{2} e^{\\left(\\frac{\\arctan\\left(\\frac{2 \\, {\\alpha} x - 1}{\\sqrt{8 \\, {\\alpha} - 1}}\\right) + \\arctan\\left(\\frac{1}{\\sqrt{8 \\, {\\alpha} - 1}}\\right)}{\\sqrt{8 \\, {\\alpha} - 1}}\\right)}}{\\sqrt{{\\alpha} x^{2} - x + 2}}\\)</html>"
      ],
      "text/latex": [
       "$\\displaystyle \\left( {\\alpha}, x \\right) \\ {\\mapsto} \\ \\frac{\\sqrt{2} e^{\\left(\\frac{\\arctan\\left(\\frac{2 \\, {\\alpha} x - 1}{\\sqrt{8 \\, {\\alpha} - 1}}\\right) + \\arctan\\left(\\frac{1}{\\sqrt{8 \\, {\\alpha} - 1}}\\right)}{\\sqrt{8 \\, {\\alpha} - 1}}\\right)}}{\\sqrt{{\\alpha} x^{2} - x + 2}}$"
      ],
      "text/plain": [
       "(a, x) |--> sqrt(2)*e^((arctan((2*a*x - 1)/sqrt(8*a - 1)) + arctan(1/sqrt(8*a - 1)))/sqrt(8*a - 1))/sqrt(a*x^2 - x + 2)"
      ]
     },
     "execution_count": 18,
     "metadata": {},
     "output_type": "execute_result"
    }
   ],
   "source": [
    "f(a, x) = sqrt(2)/sqrt(a*x^2 - x + 2)*exp(1/sqrt(8*a - 1)*\\\n",
    "          (atan((2*a*x - 1)/sqrt(8*a - 1)) + atan(1/sqrt(8*a - 1))))\n",
    "f"
   ]
  },
  {
   "cell_type": "code",
   "execution_count": 19,
   "id": "e9246b40-7c09-4b6a-bc23-0ab21d20a1b6",
   "metadata": {},
   "outputs": [
    {
     "data": {
      "text/html": [
       "<html>\\(\\displaystyle -\\frac{\\sqrt{2} {\\left(2 \\, {\\alpha} x - 1\\right)} e^{\\left(\\frac{\\arctan\\left(\\frac{2 \\, {\\alpha} x - 1}{\\sqrt{8 \\, {\\alpha} - 1}}\\right) + \\arctan\\left(\\frac{1}{\\sqrt{8 \\, {\\alpha} - 1}}\\right)}{\\sqrt{8 \\, {\\alpha} - 1}}\\right)}}{2 \\, {\\left({\\alpha} x^{2} - x + 2\\right)}^{\\frac{3}{2}}} + \\frac{2 \\, \\sqrt{2} {\\alpha} e^{\\left(\\frac{\\arctan\\left(\\frac{2 \\, {\\alpha} x - 1}{\\sqrt{8 \\, {\\alpha} - 1}}\\right) + \\arctan\\left(\\frac{1}{\\sqrt{8 \\, {\\alpha} - 1}}\\right)}{\\sqrt{8 \\, {\\alpha} - 1}}\\right)}}{\\sqrt{{\\alpha} x^{2} - x + 2} {\\left(\\frac{{\\left(2 \\, {\\alpha} x - 1\\right)}^{2}}{8 \\, {\\alpha} - 1} + 1\\right)} {\\left(8 \\, {\\alpha} - 1\\right)}}\\)</html>"
      ],
      "text/latex": [
       "$\\displaystyle -\\frac{\\sqrt{2} {\\left(2 \\, {\\alpha} x - 1\\right)} e^{\\left(\\frac{\\arctan\\left(\\frac{2 \\, {\\alpha} x - 1}{\\sqrt{8 \\, {\\alpha} - 1}}\\right) + \\arctan\\left(\\frac{1}{\\sqrt{8 \\, {\\alpha} - 1}}\\right)}{\\sqrt{8 \\, {\\alpha} - 1}}\\right)}}{2 \\, {\\left({\\alpha} x^{2} - x + 2\\right)}^{\\frac{3}{2}}} + \\frac{2 \\, \\sqrt{2} {\\alpha} e^{\\left(\\frac{\\arctan\\left(\\frac{2 \\, {\\alpha} x - 1}{\\sqrt{8 \\, {\\alpha} - 1}}\\right) + \\arctan\\left(\\frac{1}{\\sqrt{8 \\, {\\alpha} - 1}}\\right)}{\\sqrt{8 \\, {\\alpha} - 1}}\\right)}}{\\sqrt{{\\alpha} x^{2} - x + 2} {\\left(\\frac{{\\left(2 \\, {\\alpha} x - 1\\right)}^{2}}{8 \\, {\\alpha} - 1} + 1\\right)} {\\left(8 \\, {\\alpha} - 1\\right)}}$"
      ],
      "text/plain": [
       "-1/2*sqrt(2)*(2*a*x - 1)*e^((arctan((2*a*x - 1)/sqrt(8*a - 1)) + arctan(1/sqrt(8*a - 1)))/sqrt(8*a - 1))/(a*x^2 - x + 2)^(3/2) + 2*sqrt(2)*a*e^((arctan((2*a*x - 1)/sqrt(8*a - 1)) + arctan(1/sqrt(8*a - 1)))/sqrt(8*a - 1))/(sqrt(a*x^2 - x + 2)*((2*a*x - 1)^2/(8*a - 1) + 1)*(8*a - 1))"
      ]
     },
     "execution_count": 19,
     "metadata": {},
     "output_type": "execute_result"
    }
   ],
   "source": [
    "diff(f(a, x), x)"
   ]
  },
  {
   "cell_type": "code",
   "execution_count": 20,
   "id": "69d03276-f958-44f6-9d00-a428f6432a6c",
   "metadata": {},
   "outputs": [
    {
     "data": {
      "image/png": "[encoded data removed]",
      "text/plain": [
       "Graphics object consisting of 6 graphics primitives"
      ]
     },
     "metadata": {},
     "output_type": "display_data"
    }
   ],
   "source": [
    "a_sel = [1/4, 1/2, 1, 2, 4, 6]\n",
    "graph = Graphics()\n",
    "for a1 in a_sel:\n",
    "    legend_label=r'$\\alpha = {:.2f}$'.format(float(a1))\n",
    "    graph += plot(f(a1, x), (x, 0, 6), color=hue(a1/8), \n",
    "                  legend_label=legend_label, thickness=1.5,\n",
    "                  axes_labels=[r\"$x$\", r\"$f_\\alpha(x)$\"])\n",
    "show(graph, frame=True, axes=False, gridlines=True)\n",
    "graph.save(\"vai_f_alpha_x.pdf\", frame=True, axes=False, gridlines=True)"
   ]
  },
  {
   "cell_type": "markdown",
   "id": "25598cdb-8418-4b91-bf0d-838fa6049387",
   "metadata": {},
   "source": [
    "Equivalent form:"
   ]
  },
  {
   "cell_type": "code",
   "execution_count": 21,
   "id": "ec000ab2-eae5-4233-aec7-96947a786d40",
   "metadata": {},
   "outputs": [
    {
     "data": {
      "text/html": [
       "<html>\\(\\displaystyle \\left( {\\alpha}, x \\right) \\ {\\mapsto} \\ \\frac{\\sqrt{2} e^{\\left(\\frac{\\pi H\\left(x - 4\\right) + \\arctan\\left(-\\frac{\\sqrt{8 \\, {\\alpha} - 1} x}{x - 4}\\right)}{\\sqrt{8 \\, {\\alpha} - 1}}\\right)}}{\\sqrt{{\\alpha} x^{2} - x + 2}}\\)</html>"
      ],
      "text/latex": [
       "$\\displaystyle \\left( {\\alpha}, x \\right) \\ {\\mapsto} \\ \\frac{\\sqrt{2} e^{\\left(\\frac{\\pi H\\left(x - 4\\right) + \\arctan\\left(-\\frac{\\sqrt{8 \\, {\\alpha} - 1} x}{x - 4}\\right)}{\\sqrt{8 \\, {\\alpha} - 1}}\\right)}}{\\sqrt{{\\alpha} x^{2} - x + 2}}$"
      ],
      "text/plain": [
       "(a, x) |--> sqrt(2)*e^((pi*heaviside(x - 4) + arctan(-sqrt(8*a - 1)*x/(x - 4)))/sqrt(8*a - 1))/sqrt(a*x^2 - x + 2)"
      ]
     },
     "execution_count": 21,
     "metadata": {},
     "output_type": "execute_result"
    }
   ],
   "source": [
    "h(a, x) = sqrt(2)/sqrt(a*x^2 - x + 2)*exp(1/sqrt(8*a - 1)*\\\n",
    "           (atan(x*sqrt(8*a - 1)/(4 - x)) + pi*heaviside(x-4)))\n",
    "h"
   ]
  },
  {
   "cell_type": "code",
   "execution_count": 22,
   "id": "fd9643f9-8424-4f48-ae6e-f7cbde23e189",
   "metadata": {},
   "outputs": [
    {
     "data": {
      "image/png": "[encoded data removed]",
      "text/plain": [
       "Graphics object consisting of 6 graphics primitives"
      ]
     },
     "metadata": {},
     "output_type": "display_data"
    }
   ],
   "source": [
    "a_sel = [1/4, 1/2, 1, 2, 4, 6]\n",
    "graph = Graphics()\n",
    "for a1 in a_sel:\n",
    "    legend_label=r'$\\alpha = {:.2f}$'.format(float(a1))\n",
    "    graph += plot(h(a1, x), (x, 0, 6), color=hue(a1/8), \n",
    "                  legend_label=legend_label, thickness=1.5,\n",
    "                  axes_labels=[r\"$x$\", r\"$f_\\alpha(x)$\"])\n",
    "show(graph, frame=True, axes=False, gridlines=True)\n"
   ]
  },
  {
   "cell_type": "markdown",
   "id": "d3c1a7e5-9dfe-4221-85b6-e096cdbcbd7f",
   "metadata": {},
   "source": [
    "Maximal value of $f_\\alpha(x)$:"
   ]
  },
  {
   "cell_type": "code",
   "execution_count": 23,
   "id": "46ad577c-6277-4ba1-b4de-2b6080b0df47",
   "metadata": {},
   "outputs": [
    {
     "data": {
      "text/html": [
       "<html>\\(\\displaystyle e^{\\left(\\frac{2 \\, \\arctan\\left(\\frac{1}{\\sqrt{8 \\, {\\alpha} - 1}}\\right)}{\\sqrt{8 \\, {\\alpha} - 1}}\\right)}\\)</html>"
      ],
      "text/latex": [
       "$\\displaystyle e^{\\left(\\frac{2 \\, \\arctan\\left(\\frac{1}{\\sqrt{8 \\, {\\alpha} - 1}}\\right)}{\\sqrt{8 \\, {\\alpha} - 1}}\\right)}$"
      ],
      "text/plain": [
       "e^(2*arctan(1/sqrt(8*a - 1))/sqrt(8*a - 1))"
      ]
     },
     "execution_count": 23,
     "metadata": {},
     "output_type": "execute_result"
    }
   ],
   "source": [
    "f(a, 1/a)"
   ]
  },
  {
   "cell_type": "markdown",
   "id": "cd07fe10-6120-4eb2-bc62-481bdf08cc0a",
   "metadata": {},
   "source": [
    "## Case of a low density radiation shell"
   ]
  },
  {
   "cell_type": "code",
   "execution_count": 24,
   "id": "2bda2f22-48f9-4c0b-b6db-3d4a46714581",
   "metadata": {},
   "outputs": [],
   "source": [
    "forget(a > 1/8)"
   ]
  },
  {
   "cell_type": "code",
   "execution_count": 25,
   "id": "d178b806-4cef-428e-bb57-d4364f1751c4",
   "metadata": {},
   "outputs": [],
   "source": [
    "assume(a < 1/8)"
   ]
  },
  {
   "cell_type": "code",
   "execution_count": 26,
   "id": "dda4678b-9f0b-422c-9e5e-35215c8a45d7",
   "metadata": {},
   "outputs": [
    {
     "data": {
      "text/html": [
       "<html>\\(\\displaystyle \\frac{\\log\\left(\\frac{2 \\, {\\alpha} x - \\sqrt{-8 \\, {\\alpha} + 1} - 1}{2 \\, {\\alpha} x + \\sqrt{-8 \\, {\\alpha} + 1} - 1}\\right)}{2 \\, \\sqrt{-8 \\, {\\alpha} + 1}} - \\frac{1}{2} \\, \\log\\left({\\alpha} x^{2} - x + 2\\right)\\)</html>"
      ],
      "text/latex": [
       "$\\displaystyle \\frac{\\log\\left(\\frac{2 \\, {\\alpha} x - \\sqrt{-8 \\, {\\alpha} + 1} - 1}{2 \\, {\\alpha} x + \\sqrt{-8 \\, {\\alpha} + 1} - 1}\\right)}{2 \\, \\sqrt{-8 \\, {\\alpha} + 1}} - \\frac{1}{2} \\, \\log\\left({\\alpha} x^{2} - x + 2\\right)$"
      ],
      "text/plain": [
       "1/2*log((2*a*x - sqrt(-8*a + 1) - 1)/(2*a*x + sqrt(-8*a + 1) - 1))/sqrt(-8*a + 1) - 1/2*log(a*x^2 - x + 2)"
      ]
     },
     "execution_count": 26,
     "metadata": {},
     "output_type": "execute_result"
    }
   ],
   "source": [
    "f(x) = (1 - a*x) / (a*x^2 - x + 2)\n",
    "F(x) = integrate(f(x), x)\n",
    "F(x)"
   ]
  },
  {
   "cell_type": "code",
   "execution_count": 27,
   "id": "1c31f6b7-a188-4a1c-9b74-ca58a9bb17fd",
   "metadata": {},
   "outputs": [
    {
     "data": {
      "text/html": [
       "<html>\\(\\displaystyle \\left(-\\frac{\\sqrt{-8 \\, {\\alpha} + 1} - 1}{2 \\, {\\alpha}}, \\frac{\\sqrt{-8 \\, {\\alpha} + 1} + 1}{2 \\, {\\alpha}}\\right)\\)</html>"
      ],
      "text/latex": [
       "$\\displaystyle \\left(-\\frac{\\sqrt{-8 \\, {\\alpha} + 1} - 1}{2 \\, {\\alpha}}, \\frac{\\sqrt{-8 \\, {\\alpha} + 1} + 1}{2 \\, {\\alpha}}\\right)$"
      ],
      "text/plain": [
       "(-1/2*(sqrt(-8*a + 1) - 1)/a, 1/2*(sqrt(-8*a + 1) + 1)/a)"
      ]
     },
     "execution_count": 27,
     "metadata": {},
     "output_type": "execute_result"
    }
   ],
   "source": [
    "x01 = (1 - sqrt(1 - 8*a))/(2*a)\n",
    "x02 = (1 + sqrt(1 - 8*a))/(2*a)\n",
    "x01, x02"
   ]
  },
  {
   "cell_type": "code",
   "execution_count": 28,
   "id": "e65e6a60-4b14-4ceb-94cd-9adcb4eb1780",
   "metadata": {},
   "outputs": [
    {
     "data": {
      "text/html": [
       "<html>\\(\\displaystyle \\frac{1}{{\\alpha}}\\)</html>"
      ],
      "text/latex": [
       "$\\displaystyle \\frac{1}{{\\alpha}}$"
      ],
      "text/plain": [
       "1/a"
      ]
     },
     "execution_count": 28,
     "metadata": {},
     "output_type": "execute_result"
    }
   ],
   "source": [
    "(x01 + x02).simplify_full()"
   ]
  },
  {
   "cell_type": "code",
   "execution_count": 29,
   "id": "8a7f1b45-14d0-43bb-9cf4-f264fc0f6fca",
   "metadata": {},
   "outputs": [
    {
     "data": {
      "text/html": [
       "<html>\\(\\displaystyle \\mathrm{True}\\)</html>"
      ],
      "text/latex": [
       "$\\displaystyle \\mathrm{True}$"
      ],
      "text/plain": [
       "True"
      ]
     },
     "execution_count": 29,
     "metadata": {},
     "output_type": "execute_result"
    }
   ],
   "source": [
    "bool(P(x) == a*(x - x01)*(x - x02))"
   ]
  },
  {
   "cell_type": "code",
   "execution_count": 30,
   "id": "17101703-5822-4146-b4f1-7071a547b2bd",
   "metadata": {},
   "outputs": [
    {
     "data": {
      "text/html": [
       "<html>\\(\\displaystyle \\frac{1}{x_{1} + x_{2}}\\)</html>"
      ],
      "text/latex": [
       "$\\displaystyle \\frac{1}{x_{1} + x_{2}}$"
      ],
      "text/plain": [
       "1/(x_1 + x_2)"
      ]
     },
     "execution_count": 30,
     "metadata": {},
     "output_type": "execute_result"
    }
   ],
   "source": [
    "x1 = var('x_1', domain='real')\n",
    "x2 = var('x_2', domain='real')\n",
    "a1 = 1/(x1 + x2)\n",
    "a1"
   ]
  },
  {
   "cell_type": "code",
   "execution_count": 31,
   "id": "e545d1be-e060-44fa-a615-c9f6b1fb0524",
   "metadata": {},
   "outputs": [
    {
     "data": {
      "text/html": [
       "<html>\\(\\displaystyle -\\frac{{\\left(x_{1} + x_{2}\\right)} {\\left(\\frac{x}{x_{1} + x_{2}} - 1\\right)}}{{\\left(x - x_{1}\\right)} {\\left(x - x_{2}\\right)}}\\)</html>"
      ],
      "text/latex": [
       "$\\displaystyle -\\frac{{\\left(x_{1} + x_{2}\\right)} {\\left(\\frac{x}{x_{1} + x_{2}} - 1\\right)}}{{\\left(x - x_{1}\\right)} {\\left(x - x_{2}\\right)}}$"
      ],
      "text/plain": [
       "-(x_1 + x_2)*(x/(x_1 + x_2) - 1)/((x - x_1)*(x - x_2))"
      ]
     },
     "execution_count": 31,
     "metadata": {},
     "output_type": "execute_result"
    }
   ],
   "source": [
    "f1(x) = (1 - a1*x) / (a1*(x - x1)*(x - x2))\n",
    "f1(x)"
   ]
  },
  {
   "cell_type": "code",
   "execution_count": 32,
   "id": "6202206d-225b-48f6-8be7-a07e66dab797",
   "metadata": {},
   "outputs": [
    {
     "data": {
      "text/html": [
       "<html>\\(\\displaystyle \\frac{x_{2} \\log\\left(x - x_{1}\\right) - x_{1} \\log\\left(x - x_{2}\\right)}{x_{1} - x_{2}}\\)</html>"
      ],
      "text/latex": [
       "$\\displaystyle \\frac{x_{2} \\log\\left(x - x_{1}\\right) - x_{1} \\log\\left(x - x_{2}\\right)}{x_{1} - x_{2}}$"
      ],
      "text/plain": [
       "(x_2*log(x - x_1) - x_1*log(x - x_2))/(x_1 - x_2)"
      ]
     },
     "execution_count": 32,
     "metadata": {},
     "output_type": "execute_result"
    }
   ],
   "source": [
    "integrate(f1(x), x).simplify_full()"
   ]
  },
  {
   "cell_type": "code",
   "execution_count": 33,
   "id": "ef452726-0192-41a0-b781-bf12c4d22cd6",
   "metadata": {},
   "outputs": [
    {
     "data": {
      "text/html": [
       "<html>\\(\\displaystyle -\\frac{\\sqrt{-8 \\, {\\alpha} + 1}}{{\\alpha}}\\)</html>"
      ],
      "text/latex": [
       "$\\displaystyle -\\frac{\\sqrt{-8 \\, {\\alpha} + 1}}{{\\alpha}}$"
      ],
      "text/plain": [
       "-sqrt(-8*a + 1)/a"
      ]
     },
     "execution_count": 33,
     "metadata": {},
     "output_type": "execute_result"
    }
   ],
   "source": [
    "(x01 - x02).simplify_full()"
   ]
  },
  {
   "cell_type": "code",
   "execution_count": 34,
   "id": "5e350efa-964d-4830-ada5-8f4615413cbe",
   "metadata": {},
   "outputs": [
    {
     "data": {
      "text/html": [
       "<html>\\(\\displaystyle \\frac{x_{2} \\log\\left({\\left| x - x_{1} \\right|}\\right)}{x_{1} - x_{2}} - \\frac{x_{1} \\log\\left({\\left| x - x_{2} \\right|}\\right)}{x_{1} - x_{2}}\\)</html>"
      ],
      "text/latex": [
       "$\\displaystyle \\frac{x_{2} \\log\\left({\\left| x - x_{1} \\right|}\\right)}{x_{1} - x_{2}} - \\frac{x_{1} \\log\\left({\\left| x - x_{2} \\right|}\\right)}{x_{1} - x_{2}}$"
      ],
      "text/plain": [
       "x_2*log(abs(x - x_1))/(x_1 - x_2) - x_1*log(abs(x - x_2))/(x_1 - x_2)"
      ]
     },
     "execution_count": 34,
     "metadata": {},
     "output_type": "execute_result"
    }
   ],
   "source": [
    "g = x2/(x1 - x2)*ln(abs(x - x1)) - x1/(x1 - x2)*ln(abs(x - x2))\n",
    "g"
   ]
  },
  {
   "cell_type": "code",
   "execution_count": 35,
   "id": "fcfaae9b-0bae-4897-88de-b312d2fd3edd",
   "metadata": {},
   "outputs": [
    {
     "data": {
      "text/html": [
       "<html>\\(\\displaystyle -\\frac{x_{1}}{{\\left(x - x_{2}\\right)} {\\left(x_{1} - x_{2}\\right)}} + \\frac{x_{2}}{{\\left(x - x_{1}\\right)} {\\left(x_{1} - x_{2}\\right)}}\\)</html>"
      ],
      "text/latex": [
       "$\\displaystyle -\\frac{x_{1}}{{\\left(x - x_{2}\\right)} {\\left(x_{1} - x_{2}\\right)}} + \\frac{x_{2}}{{\\left(x - x_{1}\\right)} {\\left(x_{1} - x_{2}\\right)}}$"
      ],
      "text/plain": [
       "-x_1/((x - x_2)*(x_1 - x_2)) + x_2/((x - x_1)*(x_1 - x_2))"
      ]
     },
     "execution_count": 35,
     "metadata": {},
     "output_type": "execute_result"
    }
   ],
   "source": [
    "diff(g, x)"
   ]
  },
  {
   "cell_type": "code",
   "execution_count": 36,
   "id": "ac8d74b8-2859-40c4-8079-99abbf66fb85",
   "metadata": {},
   "outputs": [
    {
     "data": {
      "text/html": [
       "<html>\\(\\displaystyle \\left(3, 6\\right)\\)</html>"
      ],
      "text/latex": [
       "$\\displaystyle \\left(3, 6\\right)$"
      ],
      "text/plain": [
       "(3, 6)"
      ]
     },
     "execution_count": 36,
     "metadata": {},
     "output_type": "execute_result"
    }
   ],
   "source": [
    "X1 = x01.subs(a=1/9).simplify_full()\n",
    "X2 = x02.subs(a=1/9).simplify_full()\n",
    "X1, X2"
   ]
  },
  {
   "cell_type": "code",
   "execution_count": 37,
   "id": "01cdfbe6-1261-4105-a9a6-a305bf34209a",
   "metadata": {},
   "outputs": [
    {
     "data": {
      "text/html": [
       "<html>\\(\\displaystyle \\left(3.00000000000000, 6.00000000000000\\right)\\)</html>"
      ],
      "text/latex": [
       "$\\displaystyle \\left(3.00000000000000, 6.00000000000000\\right)$"
      ],
      "text/plain": [
       "(3.00000000000000, 6.00000000000000)"
      ]
     },
     "execution_count": 37,
     "metadata": {},
     "output_type": "execute_result"
    }
   ],
   "source": [
    "n(X1), n(X2)"
   ]
  },
  {
   "cell_type": "code",
   "execution_count": 38,
   "id": "3272b8ac-e7dc-451a-9ca4-983efb7e0436",
   "metadata": {},
   "outputs": [
    {
     "data": {
      "text/html": [
       "<html>\\(\\displaystyle \\left(1, 2\\right)\\)</html>"
      ],
      "text/latex": [
       "$\\displaystyle \\left(1, 2\\right)$"
      ],
      "text/plain": [
       "(1, 2)"
      ]
     },
     "execution_count": 38,
     "metadata": {},
     "output_type": "execute_result"
    }
   ],
   "source": [
    "b1 = (X1/(X2 - X1)).expand()\n",
    "b2 = (X2/(X2 - X1)).expand()\n",
    "b1, b2"
   ]
  },
  {
   "cell_type": "code",
   "execution_count": 39,
   "id": "32019dc3-d956-4cd6-b61a-c50d744f489c",
   "metadata": {},
   "outputs": [
    {
     "data": {
      "text/html": [
       "<html>\\(\\displaystyle \\frac{{\\left| x - 6 \\right|}}{{\\left(x - 3\\right)}^{2}}\\)</html>"
      ],
      "text/latex": [
       "$\\displaystyle \\frac{{\\left| x - 6 \\right|}}{{\\left(x - 3\\right)}^{2}}$"
      ],
      "text/plain": [
       "abs(x - 6)/(x - 3)^2"
      ]
     },
     "execution_count": 39,
     "metadata": {},
     "output_type": "execute_result"
    }
   ],
   "source": [
    "R(x) = abs(x - X2)^b1/abs(x - X1)^b2\n",
    "R(x)"
   ]
  },
  {
   "cell_type": "code",
   "execution_count": 40,
   "id": "8b8e8602-e2eb-49a8-bce9-535ab09d888e",
   "metadata": {},
   "outputs": [
    {
     "data": {
      "image/png": "[encoded data removed]",
      "text/plain": [
       "Graphics object consisting of 8 graphics primitives"
      ]
     },
     "metadata": {},
     "output_type": "display_data"
    }
   ],
   "source": [
    "graph = plot(R(x), (x, 0, 2.6), thickness=1.5, color='red',\n",
    "             axes_labels=[r\"$x$\", r\"$r/c$\"]) \\\n",
    "        + plot(R(x), (x, 2.9, 12), thickness=1.5, color='red')\n",
    "graph += line([(X1, 0), (X1, 4)], color='blue', linestyle='dashed') \\\n",
    "         + text(r'$x=x_1$', (2.7, 1.5), fontsize=16, color='blue', rotation='vertical')\n",
    "graph += line([(X2, 0), (X2, 4)], color='green', linestyle='dashed') \\\n",
    "         + text(r'$x=x_2$', (5.7, 1.5), fontsize=16, color='green', rotation='vertical')\n",
    "graph += line([(X1 + X2, 0), (X1 + X2, 4)], color='black', linestyle='dotted') \\\n",
    "         + text(r'$x=\\alpha^{-1}$', (8.7, 1.5), fontsize=16, color='black', rotation='vertical')\n",
    "show(graph, ymax=3, frame=True, axes=False, gridlines=True)\n",
    "graph.save('vai_r_x_naksing.pdf', ymax=3, frame=True, axes=False, gridlines=True)"
   ]
  },
  {
   "cell_type": "code",
   "execution_count": 41,
   "id": "7561d621-fbf3-4311-bf0d-2c8d1a946249",
   "metadata": {},
   "outputs": [
    {
     "data": {
      "text/html": [
       "<html>\\(\\displaystyle \\frac{2 \\, {\\left(x_{1} + x_{2}\\right)}}{{\\left(x - x_{1}\\right)} {\\left(x - x_{2}\\right)} x}\\)</html>"
      ],
      "text/latex": [
       "$\\displaystyle \\frac{2 \\, {\\left(x_{1} + x_{2}\\right)}}{{\\left(x - x_{1}\\right)} {\\left(x - x_{2}\\right)} x}$"
      ],
      "text/plain": [
       "2*(x_1 + x_2)/((x - x_1)*(x - x_2)*x)"
      ]
     },
     "execution_count": 41,
     "metadata": {},
     "output_type": "execute_result"
    }
   ],
   "source": [
    "f2(x) = 2 /(x*(a1*(x - x1)*(x - x2)))\n",
    "f2(x)"
   ]
  },
  {
   "cell_type": "code",
   "execution_count": 42,
   "id": "d6855336-72a7-4d7c-9fc2-acade303a6f7",
   "metadata": {},
   "outputs": [
    {
     "data": {
      "text/html": [
       "<html>\\(\\displaystyle \\frac{2 \\, {\\left(x_{2}^{2} {\\left(\\log\\left(x - x_{1}\\right) - \\log\\left(x\\right)\\right)} - x_{1}^{2} \\log\\left(x - x_{2}\\right) + x_{1}^{2} \\log\\left(x\\right) + {\\left(x_{1} \\log\\left(x - x_{1}\\right) - x_{1} \\log\\left(x - x_{2}\\right)\\right)} x_{2}\\right)}}{x_{1}^{2} x_{2} - x_{1} x_{2}^{2}}\\)</html>"
      ],
      "text/latex": [
       "$\\displaystyle \\frac{2 \\, {\\left(x_{2}^{2} {\\left(\\log\\left(x - x_{1}\\right) - \\log\\left(x\\right)\\right)} - x_{1}^{2} \\log\\left(x - x_{2}\\right) + x_{1}^{2} \\log\\left(x\\right) + {\\left(x_{1} \\log\\left(x - x_{1}\\right) - x_{1} \\log\\left(x - x_{2}\\right)\\right)} x_{2}\\right)}}{x_{1}^{2} x_{2} - x_{1} x_{2}^{2}}$"
      ],
      "text/plain": [
       "2*(x_2^2*(log(x - x_1) - log(x)) - x_1^2*log(x - x_2) + x_1^2*log(x) + (x_1*log(x - x_1) - x_1*log(x - x_2))*x_2)/(x_1^2*x_2 - x_1*x_2^2)"
      ]
     },
     "execution_count": 42,
     "metadata": {},
     "output_type": "execute_result"
    }
   ],
   "source": [
    "s = integrate(f2(x), x).simplify_full()\n",
    "s"
   ]
  },
  {
   "cell_type": "code",
   "execution_count": 43,
   "id": "3fcd12ae-41cc-4937-a8fa-e961fc7255d0",
   "metadata": {},
   "outputs": [
    {
     "data": {
      "text/html": [
       "<html>\\(\\displaystyle \\frac{2 \\, {\\left(x_{1} + x_{2}\\right)}}{x_{1}^{2} - x_{1} x_{2}}\\)</html>"
      ],
      "text/latex": [
       "$\\displaystyle \\frac{2 \\, {\\left(x_{1} + x_{2}\\right)}}{x_{1}^{2} - x_{1} x_{2}}$"
      ],
      "text/plain": [
       "2*(x_1 + x_2)/(x_1^2 - x_1*x_2)"
      ]
     },
     "execution_count": 43,
     "metadata": {},
     "output_type": "execute_result"
    }
   ],
   "source": [
    "s.coefficient(log(x - x1)).simplify_full()"
   ]
  },
  {
   "cell_type": "code",
   "execution_count": 44,
   "id": "ce0d6011-7a2b-40ed-a5a1-0161204a9aa8",
   "metadata": {},
   "outputs": [
    {
     "data": {
      "text/html": [
       "<html>\\(\\displaystyle -\\frac{2 \\, {\\left(x_{1} + x_{2}\\right)}}{x_{1} x_{2} - x_{2}^{2}}\\)</html>"
      ],
      "text/latex": [
       "$\\displaystyle -\\frac{2 \\, {\\left(x_{1} + x_{2}\\right)}}{x_{1} x_{2} - x_{2}^{2}}$"
      ],
      "text/plain": [
       "-2*(x_1 + x_2)/(x_1*x_2 - x_2^2)"
      ]
     },
     "execution_count": 44,
     "metadata": {},
     "output_type": "execute_result"
    }
   ],
   "source": [
    "s.coefficient(log(x - x2)).simplify_full()"
   ]
  },
  {
   "cell_type": "code",
   "execution_count": 45,
   "id": "3fb02863-391f-41ac-9afa-7458286b1d0e",
   "metadata": {},
   "outputs": [
    {
     "data": {
      "text/html": [
       "<html>\\(\\displaystyle \\frac{2 \\, {\\left(x_{1} + x_{2}\\right)}}{x_{1} x_{2}}\\)</html>"
      ],
      "text/latex": [
       "$\\displaystyle \\frac{2 \\, {\\left(x_{1} + x_{2}\\right)}}{x_{1} x_{2}}$"
      ],
      "text/plain": [
       "2*(x_1 + x_2)/(x_1*x_2)"
      ]
     },
     "execution_count": 45,
     "metadata": {},
     "output_type": "execute_result"
    }
   ],
   "source": [
    "s.coefficient(log(x)).simplify_full()"
   ]
  },
  {
   "cell_type": "markdown",
   "id": "2d828906-19b7-40e3-9349-d5d115decc5f",
   "metadata": {},
   "source": [
    "## Marginal case: $v_0 = 16 m$"
   ]
  },
  {
   "cell_type": "code",
   "execution_count": 46,
   "id": "ab2c9b77-7092-4c90-a910-fc872da92546",
   "metadata": {},
   "outputs": [
    {
     "data": {
      "text/html": [
       "<html>\\(\\displaystyle -\\frac{x - 8}{{\\left(x - 4\\right)}^{2}}\\)</html>"
      ],
      "text/latex": [
       "$\\displaystyle -\\frac{x - 8}{{\\left(x - 4\\right)}^{2}}$"
      ],
      "text/plain": [
       "-(x - 8)/(x - 4)^2"
      ]
     },
     "execution_count": 46,
     "metadata": {},
     "output_type": "execute_result"
    }
   ],
   "source": [
    "f(x) = (8 - x)/(x - 4)^2\n",
    "f(x)"
   ]
  },
  {
   "cell_type": "code",
   "execution_count": 47,
   "id": "cba6cc0a-e418-4112-9c41-55a11df61447",
   "metadata": {},
   "outputs": [
    {
     "data": {
      "text/html": [
       "<html>\\(\\displaystyle -\\frac{4}{x - 4} - \\log\\left(x - 4\\right)\\)</html>"
      ],
      "text/latex": [
       "$\\displaystyle -\\frac{4}{x - 4} - \\log\\left(x - 4\\right)$"
      ],
      "text/plain": [
       "-4/(x - 4) - log(x - 4)"
      ]
     },
     "execution_count": 47,
     "metadata": {},
     "output_type": "execute_result"
    }
   ],
   "source": [
    "integrate(f(x), x)"
   ]
  },
  {
   "cell_type": "code",
   "execution_count": null,
   "id": "bbf08b0a-f9c1-4e28-9036-3d0c68bb976b",
   "metadata": {},
   "outputs": [],
   "source": []
  }
 ],
 "metadata": {
  "kernelspec": {
   "display_name": "SageMath 9.7.beta1",
   "language": "sage",
   "name": "sagemath"
  },
  "language_info": {
   "codemirror_mode": {
    "name": "ipython",
    "version": 3
   },
   "file_extension": ".py",
   "mimetype": "text/x-python",
   "name": "python",
   "nbconvert_exporter": "python",
   "pygments_lexer": "ipython3",
   "version": "3.8.10"
  }
 },
 "nbformat": 4,
 "nbformat_minor": 5
}
