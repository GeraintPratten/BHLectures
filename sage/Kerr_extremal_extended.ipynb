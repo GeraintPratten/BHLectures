{
 "cells": [
  {
   "cell_type": "markdown",
   "metadata": {},
   "source": [
    "# Maximal extension of the extremal Kerr black hole\n",
    "\n",
    "This Jupyter/SageMath notebook is relative to the lectures\n",
    "[Geometry and physics of black holes](https://luth.obspm.fr/~luthier/gourgoulhon/bh16/).\n",
    "\n",
    "The computations make use of tools developed through the [SageManifolds project](https://sagemanifolds.obspm.fr).\n",
    "\n",
    "version()"
   ]
  },
  {
   "cell_type": "markdown",
   "metadata": {},
   "source": [
    "First we set up the notebook to display mathematical objects using LaTeX rendering:"
   ]
  },
  {
   "cell_type": "code",
   "execution_count": 1,
   "metadata": {},
   "outputs": [],
   "source": [
    "%display latex"
   ]
  },
  {
   "cell_type": "markdown",
   "metadata": {},
   "source": [
    "To speed up computations, we ask for running them in parallel on 8 threads:"
   ]
  },
  {
   "cell_type": "code",
   "execution_count": 2,
   "metadata": {},
   "outputs": [],
   "source": [
    "Parallelism().set(nproc=8)"
   ]
  },
  {
   "cell_type": "markdown",
   "metadata": {},
   "source": [
    "## Spacetime manifold\n",
    "\n",
    "We declare the Kerr spacetime as a 4-dimensional Lorentzian manifold $M$:"
   ]
  },
  {
   "cell_type": "code",
   "execution_count": 3,
   "metadata": {},
   "outputs": [
    {
     "name": "stdout",
     "output_type": "stream",
     "text": [
      "4-dimensional Lorentzian manifold M\n"
     ]
    }
   ],
   "source": [
    "M = Manifold(4, 'M', structure='Lorentzian')\n",
    "print(M)"
   ]
  },
  {
   "cell_type": "markdown",
   "metadata": {},
   "source": [
    "We then introduce (3+1 version of) the **Kerr coordinates** $(\\tilde{t},r,\\theta,\\tilde{\\varphi})$ as a chart `KC` on $M$, via the method `chart()`. The argument of the latter is a string (delimited by `r\"...\"` because of the backslash symbols) expressing the coordinates names, their ranges (the default is $(-\\infty,+\\infty)$) and their LaTeX symbols:"
   ]
  },
  {
   "cell_type": "code",
   "execution_count": 4,
   "metadata": {},
   "outputs": [
    {
     "name": "stdout",
     "output_type": "stream",
     "text": [
      "Chart (M, (tt, r, th, tph))\n"
     ]
    },
    {
     "data": {
      "text/html": [
       "<html><script type=\"math/tex; mode=display\">\\newcommand{\\Bold}[1]{\\mathbf{#1}}\\left(M,({\\tilde{t}}, r, {\\theta}, {\\tilde{\\varphi}})\\right)</script></html>"
      ],
      "text/latex": [
       "$$\\newcommand{\\Bold}[1]{\\mathbf{#1}}\\left(M,({\\tilde{t}}, r, {\\theta}, {\\tilde{\\varphi}})\\right)$$"
      ],
      "text/plain": [
       "Chart (M, (tt, r, th, tph))"
      ]
     },
     "execution_count": 4,
     "metadata": {},
     "output_type": "execute_result"
    }
   ],
   "source": [
    "KC.<tt,r,th,tph> = M.chart(r\"tt:\\tilde{t} r th:(0,pi):\\theta tph:(0,2*pi):periodic:\\tilde{\\varphi}\") \n",
    "print(KC); KC"
   ]
  },
  {
   "cell_type": "code",
   "execution_count": 5,
   "metadata": {},
   "outputs": [
    {
     "data": {
      "text/html": [
       "<html><script type=\"math/tex; mode=display\">\\newcommand{\\Bold}[1]{\\mathbf{#1}}{\\tilde{t}} :\\ \\left( -\\infty, +\\infty \\right) ;\\quad r :\\ \\left( -\\infty, +\\infty \\right) ;\\quad {\\theta} :\\ \\left( 0 , \\pi \\right) ;\\quad {\\tilde{\\varphi}} :\\ \\left[ 0 , 2 \\, \\pi \\right] \\mbox{(periodic)}</script></html>"
      ],
      "text/latex": [
       "$$\\newcommand{\\Bold}[1]{\\mathbf{#1}}{\\tilde{t}} :\\ \\left( -\\infty, +\\infty \\right) ;\\quad r :\\ \\left( -\\infty, +\\infty \\right) ;\\quad {\\theta} :\\ \\left( 0 , \\pi \\right) ;\\quad {\\tilde{\\varphi}} :\\ \\left[ 0 , 2 \\, \\pi \\right] \\mbox{(periodic)}$$"
      ],
      "text/plain": [
       "tt: (-oo, +oo); r: (-oo, +oo); th: (0, pi); tph: [0, 2*pi] (periodic)"
      ]
     },
     "execution_count": 5,
     "metadata": {},
     "output_type": "execute_result"
    }
   ],
   "source": [
    "KC.coord_range()"
   ]
  },
  {
   "cell_type": "markdown",
   "metadata": {},
   "source": [
    "## Metric tensor \n",
    "\n",
    "The mass parameter $m$ of the extremal Kerr spacetime is declared as a symbolic variable:"
   ]
  },
  {
   "cell_type": "code",
   "execution_count": 6,
   "metadata": {},
   "outputs": [],
   "source": [
    "m = var('m', domain='real')\n",
    "assume(m>0)"
   ]
  },
  {
   "cell_type": "markdown",
   "metadata": {},
   "source": [
    "We get the (yet undefined) spacetime metric:"
   ]
  },
  {
   "cell_type": "code",
   "execution_count": 7,
   "metadata": {},
   "outputs": [],
   "source": [
    "g = M.metric()"
   ]
  },
  {
   "cell_type": "markdown",
   "metadata": {},
   "source": [
    "and initialize it by providing its components in the coordinate frame associated with the Kerr coordinates, which is the current manifold's default frame:"
   ]
  },
  {
   "cell_type": "code",
   "execution_count": 8,
   "metadata": {},
   "outputs": [
    {
     "data": {
      "text/html": [
       "<html><script type=\"math/tex; mode=display\">\\newcommand{\\Bold}[1]{\\mathbf{#1}}g = \\left( \\frac{2 \\, m r}{m^{2} \\cos\\left({\\theta}\\right)^{2} + r^{2}} - 1 \\right) \\mathrm{d} {\\tilde{t}}\\otimes \\mathrm{d} {\\tilde{t}} + \\left( \\frac{2 \\, m r}{m^{2} \\cos\\left({\\theta}\\right)^{2} + r^{2}} \\right) \\mathrm{d} {\\tilde{t}}\\otimes \\mathrm{d} r + \\left( -\\frac{2 \\, m^{2} r \\sin\\left({\\theta}\\right)^{2}}{m^{2} \\cos\\left({\\theta}\\right)^{2} + r^{2}} \\right) \\mathrm{d} {\\tilde{t}}\\otimes \\mathrm{d} {\\tilde{\\varphi}} + \\left( \\frac{2 \\, m r}{m^{2} \\cos\\left({\\theta}\\right)^{2} + r^{2}} \\right) \\mathrm{d} r\\otimes \\mathrm{d} {\\tilde{t}} + \\left( \\frac{2 \\, m r}{m^{2} \\cos\\left({\\theta}\\right)^{2} + r^{2}} + 1 \\right) \\mathrm{d} r\\otimes \\mathrm{d} r -m {\\left(\\frac{2 \\, m r}{m^{2} \\cos\\left({\\theta}\\right)^{2} + r^{2}} + 1\\right)} \\sin\\left({\\theta}\\right)^{2} \\mathrm{d} r\\otimes \\mathrm{d} {\\tilde{\\varphi}} + \\left( m^{2} \\cos\\left({\\theta}\\right)^{2} + r^{2} \\right) \\mathrm{d} {\\theta}\\otimes \\mathrm{d} {\\theta} + \\left( -\\frac{2 \\, m^{2} r \\sin\\left({\\theta}\\right)^{2}}{m^{2} \\cos\\left({\\theta}\\right)^{2} + r^{2}} \\right) \\mathrm{d} {\\tilde{\\varphi}}\\otimes \\mathrm{d} {\\tilde{t}} -m {\\left(\\frac{2 \\, m r}{m^{2} \\cos\\left({\\theta}\\right)^{2} + r^{2}} + 1\\right)} \\sin\\left({\\theta}\\right)^{2} \\mathrm{d} {\\tilde{\\varphi}}\\otimes \\mathrm{d} r + {\\left(\\frac{2 \\, m^{3} r \\sin\\left({\\theta}\\right)^{2}}{m^{2} \\cos\\left({\\theta}\\right)^{2} + r^{2}} + m^{2} + r^{2}\\right)} \\sin\\left({\\theta}\\right)^{2} \\mathrm{d} {\\tilde{\\varphi}}\\otimes \\mathrm{d} {\\tilde{\\varphi}}</script></html>"
      ],
      "text/latex": [
       "$$\\newcommand{\\Bold}[1]{\\mathbf{#1}}g = \\left( \\frac{2 \\, m r}{m^{2} \\cos\\left({\\theta}\\right)^{2} + r^{2}} - 1 \\right) \\mathrm{d} {\\tilde{t}}\\otimes \\mathrm{d} {\\tilde{t}} + \\left( \\frac{2 \\, m r}{m^{2} \\cos\\left({\\theta}\\right)^{2} + r^{2}} \\right) \\mathrm{d} {\\tilde{t}}\\otimes \\mathrm{d} r + \\left( -\\frac{2 \\, m^{2} r \\sin\\left({\\theta}\\right)^{2}}{m^{2} \\cos\\left({\\theta}\\right)^{2} + r^{2}} \\right) \\mathrm{d} {\\tilde{t}}\\otimes \\mathrm{d} {\\tilde{\\varphi}} + \\left( \\frac{2 \\, m r}{m^{2} \\cos\\left({\\theta}\\right)^{2} + r^{2}} \\right) \\mathrm{d} r\\otimes \\mathrm{d} {\\tilde{t}} + \\left( \\frac{2 \\, m r}{m^{2} \\cos\\left({\\theta}\\right)^{2} + r^{2}} + 1 \\right) \\mathrm{d} r\\otimes \\mathrm{d} r -m {\\left(\\frac{2 \\, m r}{m^{2} \\cos\\left({\\theta}\\right)^{2} + r^{2}} + 1\\right)} \\sin\\left({\\theta}\\right)^{2} \\mathrm{d} r\\otimes \\mathrm{d} {\\tilde{\\varphi}} + \\left( m^{2} \\cos\\left({\\theta}\\right)^{2} + r^{2} \\right) \\mathrm{d} {\\theta}\\otimes \\mathrm{d} {\\theta} + \\left( -\\frac{2 \\, m^{2} r \\sin\\left({\\theta}\\right)^{2}}{m^{2} \\cos\\left({\\theta}\\right)^{2} + r^{2}} \\right) \\mathrm{d} {\\tilde{\\varphi}}\\otimes \\mathrm{d} {\\tilde{t}} -m {\\left(\\frac{2 \\, m r}{m^{2} \\cos\\left({\\theta}\\right)^{2} + r^{2}} + 1\\right)} \\sin\\left({\\theta}\\right)^{2} \\mathrm{d} {\\tilde{\\varphi}}\\otimes \\mathrm{d} r + {\\left(\\frac{2 \\, m^{3} r \\sin\\left({\\theta}\\right)^{2}}{m^{2} \\cos\\left({\\theta}\\right)^{2} + r^{2}} + m^{2} + r^{2}\\right)} \\sin\\left({\\theta}\\right)^{2} \\mathrm{d} {\\tilde{\\varphi}}\\otimes \\mathrm{d} {\\tilde{\\varphi}}$$"
      ],
      "text/plain": [
       "g = (2*m*r/(m^2*cos(th)^2 + r^2) - 1) dtt*dtt + 2*m*r/(m^2*cos(th)^2 + r^2) dtt*dr - 2*m^2*r*sin(th)^2/(m^2*cos(th)^2 + r^2) dtt*dtph + 2*m*r/(m^2*cos(th)^2 + r^2) dr*dtt + (2*m*r/(m^2*cos(th)^2 + r^2) + 1) dr*dr - m*(2*m*r/(m^2*cos(th)^2 + r^2) + 1)*sin(th)^2 dr*dtph + (m^2*cos(th)^2 + r^2) dth*dth - 2*m^2*r*sin(th)^2/(m^2*cos(th)^2 + r^2) dtph*dtt - m*(2*m*r/(m^2*cos(th)^2 + r^2) + 1)*sin(th)^2 dtph*dr + (2*m^3*r*sin(th)^2/(m^2*cos(th)^2 + r^2) + m^2 + r^2)*sin(th)^2 dtph*dtph"
      ]
     },
     "execution_count": 8,
     "metadata": {},
     "output_type": "execute_result"
    }
   ],
   "source": [
    "rho2 = r^2 + (m*cos(th))^2\n",
    "g[0,0] = - (1 - 2*m*r/rho2)\n",
    "g[0,1] = 2*m*r/rho2\n",
    "g[0,3] = -2*m^2*r*sin(th)^2/rho2\n",
    "g[1,1] = 1 + 2*m*r/rho2\n",
    "g[1,3] = -m*(1 + 2*m*r/rho2)*sin(th)^2\n",
    "g[2,2] = rho2\n",
    "g[3,3] = (r^2 + m^2 + 2*m^3*r*sin(th)^2/rho2)*sin(th)^2\n",
    "g.display()"
   ]
  },
  {
   "cell_type": "markdown",
   "metadata": {},
   "source": [
    "A matrix view of the components with respect to the manifold's default vector frame:"
   ]
  },
  {
   "cell_type": "code",
   "execution_count": 9,
   "metadata": {},
   "outputs": [
    {
     "data": {
      "text/html": [
       "<html><script type=\"math/tex; mode=display\">\\newcommand{\\Bold}[1]{\\mathbf{#1}}\\left(\\begin{array}{rrrr}\n",
       "\\frac{2 \\, m r}{m^{2} \\cos\\left({\\theta}\\right)^{2} + r^{2}} - 1 & \\frac{2 \\, m r}{m^{2} \\cos\\left({\\theta}\\right)^{2} + r^{2}} & 0 & -\\frac{2 \\, m^{2} r \\sin\\left({\\theta}\\right)^{2}}{m^{2} \\cos\\left({\\theta}\\right)^{2} + r^{2}} \\\\\n",
       "\\frac{2 \\, m r}{m^{2} \\cos\\left({\\theta}\\right)^{2} + r^{2}} & \\frac{2 \\, m r}{m^{2} \\cos\\left({\\theta}\\right)^{2} + r^{2}} + 1 & 0 & -m {\\left(\\frac{2 \\, m r}{m^{2} \\cos\\left({\\theta}\\right)^{2} + r^{2}} + 1\\right)} \\sin\\left({\\theta}\\right)^{2} \\\\\n",
       "0 & 0 & m^{2} \\cos\\left({\\theta}\\right)^{2} + r^{2} & 0 \\\\\n",
       "-\\frac{2 \\, m^{2} r \\sin\\left({\\theta}\\right)^{2}}{m^{2} \\cos\\left({\\theta}\\right)^{2} + r^{2}} & -m {\\left(\\frac{2 \\, m r}{m^{2} \\cos\\left({\\theta}\\right)^{2} + r^{2}} + 1\\right)} \\sin\\left({\\theta}\\right)^{2} & 0 & {\\left(\\frac{2 \\, m^{3} r \\sin\\left({\\theta}\\right)^{2}}{m^{2} \\cos\\left({\\theta}\\right)^{2} + r^{2}} + m^{2} + r^{2}\\right)} \\sin\\left({\\theta}\\right)^{2}\n",
       "\\end{array}\\right)</script></html>"
      ],
      "text/latex": [
       "$$\\newcommand{\\Bold}[1]{\\mathbf{#1}}\\left(\\begin{array}{rrrr}\n",
       "\\frac{2 \\, m r}{m^{2} \\cos\\left({\\theta}\\right)^{2} + r^{2}} - 1 & \\frac{2 \\, m r}{m^{2} \\cos\\left({\\theta}\\right)^{2} + r^{2}} & 0 & -\\frac{2 \\, m^{2} r \\sin\\left({\\theta}\\right)^{2}}{m^{2} \\cos\\left({\\theta}\\right)^{2} + r^{2}} \\\\\n",
       "\\frac{2 \\, m r}{m^{2} \\cos\\left({\\theta}\\right)^{2} + r^{2}} & \\frac{2 \\, m r}{m^{2} \\cos\\left({\\theta}\\right)^{2} + r^{2}} + 1 & 0 & -m {\\left(\\frac{2 \\, m r}{m^{2} \\cos\\left({\\theta}\\right)^{2} + r^{2}} + 1\\right)} \\sin\\left({\\theta}\\right)^{2} \\\\\n",
       "0 & 0 & m^{2} \\cos\\left({\\theta}\\right)^{2} + r^{2} & 0 \\\\\n",
       "-\\frac{2 \\, m^{2} r \\sin\\left({\\theta}\\right)^{2}}{m^{2} \\cos\\left({\\theta}\\right)^{2} + r^{2}} & -m {\\left(\\frac{2 \\, m r}{m^{2} \\cos\\left({\\theta}\\right)^{2} + r^{2}} + 1\\right)} \\sin\\left({\\theta}\\right)^{2} & 0 & {\\left(\\frac{2 \\, m^{3} r \\sin\\left({\\theta}\\right)^{2}}{m^{2} \\cos\\left({\\theta}\\right)^{2} + r^{2}} + m^{2} + r^{2}\\right)} \\sin\\left({\\theta}\\right)^{2}\n",
       "\\end{array}\\right)$$"
      ],
      "text/plain": [
       "[                                2*m*r/(m^2*cos(th)^2 + r^2) - 1                                     2*m*r/(m^2*cos(th)^2 + r^2)                                                               0                        -2*m^2*r*sin(th)^2/(m^2*cos(th)^2 + r^2)]\n",
       "[                                    2*m*r/(m^2*cos(th)^2 + r^2)                                 2*m*r/(m^2*cos(th)^2 + r^2) + 1                                                               0                  -m*(2*m*r/(m^2*cos(th)^2 + r^2) + 1)*sin(th)^2]\n",
       "[                                                              0                                                               0                                             m^2*cos(th)^2 + r^2                                                               0]\n",
       "[                       -2*m^2*r*sin(th)^2/(m^2*cos(th)^2 + r^2)                  -m*(2*m*r/(m^2*cos(th)^2 + r^2) + 1)*sin(th)^2                                                               0 (2*m^3*r*sin(th)^2/(m^2*cos(th)^2 + r^2) + m^2 + r^2)*sin(th)^2]"
      ]
     },
     "execution_count": 9,
     "metadata": {},
     "output_type": "execute_result"
    }
   ],
   "source": [
    "g[:]"
   ]
  },
  {
   "cell_type": "markdown",
   "metadata": {},
   "source": [
    "The list of the non-vanishing components:"
   ]
  },
  {
   "cell_type": "code",
   "execution_count": 10,
   "metadata": {},
   "outputs": [
    {
     "data": {
      "text/html": [
       "<html><script type=\"math/tex; mode=display\">\\newcommand{\\Bold}[1]{\\mathbf{#1}}\\begin{array}{lcl} g_{ \\, {\\tilde{t}} \\, {\\tilde{t}} }^{ \\phantom{\\, {\\tilde{t}}}\\phantom{\\, {\\tilde{t}}} } & = & \\frac{2 \\, m r}{m^{2} \\cos\\left({\\theta}\\right)^{2} + r^{2}} - 1 \\\\ g_{ \\, {\\tilde{t}} \\, r }^{ \\phantom{\\, {\\tilde{t}}}\\phantom{\\, r} } & = & \\frac{2 \\, m r}{m^{2} \\cos\\left({\\theta}\\right)^{2} + r^{2}} \\\\ g_{ \\, {\\tilde{t}} \\, {\\tilde{\\varphi}} }^{ \\phantom{\\, {\\tilde{t}}}\\phantom{\\, {\\tilde{\\varphi}}} } & = & -\\frac{2 \\, m^{2} r \\sin\\left({\\theta}\\right)^{2}}{m^{2} \\cos\\left({\\theta}\\right)^{2} + r^{2}} \\\\ g_{ \\, r \\, {\\tilde{t}} }^{ \\phantom{\\, r}\\phantom{\\, {\\tilde{t}}} } & = & \\frac{2 \\, m r}{m^{2} \\cos\\left({\\theta}\\right)^{2} + r^{2}} \\\\ g_{ \\, r \\, r }^{ \\phantom{\\, r}\\phantom{\\, r} } & = & \\frac{2 \\, m r}{m^{2} \\cos\\left({\\theta}\\right)^{2} + r^{2}} + 1 \\\\ g_{ \\, r \\, {\\tilde{\\varphi}} }^{ \\phantom{\\, r}\\phantom{\\, {\\tilde{\\varphi}}} } & = & -m {\\left(\\frac{2 \\, m r}{m^{2} \\cos\\left({\\theta}\\right)^{2} + r^{2}} + 1\\right)} \\sin\\left({\\theta}\\right)^{2} \\\\ g_{ \\, {\\theta} \\, {\\theta} }^{ \\phantom{\\, {\\theta}}\\phantom{\\, {\\theta}} } & = & m^{2} \\cos\\left({\\theta}\\right)^{2} + r^{2} \\\\ g_{ \\, {\\tilde{\\varphi}} \\, {\\tilde{t}} }^{ \\phantom{\\, {\\tilde{\\varphi}}}\\phantom{\\, {\\tilde{t}}} } & = & -\\frac{2 \\, m^{2} r \\sin\\left({\\theta}\\right)^{2}}{m^{2} \\cos\\left({\\theta}\\right)^{2} + r^{2}} \\\\ g_{ \\, {\\tilde{\\varphi}} \\, r }^{ \\phantom{\\, {\\tilde{\\varphi}}}\\phantom{\\, r} } & = & -m {\\left(\\frac{2 \\, m r}{m^{2} \\cos\\left({\\theta}\\right)^{2} + r^{2}} + 1\\right)} \\sin\\left({\\theta}\\right)^{2} \\\\ g_{ \\, {\\tilde{\\varphi}} \\, {\\tilde{\\varphi}} }^{ \\phantom{\\, {\\tilde{\\varphi}}}\\phantom{\\, {\\tilde{\\varphi}}} } & = & {\\left(\\frac{2 \\, m^{3} r \\sin\\left({\\theta}\\right)^{2}}{m^{2} \\cos\\left({\\theta}\\right)^{2} + r^{2}} + m^{2} + r^{2}\\right)} \\sin\\left({\\theta}\\right)^{2} \\end{array}</script></html>"
      ],
      "text/latex": [
       "$$\\newcommand{\\Bold}[1]{\\mathbf{#1}}\\begin{array}{lcl} g_{ \\, {\\tilde{t}} \\, {\\tilde{t}} }^{ \\phantom{\\, {\\tilde{t}}}\\phantom{\\, {\\tilde{t}}} } & = & \\frac{2 \\, m r}{m^{2} \\cos\\left({\\theta}\\right)^{2} + r^{2}} - 1 \\\\ g_{ \\, {\\tilde{t}} \\, r }^{ \\phantom{\\, {\\tilde{t}}}\\phantom{\\, r} } & = & \\frac{2 \\, m r}{m^{2} \\cos\\left({\\theta}\\right)^{2} + r^{2}} \\\\ g_{ \\, {\\tilde{t}} \\, {\\tilde{\\varphi}} }^{ \\phantom{\\, {\\tilde{t}}}\\phantom{\\, {\\tilde{\\varphi}}} } & = & -\\frac{2 \\, m^{2} r \\sin\\left({\\theta}\\right)^{2}}{m^{2} \\cos\\left({\\theta}\\right)^{2} + r^{2}} \\\\ g_{ \\, r \\, {\\tilde{t}} }^{ \\phantom{\\, r}\\phantom{\\, {\\tilde{t}}} } & = & \\frac{2 \\, m r}{m^{2} \\cos\\left({\\theta}\\right)^{2} + r^{2}} \\\\ g_{ \\, r \\, r }^{ \\phantom{\\, r}\\phantom{\\, r} } & = & \\frac{2 \\, m r}{m^{2} \\cos\\left({\\theta}\\right)^{2} + r^{2}} + 1 \\\\ g_{ \\, r \\, {\\tilde{\\varphi}} }^{ \\phantom{\\, r}\\phantom{\\, {\\tilde{\\varphi}}} } & = & -m {\\left(\\frac{2 \\, m r}{m^{2} \\cos\\left({\\theta}\\right)^{2} + r^{2}} + 1\\right)} \\sin\\left({\\theta}\\right)^{2} \\\\ g_{ \\, {\\theta} \\, {\\theta} }^{ \\phantom{\\, {\\theta}}\\phantom{\\, {\\theta}} } & = & m^{2} \\cos\\left({\\theta}\\right)^{2} + r^{2} \\\\ g_{ \\, {\\tilde{\\varphi}} \\, {\\tilde{t}} }^{ \\phantom{\\, {\\tilde{\\varphi}}}\\phantom{\\, {\\tilde{t}}} } & = & -\\frac{2 \\, m^{2} r \\sin\\left({\\theta}\\right)^{2}}{m^{2} \\cos\\left({\\theta}\\right)^{2} + r^{2}} \\\\ g_{ \\, {\\tilde{\\varphi}} \\, r }^{ \\phantom{\\, {\\tilde{\\varphi}}}\\phantom{\\, r} } & = & -m {\\left(\\frac{2 \\, m r}{m^{2} \\cos\\left({\\theta}\\right)^{2} + r^{2}} + 1\\right)} \\sin\\left({\\theta}\\right)^{2} \\\\ g_{ \\, {\\tilde{\\varphi}} \\, {\\tilde{\\varphi}} }^{ \\phantom{\\, {\\tilde{\\varphi}}}\\phantom{\\, {\\tilde{\\varphi}}} } & = & {\\left(\\frac{2 \\, m^{3} r \\sin\\left({\\theta}\\right)^{2}}{m^{2} \\cos\\left({\\theta}\\right)^{2} + r^{2}} + m^{2} + r^{2}\\right)} \\sin\\left({\\theta}\\right)^{2} \\end{array}$$"
      ],
      "text/plain": [
       "g_tt,tt = 2*m*r/(m^2*cos(th)^2 + r^2) - 1 \n",
       "g_tt,r = 2*m*r/(m^2*cos(th)^2 + r^2) \n",
       "g_tt,tph = -2*m^2*r*sin(th)^2/(m^2*cos(th)^2 + r^2) \n",
       "g_r,tt = 2*m*r/(m^2*cos(th)^2 + r^2) \n",
       "g_r,r = 2*m*r/(m^2*cos(th)^2 + r^2) + 1 \n",
       "g_r,tph = -m*(2*m*r/(m^2*cos(th)^2 + r^2) + 1)*sin(th)^2 \n",
       "g_th,th = m^2*cos(th)^2 + r^2 \n",
       "g_tph,tt = -2*m^2*r*sin(th)^2/(m^2*cos(th)^2 + r^2) \n",
       "g_tph,r = -m*(2*m*r/(m^2*cos(th)^2 + r^2) + 1)*sin(th)^2 \n",
       "g_tph,tph = (2*m^3*r*sin(th)^2/(m^2*cos(th)^2 + r^2) + m^2 + r^2)*sin(th)^2 "
      ]
     },
     "execution_count": 10,
     "metadata": {},
     "output_type": "execute_result"
    }
   ],
   "source": [
    "g.display_comp()"
   ]
  },
  {
   "cell_type": "markdown",
   "metadata": {},
   "source": [
    "Let us check that we are dealing with a solution of the **vacuum Einstein equation**:"
   ]
  },
  {
   "cell_type": "code",
   "execution_count": 11,
   "metadata": {},
   "outputs": [],
   "source": [
    "#g.ricci().display()"
   ]
  },
  {
   "cell_type": "markdown",
   "metadata": {},
   "source": [
    "## Regions $M_{\\rm I}$ and $M_{\\rm III}$"
   ]
  },
  {
   "cell_type": "code",
   "execution_count": 12,
   "metadata": {},
   "outputs": [
    {
     "data": {
      "text/html": [
       "<html><script type=\"math/tex; mode=display\">\\newcommand{\\Bold}[1]{\\mathbf{#1}}{\\tilde{t}} :\\ \\left( -\\infty, +\\infty \\right) ;\\quad r :\\ \\left( m , +\\infty \\right) ;\\quad {\\theta} :\\ \\left( 0 , \\pi \\right) ;\\quad {\\tilde{\\varphi}} :\\ \\left[ 0 , 2 \\, \\pi \\right] \\mbox{(periodic)}</script></html>"
      ],
      "text/latex": [
       "$$\\newcommand{\\Bold}[1]{\\mathbf{#1}}{\\tilde{t}} :\\ \\left( -\\infty, +\\infty \\right) ;\\quad r :\\ \\left( m , +\\infty \\right) ;\\quad {\\theta} :\\ \\left( 0 , \\pi \\right) ;\\quad {\\tilde{\\varphi}} :\\ \\left[ 0 , 2 \\, \\pi \\right] \\mbox{(periodic)}$$"
      ],
      "text/plain": [
       "tt: (-oo, +oo); r: (m, +oo); th: (0, pi); tph: [0, 2*pi] (periodic)"
      ]
     },
     "execution_count": 12,
     "metadata": {},
     "output_type": "execute_result"
    }
   ],
   "source": [
    "M_I = M.open_subset('M_I', latex_name=r'M_{\\rm I}', coord_def={KC: r>m})\n",
    "KC.restrict(M_I).coord_range()"
   ]
  },
  {
   "cell_type": "code",
   "execution_count": 13,
   "metadata": {},
   "outputs": [
    {
     "data": {
      "text/html": [
       "<html><script type=\"math/tex; mode=display\">\\newcommand{\\Bold}[1]{\\mathbf{#1}}{\\tilde{t}} :\\ \\left( -\\infty, +\\infty \\right) ;\\quad r :\\ \\left( -\\infty, m \\right) ;\\quad {\\theta} :\\ \\left( 0 , \\pi \\right) ;\\quad {\\tilde{\\varphi}} :\\ \\left[ 0 , 2 \\, \\pi \\right] \\mbox{(periodic)}</script></html>"
      ],
      "text/latex": [
       "$$\\newcommand{\\Bold}[1]{\\mathbf{#1}}{\\tilde{t}} :\\ \\left( -\\infty, +\\infty \\right) ;\\quad r :\\ \\left( -\\infty, m \\right) ;\\quad {\\theta} :\\ \\left( 0 , \\pi \\right) ;\\quad {\\tilde{\\varphi}} :\\ \\left[ 0 , 2 \\, \\pi \\right] \\mbox{(periodic)}$$"
      ],
      "text/plain": [
       "tt: (-oo, +oo); r: (-oo, m); th: (0, pi); tph: [0, 2*pi] (periodic)"
      ]
     },
     "execution_count": 13,
     "metadata": {},
     "output_type": "execute_result"
    }
   ],
   "source": [
    "M_III = M.open_subset('M_III', latex_name=r'M_{\\rm III}', coord_def={KC: r<m})\n",
    "KC.restrict(M_III).coord_range()"
   ]
  },
  {
   "cell_type": "markdown",
   "metadata": {},
   "source": [
    "## Boyer-Lindquist coordinates on $M_{\\rm I}$\n",
    "\n",
    "Let us introduce on the chart of Boyer-Lindquist coordinates $(t,r,\\theta,\\varphi)$ on $M_{\\rm I}$:"
   ]
  },
  {
   "cell_type": "code",
   "execution_count": 14,
   "metadata": {},
   "outputs": [
    {
     "name": "stdout",
     "output_type": "stream",
     "text": [
      "Chart (M_I, (t, r, th, ph))\n"
     ]
    },
    {
     "data": {
      "text/html": [
       "<html><script type=\"math/tex; mode=display\">\\newcommand{\\Bold}[1]{\\mathbf{#1}}\\left(M_{\\rm I},(t, r, {\\theta}, {\\varphi})\\right)</script></html>"
      ],
      "text/latex": [
       "$$\\newcommand{\\Bold}[1]{\\mathbf{#1}}\\left(M_{\\rm I},(t, r, {\\theta}, {\\varphi})\\right)$$"
      ],
      "text/plain": [
       "Chart (M_I, (t, r, th, ph))"
      ]
     },
     "execution_count": 14,
     "metadata": {},
     "output_type": "execute_result"
    }
   ],
   "source": [
    "BL.<t,r,th,ph> = M_I.chart(r\"t r:(m,+oo) th:(0,pi):\\theta ph:(0,2*pi):periodic:\\varphi\") \n",
    "print(BL); BL"
   ]
  },
  {
   "cell_type": "code",
   "execution_count": 15,
   "metadata": {},
   "outputs": [
    {
     "data": {
      "text/html": [
       "<html><script type=\"math/tex; mode=display\">\\newcommand{\\Bold}[1]{\\mathbf{#1}}t :\\ \\left( -\\infty, +\\infty \\right) ;\\quad r :\\ \\left( m , +\\infty \\right) ;\\quad {\\theta} :\\ \\left( 0 , \\pi \\right) ;\\quad {\\varphi} :\\ \\left[ 0 , 2 \\, \\pi \\right] \\mbox{(periodic)}</script></html>"
      ],
      "text/latex": [
       "$$\\newcommand{\\Bold}[1]{\\mathbf{#1}}t :\\ \\left( -\\infty, +\\infty \\right) ;\\quad r :\\ \\left( m , +\\infty \\right) ;\\quad {\\theta} :\\ \\left( 0 , \\pi \\right) ;\\quad {\\varphi} :\\ \\left[ 0 , 2 \\, \\pi \\right] \\mbox{(periodic)}$$"
      ],
      "text/plain": [
       "t: (-oo, +oo); r: (m, +oo); th: (0, pi); ph: [0, 2*pi] (periodic)"
      ]
     },
     "execution_count": 15,
     "metadata": {},
     "output_type": "execute_result"
    }
   ],
   "source": [
    "BL.coord_range()"
   ]
  },
  {
   "cell_type": "code",
   "execution_count": 16,
   "metadata": {},
   "outputs": [
    {
     "data": {
      "text/html": [
       "<html><script type=\"math/tex; mode=display\">\\newcommand{\\Bold}[1]{\\mathbf{#1}}\\left\\{\\begin{array}{lcl} t & = & -2 \\, m \\log\\left(\\frac{{\\left| -m + r \\right|}}{m}\\right) - \\frac{2 \\, m^{2}}{m - r} + {\\tilde{t}} \\\\ r & = & r \\\\ {\\theta} & = & {\\theta} \\\\ {\\varphi} & = & {\\tilde{\\varphi}} - \\frac{m}{m - r} \\end{array}\\right.</script></html>"
      ],
      "text/latex": [
       "$$\\newcommand{\\Bold}[1]{\\mathbf{#1}}\\left\\{\\begin{array}{lcl} t & = & -2 \\, m \\log\\left(\\frac{{\\left| -m + r \\right|}}{m}\\right) - \\frac{2 \\, m^{2}}{m - r} + {\\tilde{t}} \\\\ r & = & r \\\\ {\\theta} & = & {\\theta} \\\\ {\\varphi} & = & {\\tilde{\\varphi}} - \\frac{m}{m - r} \\end{array}\\right.$$"
      ],
      "text/plain": [
       "t = -2*m*log(abs(-m + r)/m) - 2*m^2/(m - r) + tt\n",
       "r = r\n",
       "th = th\n",
       "ph = tph - m/(m - r)"
      ]
     },
     "execution_count": 16,
     "metadata": {},
     "output_type": "execute_result"
    }
   ],
   "source": [
    "KC_to_BL = KC.restrict(M_I).transition_map(BL, [tt + 2*m^2/(r-m) - 2*m*ln(abs(r-m)/m),\n",
    "                                                r, th, tph + m/(r-m)])\n",
    "KC_to_BL.display()"
   ]
  },
  {
   "cell_type": "code",
   "execution_count": 17,
   "metadata": {},
   "outputs": [
    {
     "data": {
      "text/html": [
       "<html><script type=\"math/tex; mode=display\">\\newcommand{\\Bold}[1]{\\mathbf{#1}}\\left\\{\\begin{array}{lcl} {\\tilde{t}} & = & -\\frac{2 \\, m^{2} \\log\\left(m\\right) - 2 \\, m r \\log\\left(m\\right) - 2 \\, m^{2} - {\\left(m - r\\right)} t - 2 \\, {\\left(m^{2} - m r\\right)} \\log\\left(-m + r\\right)}{m - r} \\\\ r & = & r \\\\ {\\theta} & = & {\\theta} \\\\ {\\tilde{\\varphi}} & = & \\frac{m {\\varphi} - {\\varphi} r + m}{m - r} \\end{array}\\right.</script></html>"
      ],
      "text/latex": [
       "$$\\newcommand{\\Bold}[1]{\\mathbf{#1}}\\left\\{\\begin{array}{lcl} {\\tilde{t}} & = & -\\frac{2 \\, m^{2} \\log\\left(m\\right) - 2 \\, m r \\log\\left(m\\right) - 2 \\, m^{2} - {\\left(m - r\\right)} t - 2 \\, {\\left(m^{2} - m r\\right)} \\log\\left(-m + r\\right)}{m - r} \\\\ r & = & r \\\\ {\\theta} & = & {\\theta} \\\\ {\\tilde{\\varphi}} & = & \\frac{m {\\varphi} - {\\varphi} r + m}{m - r} \\end{array}\\right.$$"
      ],
      "text/plain": [
       "tt = -(2*m^2*log(m) - 2*m*r*log(m) - 2*m^2 - (m - r)*t - 2*(m^2 - m*r)*log(-m + r))/(m - r)\n",
       "r = r\n",
       "th = th\n",
       "tph = (m*ph - ph*r + m)/(m - r)"
      ]
     },
     "execution_count": 17,
     "metadata": {},
     "output_type": "execute_result"
    }
   ],
   "source": [
    "KC_to_BL.inverse().display()"
   ]
  },
  {
   "cell_type": "code",
   "execution_count": 18,
   "metadata": {},
   "outputs": [
    {
     "data": {
      "text/html": [
       "<html><script type=\"math/tex; mode=display\">\\newcommand{\\Bold}[1]{\\mathbf{#1}}g = \\left( -\\frac{m^{2} \\cos\\left({\\theta}\\right)^{2} - 2 \\, m r + r^{2}}{m^{2} \\cos\\left({\\theta}\\right)^{2} + r^{2}} \\right) \\mathrm{d} t\\otimes \\mathrm{d} t + \\left( -\\frac{2 \\, m^{2} r \\sin\\left({\\theta}\\right)^{2}}{m^{2} \\cos\\left({\\theta}\\right)^{2} + r^{2}} \\right) \\mathrm{d} t\\otimes \\mathrm{d} {\\varphi} + \\left( \\frac{m^{2} \\cos\\left({\\theta}\\right)^{2} + r^{2}}{m^{2} - 2 \\, m r + r^{2}} \\right) \\mathrm{d} r\\otimes \\mathrm{d} r + \\left( m^{2} \\cos\\left({\\theta}\\right)^{2} + r^{2} \\right) \\mathrm{d} {\\theta}\\otimes \\mathrm{d} {\\theta} + \\left( -\\frac{2 \\, m^{2} r \\sin\\left({\\theta}\\right)^{2}}{m^{2} \\cos\\left({\\theta}\\right)^{2} + r^{2}} \\right) \\mathrm{d} {\\varphi}\\otimes \\mathrm{d} t + \\left( \\frac{2 \\, m^{3} r \\sin\\left({\\theta}\\right)^{4} + {\\left(m^{2} r^{2} + r^{4} + {\\left(m^{4} + m^{2} r^{2}\\right)} \\cos\\left({\\theta}\\right)^{2}\\right)} \\sin\\left({\\theta}\\right)^{2}}{m^{2} \\cos\\left({\\theta}\\right)^{2} + r^{2}} \\right) \\mathrm{d} {\\varphi}\\otimes \\mathrm{d} {\\varphi}</script></html>"
      ],
      "text/latex": [
       "$$\\newcommand{\\Bold}[1]{\\mathbf{#1}}g = \\left( -\\frac{m^{2} \\cos\\left({\\theta}\\right)^{2} - 2 \\, m r + r^{2}}{m^{2} \\cos\\left({\\theta}\\right)^{2} + r^{2}} \\right) \\mathrm{d} t\\otimes \\mathrm{d} t + \\left( -\\frac{2 \\, m^{2} r \\sin\\left({\\theta}\\right)^{2}}{m^{2} \\cos\\left({\\theta}\\right)^{2} + r^{2}} \\right) \\mathrm{d} t\\otimes \\mathrm{d} {\\varphi} + \\left( \\frac{m^{2} \\cos\\left({\\theta}\\right)^{2} + r^{2}}{m^{2} - 2 \\, m r + r^{2}} \\right) \\mathrm{d} r\\otimes \\mathrm{d} r + \\left( m^{2} \\cos\\left({\\theta}\\right)^{2} + r^{2} \\right) \\mathrm{d} {\\theta}\\otimes \\mathrm{d} {\\theta} + \\left( -\\frac{2 \\, m^{2} r \\sin\\left({\\theta}\\right)^{2}}{m^{2} \\cos\\left({\\theta}\\right)^{2} + r^{2}} \\right) \\mathrm{d} {\\varphi}\\otimes \\mathrm{d} t + \\left( \\frac{2 \\, m^{3} r \\sin\\left({\\theta}\\right)^{4} + {\\left(m^{2} r^{2} + r^{4} + {\\left(m^{4} + m^{2} r^{2}\\right)} \\cos\\left({\\theta}\\right)^{2}\\right)} \\sin\\left({\\theta}\\right)^{2}}{m^{2} \\cos\\left({\\theta}\\right)^{2} + r^{2}} \\right) \\mathrm{d} {\\varphi}\\otimes \\mathrm{d} {\\varphi}$$"
      ],
      "text/plain": [
       "g = -(m^2*cos(th)^2 - 2*m*r + r^2)/(m^2*cos(th)^2 + r^2) dt*dt - 2*m^2*r*sin(th)^2/(m^2*cos(th)^2 + r^2) dt*dph + (m^2*cos(th)^2 + r^2)/(m^2 - 2*m*r + r^2) dr*dr + (m^2*cos(th)^2 + r^2) dth*dth - 2*m^2*r*sin(th)^2/(m^2*cos(th)^2 + r^2) dph*dt + (2*m^3*r*sin(th)^4 + (m^2*r^2 + r^4 + (m^4 + m^2*r^2)*cos(th)^2)*sin(th)^2)/(m^2*cos(th)^2 + r^2) dph*dph"
      ]
     },
     "execution_count": 18,
     "metadata": {},
     "output_type": "execute_result"
    }
   ],
   "source": [
    "g.display(BL)"
   ]
  },
  {
   "cell_type": "markdown",
   "metadata": {},
   "source": [
    "## Ingoing principal null geodesics"
   ]
  },
  {
   "cell_type": "code",
   "execution_count": 19,
   "metadata": {},
   "outputs": [
    {
     "data": {
      "text/html": [
       "<html><script type=\"math/tex; mode=display\">\\newcommand{\\Bold}[1]{\\mathbf{#1}}k = \\frac{\\partial}{\\partial {\\tilde{t}} }-\\frac{\\partial}{\\partial r }</script></html>"
      ],
      "text/latex": [
       "$$\\newcommand{\\Bold}[1]{\\mathbf{#1}}k = \\frac{\\partial}{\\partial {\\tilde{t}} }-\\frac{\\partial}{\\partial r }$$"
      ],
      "text/plain": [
       "k = d/dtt - d/dr"
      ]
     },
     "execution_count": 19,
     "metadata": {},
     "output_type": "execute_result"
    }
   ],
   "source": [
    "k = M.vector_field(1, -1, 0, 0, name='k')\n",
    "k.display()"
   ]
  },
  {
   "cell_type": "markdown",
   "metadata": {},
   "source": [
    "Let us check that $k$ is a null vector:"
   ]
  },
  {
   "cell_type": "code",
   "execution_count": 20,
   "metadata": {},
   "outputs": [
    {
     "data": {
      "text/html": [
       "<html><script type=\"math/tex; mode=display\">\\newcommand{\\Bold}[1]{\\mathbf{#1}}0</script></html>"
      ],
      "text/latex": [
       "$$\\newcommand{\\Bold}[1]{\\mathbf{#1}}0$$"
      ],
      "text/plain": [
       "0"
      ]
     },
     "execution_count": 20,
     "metadata": {},
     "output_type": "execute_result"
    }
   ],
   "source": [
    "g(k, k).expr()"
   ]
  },
  {
   "cell_type": "markdown",
   "metadata": {},
   "source": [
    "Check that $k$ is a geodesic vector field, i.e. obeys $\\nabla_k k = 0$:"
   ]
  },
  {
   "cell_type": "code",
   "execution_count": 21,
   "metadata": {},
   "outputs": [],
   "source": [
    "nabla = g.connection()"
   ]
  },
  {
   "cell_type": "code",
   "execution_count": 22,
   "metadata": {},
   "outputs": [
    {
     "data": {
      "text/html": [
       "<html><script type=\"math/tex; mode=display\">\\newcommand{\\Bold}[1]{\\mathbf{#1}}0</script></html>"
      ],
      "text/latex": [
       "$$\\newcommand{\\Bold}[1]{\\mathbf{#1}}0$$"
      ],
      "text/plain": [
       "0"
      ]
     },
     "execution_count": 22,
     "metadata": {},
     "output_type": "execute_result"
    }
   ],
   "source": [
    "nabla(k).contract(k).display()"
   ]
  },
  {
   "cell_type": "markdown",
   "metadata": {},
   "source": [
    "Expression of $k$ with respect to the Boyer-Lindquist frame:"
   ]
  },
  {
   "cell_type": "code",
   "execution_count": 23,
   "metadata": {},
   "outputs": [
    {
     "data": {
      "text/html": [
       "<html><script type=\"math/tex; mode=display\">\\newcommand{\\Bold}[1]{\\mathbf{#1}}k = \\left( \\frac{m^{2} + r^{2}}{m^{2} - 2 \\, m r + r^{2}} \\right) \\frac{\\partial}{\\partial t } -\\frac{\\partial}{\\partial r } + \\left( \\frac{m}{m^{2} - 2 \\, m r + r^{2}} \\right) \\frac{\\partial}{\\partial {\\varphi} }</script></html>"
      ],
      "text/latex": [
       "$$\\newcommand{\\Bold}[1]{\\mathbf{#1}}k = \\left( \\frac{m^{2} + r^{2}}{m^{2} - 2 \\, m r + r^{2}} \\right) \\frac{\\partial}{\\partial t } -\\frac{\\partial}{\\partial r } + \\left( \\frac{m}{m^{2} - 2 \\, m r + r^{2}} \\right) \\frac{\\partial}{\\partial {\\varphi} }$$"
      ],
      "text/plain": [
       "k = (m^2 + r^2)/(m^2 - 2*m*r + r^2) d/dt - d/dr + m/(m^2 - 2*m*r + r^2) d/dph"
      ]
     },
     "execution_count": 23,
     "metadata": {},
     "output_type": "execute_result"
    }
   ],
   "source": [
    "k.display(BL)"
   ]
  },
  {
   "cell_type": "markdown",
   "metadata": {},
   "source": [
    "## Outgoing principal null geodesics"
   ]
  },
  {
   "cell_type": "code",
   "execution_count": 24,
   "metadata": {},
   "outputs": [
    {
     "data": {
      "text/html": [
       "<html><script type=\"math/tex; mode=display\">\\newcommand{\\Bold}[1]{\\mathbf{#1}}\\ell = \\frac{{\\left(m + r\\right)}^{2}}{2 \\, {\\left(m^{2} + r^{2}\\right)}} \\frac{\\partial}{\\partial {\\tilde{t}} } + \\frac{{\\left(m - r\\right)}^{2}}{2 \\, {\\left(m^{2} + r^{2}\\right)}} \\frac{\\partial}{\\partial r } + \\left( \\frac{m}{m^{2} + r^{2}} \\right) \\frac{\\partial}{\\partial {\\tilde{\\varphi}} }</script></html>"
      ],
      "text/latex": [
       "$$\\newcommand{\\Bold}[1]{\\mathbf{#1}}\\ell = \\frac{{\\left(m + r\\right)}^{2}}{2 \\, {\\left(m^{2} + r^{2}\\right)}} \\frac{\\partial}{\\partial {\\tilde{t}} } + \\frac{{\\left(m - r\\right)}^{2}}{2 \\, {\\left(m^{2} + r^{2}\\right)}} \\frac{\\partial}{\\partial r } + \\left( \\frac{m}{m^{2} + r^{2}} \\right) \\frac{\\partial}{\\partial {\\tilde{\\varphi}} }$$"
      ],
      "text/plain": [
       "el = 1/2*(m + r)^2/(m^2 + r^2) d/dtt + 1/2*(m - r)^2/(m^2 + r^2) d/dr + m/(m^2 + r^2) d/dtph"
      ]
     },
     "execution_count": 24,
     "metadata": {},
     "output_type": "execute_result"
    }
   ],
   "source": [
    "el = M.vector_field((r + m)^2/(2*(r^2 + m^2)),\n",
    "                    (r - m)^2/(2*(r^2 + m^2)),\n",
    "                    0,\n",
    "                    m/(r^2 + m^2),\n",
    "                    name='el', latex_name=r'\\ell')\n",
    "el.display()"
   ]
  },
  {
   "cell_type": "markdown",
   "metadata": {},
   "source": [
    "Let us check that $\\ell$ is a null vector:"
   ]
  },
  {
   "cell_type": "code",
   "execution_count": 25,
   "metadata": {},
   "outputs": [
    {
     "data": {
      "text/html": [
       "<html><script type=\"math/tex; mode=display\">\\newcommand{\\Bold}[1]{\\mathbf{#1}}0</script></html>"
      ],
      "text/latex": [
       "$$\\newcommand{\\Bold}[1]{\\mathbf{#1}}0$$"
      ],
      "text/plain": [
       "0"
      ]
     },
     "execution_count": 25,
     "metadata": {},
     "output_type": "execute_result"
    }
   ],
   "source": [
    "g(el, el).expr()"
   ]
  },
  {
   "cell_type": "markdown",
   "metadata": {},
   "source": [
    "Expression of $\\ell$ with respect to the Boyer-Lindquist frame:"
   ]
  },
  {
   "cell_type": "code",
   "execution_count": 26,
   "metadata": {},
   "outputs": [
    {
     "data": {
      "text/html": [
       "<html><script type=\"math/tex; mode=display\">\\newcommand{\\Bold}[1]{\\mathbf{#1}}\\ell = \\frac{1}{2} \\frac{\\partial}{\\partial t } + \\frac{{\\left(m - r\\right)}^{2}}{2 \\, {\\left(m^{2} + r^{2}\\right)}} \\frac{\\partial}{\\partial r } + \\frac{m}{2 \\, {\\left(m^{2} + r^{2}\\right)}} \\frac{\\partial}{\\partial {\\varphi} }</script></html>"
      ],
      "text/latex": [
       "$$\\newcommand{\\Bold}[1]{\\mathbf{#1}}\\ell = \\frac{1}{2} \\frac{\\partial}{\\partial t } + \\frac{{\\left(m - r\\right)}^{2}}{2 \\, {\\left(m^{2} + r^{2}\\right)}} \\frac{\\partial}{\\partial r } + \\frac{m}{2 \\, {\\left(m^{2} + r^{2}\\right)}} \\frac{\\partial}{\\partial {\\varphi} }$$"
      ],
      "text/plain": [
       "el = 1/2 d/dt + 1/2*(m - r)^2/(m^2 + r^2) d/dr + 1/2*m/(m^2 + r^2) d/dph"
      ]
     },
     "execution_count": 26,
     "metadata": {},
     "output_type": "execute_result"
    }
   ],
   "source": [
    "el.display(BL)"
   ]
  },
  {
   "cell_type": "markdown",
   "metadata": {},
   "source": [
    "Computation of $\\nabla_\\ell \\ell$:"
   ]
  },
  {
   "cell_type": "code",
   "execution_count": 27,
   "metadata": {},
   "outputs": [
    {
     "data": {
      "text/html": [
       "<html><script type=\"math/tex; mode=display\">\\newcommand{\\Bold}[1]{\\mathbf{#1}}\\left( -\\frac{m^{5} + 2 \\, m^{4} r - 2 \\, m^{2} r^{3} - m r^{4}}{2 \\, {\\left(m^{6} + 3 \\, m^{4} r^{2} + 3 \\, m^{2} r^{4} + r^{6}\\right)}} \\right) \\frac{\\partial}{\\partial {\\tilde{t}} } + \\left( -\\frac{m^{5} - 2 \\, m^{4} r + 2 \\, m^{2} r^{3} - m r^{4}}{2 \\, {\\left(m^{6} + 3 \\, m^{4} r^{2} + 3 \\, m^{2} r^{4} + r^{6}\\right)}} \\right) \\frac{\\partial}{\\partial r } + \\left( -\\frac{m^{4} - m^{2} r^{2}}{m^{6} + 3 \\, m^{4} r^{2} + 3 \\, m^{2} r^{4} + r^{6}} \\right) \\frac{\\partial}{\\partial {\\tilde{\\varphi}} }</script></html>"
      ],
      "text/latex": [
       "$$\\newcommand{\\Bold}[1]{\\mathbf{#1}}\\left( -\\frac{m^{5} + 2 \\, m^{4} r - 2 \\, m^{2} r^{3} - m r^{4}}{2 \\, {\\left(m^{6} + 3 \\, m^{4} r^{2} + 3 \\, m^{2} r^{4} + r^{6}\\right)}} \\right) \\frac{\\partial}{\\partial {\\tilde{t}} } + \\left( -\\frac{m^{5} - 2 \\, m^{4} r + 2 \\, m^{2} r^{3} - m r^{4}}{2 \\, {\\left(m^{6} + 3 \\, m^{4} r^{2} + 3 \\, m^{2} r^{4} + r^{6}\\right)}} \\right) \\frac{\\partial}{\\partial r } + \\left( -\\frac{m^{4} - m^{2} r^{2}}{m^{6} + 3 \\, m^{4} r^{2} + 3 \\, m^{2} r^{4} + r^{6}} \\right) \\frac{\\partial}{\\partial {\\tilde{\\varphi}} }$$"
      ],
      "text/plain": [
       "-1/2*(m^5 + 2*m^4*r - 2*m^2*r^3 - m*r^4)/(m^6 + 3*m^4*r^2 + 3*m^2*r^4 + r^6) d/dtt - 1/2*(m^5 - 2*m^4*r + 2*m^2*r^3 - m*r^4)/(m^6 + 3*m^4*r^2 + 3*m^2*r^4 + r^6) d/dr - (m^4 - m^2*r^2)/(m^6 + 3*m^4*r^2 + 3*m^2*r^4 + r^6) d/dtph"
      ]
     },
     "execution_count": 27,
     "metadata": {},
     "output_type": "execute_result"
    }
   ],
   "source": [
    "acc = nabla(el).contract(el)\n",
    "acc.display()"
   ]
  },
  {
   "cell_type": "markdown",
   "metadata": {},
   "source": [
    "We check that $\\nabla_\\ell \\ell = \\kappa \\ell$:"
   ]
  },
  {
   "cell_type": "code",
   "execution_count": 28,
   "metadata": {},
   "outputs": [
    {
     "data": {
      "text/html": [
       "<html><script type=\"math/tex; mode=display\">\\newcommand{\\Bold}[1]{\\mathbf{#1}}-\\frac{m^{3} - m r^{2}}{m^{4} + 2 \\, m^{2} r^{2} + r^{4}}</script></html>"
      ],
      "text/latex": [
       "$$\\newcommand{\\Bold}[1]{\\mathbf{#1}}-\\frac{m^{3} - m r^{2}}{m^{4} + 2 \\, m^{2} r^{2} + r^{4}}$$"
      ],
      "text/plain": [
       "-(m^3 - m*r^2)/(m^4 + 2*m^2*r^2 + r^4)"
      ]
     },
     "execution_count": 28,
     "metadata": {},
     "output_type": "execute_result"
    }
   ],
   "source": [
    "kappa = acc[0] / el[0]\n",
    "kappa"
   ]
  },
  {
   "cell_type": "code",
   "execution_count": 29,
   "metadata": {},
   "outputs": [
    {
     "data": {
      "text/html": [
       "<html><script type=\"math/tex; mode=display\">\\newcommand{\\Bold}[1]{\\mathbf{#1}}-\\frac{{\\left(m + r\\right)} {\\left(m - r\\right)} m}{{\\left(m^{2} + r^{2}\\right)}^{2}}</script></html>"
      ],
      "text/latex": [
       "$$\\newcommand{\\Bold}[1]{\\mathbf{#1}}-\\frac{{\\left(m + r\\right)} {\\left(m - r\\right)} m}{{\\left(m^{2} + r^{2}\\right)}^{2}}$$"
      ],
      "text/plain": [
       "-(m + r)*(m - r)*m/(m^2 + r^2)^2"
      ]
     },
     "execution_count": 29,
     "metadata": {},
     "output_type": "execute_result"
    }
   ],
   "source": [
    "kappa.factor()"
   ]
  },
  {
   "cell_type": "code",
   "execution_count": 30,
   "metadata": {},
   "outputs": [
    {
     "data": {
      "text/html": [
       "<html><script type=\"math/tex; mode=display\">\\newcommand{\\Bold}[1]{\\mathbf{#1}}\\mathrm{True}</script></html>"
      ],
      "text/latex": [
       "$$\\newcommand{\\Bold}[1]{\\mathbf{#1}}\\mathrm{True}$$"
      ],
      "text/plain": [
       "True"
      ]
     },
     "execution_count": 30,
     "metadata": {},
     "output_type": "execute_result"
    }
   ],
   "source": [
    "acc == kappa*el"
   ]
  },
  {
   "cell_type": "markdown",
   "metadata": {},
   "source": [
    "## Outgoing Kerr coordinates on $M_{\\rm I}$"
   ]
  },
  {
   "cell_type": "code",
   "execution_count": 31,
   "metadata": {},
   "outputs": [
    {
     "data": {
      "text/html": [
       "<html><script type=\"math/tex; mode=display\">\\newcommand{\\Bold}[1]{\\mathbf{#1}}{\\tilde{\\tilde{t}}} :\\ \\left( -\\infty, +\\infty \\right) ;\\quad r :\\ \\left( m , +\\infty \\right) ;\\quad {\\theta} :\\ \\left( 0 , \\pi \\right) ;\\quad {\\tilde{\\tilde{\\varphi}}} :\\ \\left[ 0 , 2 \\, \\pi \\right] \\mbox{(periodic)}</script></html>"
      ],
      "text/latex": [
       "$$\\newcommand{\\Bold}[1]{\\mathbf{#1}}{\\tilde{\\tilde{t}}} :\\ \\left( -\\infty, +\\infty \\right) ;\\quad r :\\ \\left( m , +\\infty \\right) ;\\quad {\\theta} :\\ \\left( 0 , \\pi \\right) ;\\quad {\\tilde{\\tilde{\\varphi}}} :\\ \\left[ 0 , 2 \\, \\pi \\right] \\mbox{(periodic)}$$"
      ],
      "text/plain": [
       "to: (-oo, +oo); r: (m, +oo); th: (0, pi); oph: [0, 2*pi] (periodic)"
      ]
     },
     "execution_count": 31,
     "metadata": {},
     "output_type": "execute_result"
    }
   ],
   "source": [
    "OKC.<to,r,th,oph> = M_I.chart(r\"to:\\tilde{\\tilde{t}} r:(m,+oo) th:(0,pi):\\theta oph:(0,2*pi):periodic:\\tilde{\\tilde{\\varphi}}\") \n",
    "OKC.coord_range()"
   ]
  },
  {
   "cell_type": "code",
   "execution_count": 32,
   "metadata": {},
   "outputs": [
    {
     "data": {
      "text/html": [
       "<html><script type=\"math/tex; mode=display\">\\newcommand{\\Bold}[1]{\\mathbf{#1}}\\left\\{\\begin{array}{lcl} {\\tilde{\\tilde{t}}} & = & -2 \\, m \\log\\left(\\frac{{\\left| -m + r \\right|}}{m}\\right) - \\frac{2 \\, m^{2}}{m - r} + t \\\\ r & = & r \\\\ {\\theta} & = & {\\theta} \\\\ {\\tilde{\\tilde{\\varphi}}} & = & {\\varphi} - \\frac{m}{m - r} \\end{array}\\right.</script></html>"
      ],
      "text/latex": [
       "$$\\newcommand{\\Bold}[1]{\\mathbf{#1}}\\left\\{\\begin{array}{lcl} {\\tilde{\\tilde{t}}} & = & -2 \\, m \\log\\left(\\frac{{\\left| -m + r \\right|}}{m}\\right) - \\frac{2 \\, m^{2}}{m - r} + t \\\\ r & = & r \\\\ {\\theta} & = & {\\theta} \\\\ {\\tilde{\\tilde{\\varphi}}} & = & {\\varphi} - \\frac{m}{m - r} \\end{array}\\right.$$"
      ],
      "text/plain": [
       "to = -2*m*log(abs(-m + r)/m) - 2*m^2/(m - r) + t\n",
       "r = r\n",
       "th = th\n",
       "oph = ph - m/(m - r)"
      ]
     },
     "execution_count": 32,
     "metadata": {},
     "output_type": "execute_result"
    }
   ],
   "source": [
    "BL_to_OKC = BL.transition_map(OKC, [t + 2*m^2/(r-m) - 2*m*ln(abs(r-m)/m),\n",
    "                                    r, th, ph + m/(r-m)])\n",
    "BL_to_OKC.display()"
   ]
  },
  {
   "cell_type": "code",
   "execution_count": 33,
   "metadata": {},
   "outputs": [
    {
     "data": {
      "text/html": [
       "<html><script type=\"math/tex; mode=display\">\\newcommand{\\Bold}[1]{\\mathbf{#1}}\\left\\{\\begin{array}{lcl} t & = & -\\frac{2 \\, m^{2} \\log\\left(m\\right) - 2 \\, m r \\log\\left(m\\right) - 2 \\, m^{2} - {\\left(m - r\\right)} {\\tilde{\\tilde{t}}} - 2 \\, {\\left(m^{2} - m r\\right)} \\log\\left(-m + r\\right)}{m - r} \\\\ r & = & r \\\\ {\\theta} & = & {\\theta} \\\\ {\\varphi} & = & \\frac{m {\\tilde{\\tilde{\\varphi}}} - {\\tilde{\\tilde{\\varphi}}} r + m}{m - r} \\end{array}\\right.</script></html>"
      ],
      "text/latex": [
       "$$\\newcommand{\\Bold}[1]{\\mathbf{#1}}\\left\\{\\begin{array}{lcl} t & = & -\\frac{2 \\, m^{2} \\log\\left(m\\right) - 2 \\, m r \\log\\left(m\\right) - 2 \\, m^{2} - {\\left(m - r\\right)} {\\tilde{\\tilde{t}}} - 2 \\, {\\left(m^{2} - m r\\right)} \\log\\left(-m + r\\right)}{m - r} \\\\ r & = & r \\\\ {\\theta} & = & {\\theta} \\\\ {\\varphi} & = & \\frac{m {\\tilde{\\tilde{\\varphi}}} - {\\tilde{\\tilde{\\varphi}}} r + m}{m - r} \\end{array}\\right.$$"
      ],
      "text/plain": [
       "t = -(2*m^2*log(m) - 2*m*r*log(m) - 2*m^2 - (m - r)*to - 2*(m^2 - m*r)*log(-m + r))/(m - r)\n",
       "r = r\n",
       "th = th\n",
       "ph = (m*oph - oph*r + m)/(m - r)"
      ]
     },
     "execution_count": 33,
     "metadata": {},
     "output_type": "execute_result"
    }
   ],
   "source": [
    "BL_to_OKC.inverse().display()"
   ]
  },
  {
   "cell_type": "code",
   "execution_count": 34,
   "metadata": {},
   "outputs": [
    {
     "data": {
      "text/html": [
       "<html><script type=\"math/tex; mode=display\">\\newcommand{\\Bold}[1]{\\mathbf{#1}}\\left\\{\\begin{array}{lcl} {\\tilde{\\tilde{t}}} & = & \\frac{4 \\, m^{2} \\log\\left(m\\right) - 4 \\, m r \\log\\left(m\\right) - 4 \\, m^{2} + {\\left(m - r\\right)} {\\tilde{t}} - 4 \\, {\\left(m^{2} - m r\\right)} \\log\\left(-m + r\\right)}{m - r} \\\\ r & = & r \\\\ {\\theta} & = & {\\theta} \\\\ {\\tilde{\\tilde{\\varphi}}} & = & \\frac{{\\left(m - r\\right)} {\\tilde{\\varphi}} - 2 \\, m}{m - r} \\end{array}\\right.</script></html>"
      ],
      "text/latex": [
       "$$\\newcommand{\\Bold}[1]{\\mathbf{#1}}\\left\\{\\begin{array}{lcl} {\\tilde{\\tilde{t}}} & = & \\frac{4 \\, m^{2} \\log\\left(m\\right) - 4 \\, m r \\log\\left(m\\right) - 4 \\, m^{2} + {\\left(m - r\\right)} {\\tilde{t}} - 4 \\, {\\left(m^{2} - m r\\right)} \\log\\left(-m + r\\right)}{m - r} \\\\ r & = & r \\\\ {\\theta} & = & {\\theta} \\\\ {\\tilde{\\tilde{\\varphi}}} & = & \\frac{{\\left(m - r\\right)} {\\tilde{\\varphi}} - 2 \\, m}{m - r} \\end{array}\\right.$$"
      ],
      "text/plain": [
       "to = (4*m^2*log(m) - 4*m*r*log(m) - 4*m^2 + (m - r)*tt - 4*(m^2 - m*r)*log(-m + r))/(m - r)\n",
       "r = r\n",
       "th = th\n",
       "oph = ((m - r)*tph - 2*m)/(m - r)"
      ]
     },
     "execution_count": 34,
     "metadata": {},
     "output_type": "execute_result"
    }
   ],
   "source": [
    "KC_to_OKC = BL_to_OKC * KC_to_BL.restrict(M_I)\n",
    "KC_to_OKC.display()"
   ]
  },
  {
   "cell_type": "code",
   "execution_count": 35,
   "metadata": {},
   "outputs": [
    {
     "data": {
      "text/html": [
       "<html><script type=\"math/tex; mode=display\">\\newcommand{\\Bold}[1]{\\mathbf{#1}}\\left\\{\\begin{array}{lcl} {\\tilde{t}} & = & -\\frac{4 \\, m^{2} \\log\\left(m\\right) - 4 \\, m r \\log\\left(m\\right) - 4 \\, m^{2} - {\\left(m - r\\right)} {\\tilde{\\tilde{t}}} - 4 \\, {\\left(m^{2} - m r\\right)} \\log\\left(-m + r\\right)}{m - r} \\\\ r & = & r \\\\ {\\theta} & = & {\\theta} \\\\ {\\tilde{\\varphi}} & = & \\frac{m {\\tilde{\\tilde{\\varphi}}} - {\\tilde{\\tilde{\\varphi}}} r + 2 \\, m}{m - r} \\end{array}\\right.</script></html>"
      ],
      "text/latex": [
       "$$\\newcommand{\\Bold}[1]{\\mathbf{#1}}\\left\\{\\begin{array}{lcl} {\\tilde{t}} & = & -\\frac{4 \\, m^{2} \\log\\left(m\\right) - 4 \\, m r \\log\\left(m\\right) - 4 \\, m^{2} - {\\left(m - r\\right)} {\\tilde{\\tilde{t}}} - 4 \\, {\\left(m^{2} - m r\\right)} \\log\\left(-m + r\\right)}{m - r} \\\\ r & = & r \\\\ {\\theta} & = & {\\theta} \\\\ {\\tilde{\\varphi}} & = & \\frac{m {\\tilde{\\tilde{\\varphi}}} - {\\tilde{\\tilde{\\varphi}}} r + 2 \\, m}{m - r} \\end{array}\\right.$$"
      ],
      "text/plain": [
       "tt = -(4*m^2*log(m) - 4*m*r*log(m) - 4*m^2 - (m - r)*to - 4*(m^2 - m*r)*log(-m + r))/(m - r)\n",
       "r = r\n",
       "th = th\n",
       "tph = (m*oph - oph*r + 2*m)/(m - r)"
      ]
     },
     "execution_count": 35,
     "metadata": {},
     "output_type": "execute_result"
    }
   ],
   "source": [
    "KC_to_OKC.inverse().display()"
   ]
  },
  {
   "cell_type": "code",
   "execution_count": 36,
   "metadata": {},
   "outputs": [],
   "source": [
    "M_I.set_default_chart(OKC)\n",
    "M_I.set_default_frame(OKC.frame())"
   ]
  },
  {
   "cell_type": "code",
   "execution_count": 37,
   "metadata": {},
   "outputs": [
    {
     "data": {
      "text/html": [
       "<html><script type=\"math/tex; mode=display\">\\newcommand{\\Bold}[1]{\\mathbf{#1}}g = \\left( -\\frac{m^{2} \\cos\\left({\\theta}\\right)^{2} - 2 \\, m r + r^{2}}{m^{2} \\cos\\left({\\theta}\\right)^{2} + r^{2}} \\right) \\mathrm{d} {\\tilde{\\tilde{t}}}\\otimes \\mathrm{d} {\\tilde{\\tilde{t}}} + \\left( -\\frac{2 \\, m r}{m^{2} \\cos\\left({\\theta}\\right)^{2} + r^{2}} \\right) \\mathrm{d} {\\tilde{\\tilde{t}}}\\otimes \\mathrm{d} r + \\left( -\\frac{2 \\, m^{2} r \\sin\\left({\\theta}\\right)^{2}}{m^{2} \\cos\\left({\\theta}\\right)^{2} + r^{2}} \\right) \\mathrm{d} {\\tilde{\\tilde{t}}}\\otimes \\mathrm{d} {\\tilde{\\tilde{\\varphi}}} + \\left( -\\frac{2 \\, m r}{m^{2} \\cos\\left({\\theta}\\right)^{2} + r^{2}} \\right) \\mathrm{d} r\\otimes \\mathrm{d} {\\tilde{\\tilde{t}}} + \\left( \\frac{m^{2} \\cos\\left({\\theta}\\right)^{2} + 2 \\, m r + r^{2}}{m^{2} \\cos\\left({\\theta}\\right)^{2} + r^{2}} \\right) \\mathrm{d} r\\otimes \\mathrm{d} r + \\left( -\\frac{m^{3} \\sin\\left({\\theta}\\right)^{4} - {\\left(m^{3} + 2 \\, m^{2} r + m r^{2}\\right)} \\sin\\left({\\theta}\\right)^{2}}{m^{2} \\cos\\left({\\theta}\\right)^{2} + r^{2}} \\right) \\mathrm{d} r\\otimes \\mathrm{d} {\\tilde{\\tilde{\\varphi}}} + \\left( m^{2} \\cos\\left({\\theta}\\right)^{2} + r^{2} \\right) \\mathrm{d} {\\theta}\\otimes \\mathrm{d} {\\theta} + \\left( -\\frac{2 \\, m^{2} r \\sin\\left({\\theta}\\right)^{2}}{m^{2} \\cos\\left({\\theta}\\right)^{2} + r^{2}} \\right) \\mathrm{d} {\\tilde{\\tilde{\\varphi}}}\\otimes \\mathrm{d} {\\tilde{\\tilde{t}}} + \\left( -\\frac{m^{3} \\sin\\left({\\theta}\\right)^{4} - {\\left(m^{3} + 2 \\, m^{2} r + m r^{2}\\right)} \\sin\\left({\\theta}\\right)^{2}}{m^{2} \\cos\\left({\\theta}\\right)^{2} + r^{2}} \\right) \\mathrm{d} {\\tilde{\\tilde{\\varphi}}}\\otimes \\mathrm{d} r + \\left( \\frac{2 \\, m^{3} r \\sin\\left({\\theta}\\right)^{4} + {\\left(m^{2} r^{2} + r^{4} + {\\left(m^{4} + m^{2} r^{2}\\right)} \\cos\\left({\\theta}\\right)^{2}\\right)} \\sin\\left({\\theta}\\right)^{2}}{m^{2} \\cos\\left({\\theta}\\right)^{2} + r^{2}} \\right) \\mathrm{d} {\\tilde{\\tilde{\\varphi}}}\\otimes \\mathrm{d} {\\tilde{\\tilde{\\varphi}}}</script></html>"
      ],
      "text/latex": [
       "$$\\newcommand{\\Bold}[1]{\\mathbf{#1}}g = \\left( -\\frac{m^{2} \\cos\\left({\\theta}\\right)^{2} - 2 \\, m r + r^{2}}{m^{2} \\cos\\left({\\theta}\\right)^{2} + r^{2}} \\right) \\mathrm{d} {\\tilde{\\tilde{t}}}\\otimes \\mathrm{d} {\\tilde{\\tilde{t}}} + \\left( -\\frac{2 \\, m r}{m^{2} \\cos\\left({\\theta}\\right)^{2} + r^{2}} \\right) \\mathrm{d} {\\tilde{\\tilde{t}}}\\otimes \\mathrm{d} r + \\left( -\\frac{2 \\, m^{2} r \\sin\\left({\\theta}\\right)^{2}}{m^{2} \\cos\\left({\\theta}\\right)^{2} + r^{2}} \\right) \\mathrm{d} {\\tilde{\\tilde{t}}}\\otimes \\mathrm{d} {\\tilde{\\tilde{\\varphi}}} + \\left( -\\frac{2 \\, m r}{m^{2} \\cos\\left({\\theta}\\right)^{2} + r^{2}} \\right) \\mathrm{d} r\\otimes \\mathrm{d} {\\tilde{\\tilde{t}}} + \\left( \\frac{m^{2} \\cos\\left({\\theta}\\right)^{2} + 2 \\, m r + r^{2}}{m^{2} \\cos\\left({\\theta}\\right)^{2} + r^{2}} \\right) \\mathrm{d} r\\otimes \\mathrm{d} r + \\left( -\\frac{m^{3} \\sin\\left({\\theta}\\right)^{4} - {\\left(m^{3} + 2 \\, m^{2} r + m r^{2}\\right)} \\sin\\left({\\theta}\\right)^{2}}{m^{2} \\cos\\left({\\theta}\\right)^{2} + r^{2}} \\right) \\mathrm{d} r\\otimes \\mathrm{d} {\\tilde{\\tilde{\\varphi}}} + \\left( m^{2} \\cos\\left({\\theta}\\right)^{2} + r^{2} \\right) \\mathrm{d} {\\theta}\\otimes \\mathrm{d} {\\theta} + \\left( -\\frac{2 \\, m^{2} r \\sin\\left({\\theta}\\right)^{2}}{m^{2} \\cos\\left({\\theta}\\right)^{2} + r^{2}} \\right) \\mathrm{d} {\\tilde{\\tilde{\\varphi}}}\\otimes \\mathrm{d} {\\tilde{\\tilde{t}}} + \\left( -\\frac{m^{3} \\sin\\left({\\theta}\\right)^{4} - {\\left(m^{3} + 2 \\, m^{2} r + m r^{2}\\right)} \\sin\\left({\\theta}\\right)^{2}}{m^{2} \\cos\\left({\\theta}\\right)^{2} + r^{2}} \\right) \\mathrm{d} {\\tilde{\\tilde{\\varphi}}}\\otimes \\mathrm{d} r + \\left( \\frac{2 \\, m^{3} r \\sin\\left({\\theta}\\right)^{4} + {\\left(m^{2} r^{2} + r^{4} + {\\left(m^{4} + m^{2} r^{2}\\right)} \\cos\\left({\\theta}\\right)^{2}\\right)} \\sin\\left({\\theta}\\right)^{2}}{m^{2} \\cos\\left({\\theta}\\right)^{2} + r^{2}} \\right) \\mathrm{d} {\\tilde{\\tilde{\\varphi}}}\\otimes \\mathrm{d} {\\tilde{\\tilde{\\varphi}}}$$"
      ],
      "text/plain": [
       "g = -(m^2*cos(th)^2 - 2*m*r + r^2)/(m^2*cos(th)^2 + r^2) dto*dto - 2*m*r/(m^2*cos(th)^2 + r^2) dto*dr - 2*m^2*r*sin(th)^2/(m^2*cos(th)^2 + r^2) dto*doph - 2*m*r/(m^2*cos(th)^2 + r^2) dr*dto + (m^2*cos(th)^2 + 2*m*r + r^2)/(m^2*cos(th)^2 + r^2) dr*dr - (m^3*sin(th)^4 - (m^3 + 2*m^2*r + m*r^2)*sin(th)^2)/(m^2*cos(th)^2 + r^2) dr*doph + (m^2*cos(th)^2 + r^2) dth*dth - 2*m^2*r*sin(th)^2/(m^2*cos(th)^2 + r^2) doph*dto - (m^3*sin(th)^4 - (m^3 + 2*m^2*r + m*r^2)*sin(th)^2)/(m^2*cos(th)^2 + r^2) doph*dr + (2*m^3*r*sin(th)^4 + (m^2*r^2 + r^4 + (m^4 + m^2*r^2)*cos(th)^2)*sin(th)^2)/(m^2*cos(th)^2 + r^2) doph*doph"
      ]
     },
     "execution_count": 37,
     "metadata": {},
     "output_type": "execute_result"
    }
   ],
   "source": [
    "gI = g.restrict(M_I)\n",
    "gI.display()"
   ]
  },
  {
   "cell_type": "code",
   "execution_count": 38,
   "metadata": {},
   "outputs": [
    {
     "data": {
      "text/html": [
       "<html><script type=\"math/tex; mode=display\">\\newcommand{\\Bold}[1]{\\mathbf{#1}}-\\frac{m^{3} \\sin\\left({\\theta}\\right)^{4} - {\\left(m^{3} + 2 \\, m^{2} r + m r^{2}\\right)} \\sin\\left({\\theta}\\right)^{2}}{m^{2} \\cos\\left({\\theta}\\right)^{2} + r^{2}}</script></html>"
      ],
      "text/latex": [
       "$$\\newcommand{\\Bold}[1]{\\mathbf{#1}}-\\frac{m^{3} \\sin\\left({\\theta}\\right)^{4} - {\\left(m^{3} + 2 \\, m^{2} r + m r^{2}\\right)} \\sin\\left({\\theta}\\right)^{2}}{m^{2} \\cos\\left({\\theta}\\right)^{2} + r^{2}}$$"
      ],
      "text/plain": [
       "-(m^3*sin(th)^4 - (m^3 + 2*m^2*r + m*r^2)*sin(th)^2)/(m^2*cos(th)^2 + r^2)"
      ]
     },
     "execution_count": 38,
     "metadata": {},
     "output_type": "execute_result"
    }
   ],
   "source": [
    "gI[1,3]"
   ]
  },
  {
   "cell_type": "code",
   "execution_count": 39,
   "metadata": {},
   "outputs": [
    {
     "data": {
      "text/html": [
       "<html><script type=\"math/tex; mode=display\">\\newcommand{\\Bold}[1]{\\mathbf{#1}}\\mathrm{True}</script></html>"
      ],
      "text/latex": [
       "$$\\newcommand{\\Bold}[1]{\\mathbf{#1}}\\mathrm{True}$$"
      ],
      "text/plain": [
       "True"
      ]
     },
     "execution_count": 39,
     "metadata": {},
     "output_type": "execute_result"
    }
   ],
   "source": [
    "gI[1,3] == m*(1 + 2*m*r/rho2)*sin(th)^2"
   ]
  },
  {
   "cell_type": "code",
   "execution_count": 40,
   "metadata": {},
   "outputs": [
    {
     "data": {
      "text/html": [
       "<html><script type=\"math/tex; mode=display\">\\newcommand{\\Bold}[1]{\\mathbf{#1}}\\frac{2 \\, m^{3} r \\sin\\left({\\theta}\\right)^{4} + {\\left(m^{2} r^{2} + r^{4} + {\\left(m^{4} + m^{2} r^{2}\\right)} \\cos\\left({\\theta}\\right)^{2}\\right)} \\sin\\left({\\theta}\\right)^{2}}{m^{2} \\cos\\left({\\theta}\\right)^{2} + r^{2}}</script></html>"
      ],
      "text/latex": [
       "$$\\newcommand{\\Bold}[1]{\\mathbf{#1}}\\frac{2 \\, m^{3} r \\sin\\left({\\theta}\\right)^{4} + {\\left(m^{2} r^{2} + r^{4} + {\\left(m^{4} + m^{2} r^{2}\\right)} \\cos\\left({\\theta}\\right)^{2}\\right)} \\sin\\left({\\theta}\\right)^{2}}{m^{2} \\cos\\left({\\theta}\\right)^{2} + r^{2}}$$"
      ],
      "text/plain": [
       "(2*m^3*r*sin(th)^4 + (m^2*r^2 + r^4 + (m^4 + m^2*r^2)*cos(th)^2)*sin(th)^2)/(m^2*cos(th)^2 + r^2)"
      ]
     },
     "execution_count": 40,
     "metadata": {},
     "output_type": "execute_result"
    }
   ],
   "source": [
    "gI[3,3]"
   ]
  },
  {
   "cell_type": "code",
   "execution_count": 41,
   "metadata": {},
   "outputs": [
    {
     "data": {
      "text/html": [
       "<html><script type=\"math/tex; mode=display\">\\newcommand{\\Bold}[1]{\\mathbf{#1}}\\mathrm{True}</script></html>"
      ],
      "text/latex": [
       "$$\\newcommand{\\Bold}[1]{\\mathbf{#1}}\\mathrm{True}$$"
      ],
      "text/plain": [
       "True"
      ]
     },
     "execution_count": 41,
     "metadata": {},
     "output_type": "execute_result"
    }
   ],
   "source": [
    "g[3,3] == (r^2 + m^2 + 2*m^3*r*sin(th)^2/rho2)*sin(th)^2"
   ]
  },
  {
   "cell_type": "code",
   "execution_count": 42,
   "metadata": {},
   "outputs": [
    {
     "data": {
      "text/html": [
       "<html><script type=\"math/tex; mode=display\">\\newcommand{\\Bold}[1]{\\mathbf{#1}}\\ell' = \\frac{\\partial}{\\partial {\\tilde{\\tilde{t}}} }+\\frac{\\partial}{\\partial r }</script></html>"
      ],
      "text/latex": [
       "$$\\newcommand{\\Bold}[1]{\\mathbf{#1}}\\ell' = \\frac{\\partial}{\\partial {\\tilde{\\tilde{t}}} }+\\frac{\\partial}{\\partial r }$$"
      ],
      "text/plain": [
       "ol = d/dto + d/dr"
      ]
     },
     "execution_count": 42,
     "metadata": {},
     "output_type": "execute_result"
    }
   ],
   "source": [
    "ol = M_I.vector_field({OKC.frame(): (1, 1, 0, 0)}, name='ol', \n",
    "                      latex_name=r\"\\ell'\")\n",
    "ol.display()"
   ]
  },
  {
   "cell_type": "code",
   "execution_count": 43,
   "metadata": {},
   "outputs": [
    {
     "data": {
      "text/html": [
       "<html><script type=\"math/tex; mode=display\">\\newcommand{\\Bold}[1]{\\mathbf{#1}}\\ell' = \\left( \\frac{m^{2} + 2 \\, m r + r^{2}}{m^{2} - 2 \\, m r + r^{2}} \\right) \\frac{\\partial}{\\partial {\\tilde{t}} } +\\frac{\\partial}{\\partial r } + \\left( \\frac{2 \\, m}{m^{2} - 2 \\, m r + r^{2}} \\right) \\frac{\\partial}{\\partial {\\tilde{\\varphi}} }</script></html>"
      ],
      "text/latex": [
       "$$\\newcommand{\\Bold}[1]{\\mathbf{#1}}\\ell' = \\left( \\frac{m^{2} + 2 \\, m r + r^{2}}{m^{2} - 2 \\, m r + r^{2}} \\right) \\frac{\\partial}{\\partial {\\tilde{t}} } +\\frac{\\partial}{\\partial r } + \\left( \\frac{2 \\, m}{m^{2} - 2 \\, m r + r^{2}} \\right) \\frac{\\partial}{\\partial {\\tilde{\\varphi}} }$$"
      ],
      "text/plain": [
       "ol = (m^2 + 2*m*r + r^2)/(m^2 - 2*m*r + r^2) d/dtt + d/dr + 2*m/(m^2 - 2*m*r + r^2) d/dtph"
      ]
     },
     "execution_count": 43,
     "metadata": {},
     "output_type": "execute_result"
    }
   ],
   "source": [
    "ol.display(KC.restrict(M_I).frame())"
   ]
  },
  {
   "cell_type": "code",
   "execution_count": 44,
   "metadata": {},
   "outputs": [
    {
     "data": {
      "text/html": [
       "<html><script type=\"math/tex; mode=display\">\\newcommand{\\Bold}[1]{\\mathbf{#1}}\\ell' = \\left( \\frac{m^{2} + r^{2}}{m^{2} - 2 \\, m r + r^{2}} \\right) \\frac{\\partial}{\\partial t } +\\frac{\\partial}{\\partial r } + \\left( \\frac{m}{m^{2} - 2 \\, m r + r^{2}} \\right) \\frac{\\partial}{\\partial {\\varphi} }</script></html>"
      ],
      "text/latex": [
       "$$\\newcommand{\\Bold}[1]{\\mathbf{#1}}\\ell' = \\left( \\frac{m^{2} + r^{2}}{m^{2} - 2 \\, m r + r^{2}} \\right) \\frac{\\partial}{\\partial t } +\\frac{\\partial}{\\partial r } + \\left( \\frac{m}{m^{2} - 2 \\, m r + r^{2}} \\right) \\frac{\\partial}{\\partial {\\varphi} }$$"
      ],
      "text/plain": [
       "ol = (m^2 + r^2)/(m^2 - 2*m*r + r^2) d/dt + d/dr + m/(m^2 - 2*m*r + r^2) d/dph"
      ]
     },
     "execution_count": 44,
     "metadata": {},
     "output_type": "execute_result"
    }
   ],
   "source": [
    "ol.display(BL.frame())"
   ]
  },
  {
   "cell_type": "code",
   "execution_count": 45,
   "metadata": {},
   "outputs": [
    {
     "data": {
      "text/html": [
       "<html><script type=\"math/tex; mode=display\">\\newcommand{\\Bold}[1]{\\mathbf{#1}}0</script></html>"
      ],
      "text/latex": [
       "$$\\newcommand{\\Bold}[1]{\\mathbf{#1}}0$$"
      ],
      "text/plain": [
       "0"
      ]
     },
     "execution_count": 45,
     "metadata": {},
     "output_type": "execute_result"
    }
   ],
   "source": [
    "g(ol, ol).expr()"
   ]
  },
  {
   "cell_type": "code",
   "execution_count": 46,
   "metadata": {},
   "outputs": [
    {
     "data": {
      "text/html": [
       "<html><script type=\"math/tex; mode=display\">\\newcommand{\\Bold}[1]{\\mathbf{#1}}\\verb|3-indices|\\phantom{\\verb!x!}\\verb|components|\\phantom{\\verb!x!}\\verb|w.r.t.|\\phantom{\\verb!x!}\\verb|Coordinate|\\phantom{\\verb!x!}\\verb|frame|\\phantom{\\verb!x!}\\verb|(M_I,|\\phantom{\\verb!x!}\\verb|(d/dto,d/dr,d/dth,d/doph)),|\\phantom{\\verb!x!}\\verb|with|\\phantom{\\verb!x!}\\verb|symmetry|\\phantom{\\verb!x!}\\verb|on|\\phantom{\\verb!x!}\\verb|the|\\phantom{\\verb!x!}\\verb|index|\\phantom{\\verb!x!}\\verb|positions|\\phantom{\\verb!x!}\\verb|(1,|\\phantom{\\verb!x!}\\verb|2)|</script></html>"
      ],
      "text/latex": [
       "$$\\newcommand{\\Bold}[1]{\\mathbf{#1}}\\verb|3-indices|\\phantom{\\verb!x!}\\verb|components|\\phantom{\\verb!x!}\\verb|w.r.t.|\\phantom{\\verb!x!}\\verb|Coordinate|\\phantom{\\verb!x!}\\verb|frame|\\phantom{\\verb!x!}\\verb|(M_I,|\\phantom{\\verb!x!}\\verb|(d/dto,d/dr,d/dth,d/doph)),|\\phantom{\\verb!x!}\\verb|with|\\phantom{\\verb!x!}\\verb|symmetry|\\phantom{\\verb!x!}\\verb|on|\\phantom{\\verb!x!}\\verb|the|\\phantom{\\verb!x!}\\verb|index|\\phantom{\\verb!x!}\\verb|positions|\\phantom{\\verb!x!}\\verb|(1,|\\phantom{\\verb!x!}\\verb|2)|$$"
      ],
      "text/plain": [
       "3-indices components w.r.t. Coordinate frame (M_I, (d/dto,d/dr,d/dth,d/doph)), with symmetry on the index positions (1, 2)"
      ]
     },
     "execution_count": 46,
     "metadata": {},
     "output_type": "execute_result"
    }
   ],
   "source": [
    "nabla.coef(OKC.frame())"
   ]
  },
  {
   "cell_type": "code",
   "execution_count": 47,
   "metadata": {},
   "outputs": [
    {
     "data": {
      "text/html": [
       "<html><script type=\"math/tex; mode=display\">\\newcommand{\\Bold}[1]{\\mathbf{#1}}0</script></html>"
      ],
      "text/latex": [
       "$$\\newcommand{\\Bold}[1]{\\mathbf{#1}}0$$"
      ],
      "text/plain": [
       "0"
      ]
     },
     "execution_count": 47,
     "metadata": {},
     "output_type": "execute_result"
    }
   ],
   "source": [
    "nabla(ol).contract(ol).display()"
   ]
  },
  {
   "cell_type": "code",
   "execution_count": 48,
   "metadata": {},
   "outputs": [
    {
     "data": {
      "text/html": [
       "<html><script type=\"math/tex; mode=display\">\\newcommand{\\Bold}[1]{\\mathbf{#1}}\\ell = \\left( \\frac{m^{2} - 2 \\, m r + r^{2}}{2 \\, {\\left(m^{2} + r^{2}\\right)}} \\right) \\frac{\\partial}{\\partial {\\tilde{\\tilde{t}}} } + \\left( \\frac{m^{2} - 2 \\, m r + r^{2}}{2 \\, {\\left(m^{2} + r^{2}\\right)}} \\right) \\frac{\\partial}{\\partial r }</script></html>"
      ],
      "text/latex": [
       "$$\\newcommand{\\Bold}[1]{\\mathbf{#1}}\\ell = \\left( \\frac{m^{2} - 2 \\, m r + r^{2}}{2 \\, {\\left(m^{2} + r^{2}\\right)}} \\right) \\frac{\\partial}{\\partial {\\tilde{\\tilde{t}}} } + \\left( \\frac{m^{2} - 2 \\, m r + r^{2}}{2 \\, {\\left(m^{2} + r^{2}\\right)}} \\right) \\frac{\\partial}{\\partial r }$$"
      ],
      "text/plain": [
       "el = 1/2*(m^2 - 2*m*r + r^2)/(m^2 + r^2) d/dto + 1/2*(m^2 - 2*m*r + r^2)/(m^2 + r^2) d/dr"
      ]
     },
     "execution_count": 48,
     "metadata": {},
     "output_type": "execute_result"
    }
   ],
   "source": [
    "elI = el.restrict(M_I)\n",
    "elI.display()"
   ]
  },
  {
   "cell_type": "markdown",
   "metadata": {},
   "source": [
    "Check of the relation $\\ell' = 2 \\frac{r^2 + m^2}{(r - m)^2} \\, \\ell$:"
   ]
  },
  {
   "cell_type": "code",
   "execution_count": 49,
   "metadata": {},
   "outputs": [
    {
     "data": {
      "text/html": [
       "<html><script type=\"math/tex; mode=display\">\\newcommand{\\Bold}[1]{\\mathbf{#1}}\\mathrm{True}</script></html>"
      ],
      "text/latex": [
       "$$\\newcommand{\\Bold}[1]{\\mathbf{#1}}\\mathrm{True}$$"
      ],
      "text/plain": [
       "True"
      ]
     },
     "execution_count": 49,
     "metadata": {},
     "output_type": "execute_result"
    }
   ],
   "source": [
    "ol == 2*(r^2 + m^2)/(r - m)^2 * elI"
   ]
  },
  {
   "cell_type": "code",
   "execution_count": 50,
   "metadata": {},
   "outputs": [
    {
     "data": {
      "text/html": [
       "<html><script type=\"math/tex; mode=display\">\\newcommand{\\Bold}[1]{\\mathbf{#1}}k = \\left( \\frac{m^{2} + 2 \\, m r + r^{2}}{m^{2} - 2 \\, m r + r^{2}} \\right) \\frac{\\partial}{\\partial {\\tilde{\\tilde{t}}} } -\\frac{\\partial}{\\partial r } + \\left( \\frac{2 \\, m}{m^{2} - 2 \\, m r + r^{2}} \\right) \\frac{\\partial}{\\partial {\\tilde{\\tilde{\\varphi}}} }</script></html>"
      ],
      "text/latex": [
       "$$\\newcommand{\\Bold}[1]{\\mathbf{#1}}k = \\left( \\frac{m^{2} + 2 \\, m r + r^{2}}{m^{2} - 2 \\, m r + r^{2}} \\right) \\frac{\\partial}{\\partial {\\tilde{\\tilde{t}}} } -\\frac{\\partial}{\\partial r } + \\left( \\frac{2 \\, m}{m^{2} - 2 \\, m r + r^{2}} \\right) \\frac{\\partial}{\\partial {\\tilde{\\tilde{\\varphi}}} }$$"
      ],
      "text/plain": [
       "k = (m^2 + 2*m*r + r^2)/(m^2 - 2*m*r + r^2) d/dto - d/dr + 2*m/(m^2 - 2*m*r + r^2) d/doph"
      ]
     },
     "execution_count": 50,
     "metadata": {},
     "output_type": "execute_result"
    }
   ],
   "source": [
    "kI = k.restrict(M_I)\n",
    "kI.display()"
   ]
  },
  {
   "cell_type": "code",
   "execution_count": 51,
   "metadata": {},
   "outputs": [
    {
     "data": {
      "text/html": [
       "<html><script type=\"math/tex; mode=display\">\\newcommand{\\Bold}[1]{\\mathbf{#1}}k' = \\left( \\frac{m^{2} + 2 \\, m r + r^{2}}{2 \\, {\\left(m^{2} + r^{2}\\right)}} \\right) \\frac{\\partial}{\\partial {\\tilde{\\tilde{t}}} } + \\left( -\\frac{m^{2} - 2 \\, m r + r^{2}}{2 \\, {\\left(m^{2} + r^{2}\\right)}} \\right) \\frac{\\partial}{\\partial r } + \\left( \\frac{m}{m^{2} + r^{2}} \\right) \\frac{\\partial}{\\partial {\\tilde{\\tilde{\\varphi}}} }</script></html>"
      ],
      "text/latex": [
       "$$\\newcommand{\\Bold}[1]{\\mathbf{#1}}k' = \\left( \\frac{m^{2} + 2 \\, m r + r^{2}}{2 \\, {\\left(m^{2} + r^{2}\\right)}} \\right) \\frac{\\partial}{\\partial {\\tilde{\\tilde{t}}} } + \\left( -\\frac{m^{2} - 2 \\, m r + r^{2}}{2 \\, {\\left(m^{2} + r^{2}\\right)}} \\right) \\frac{\\partial}{\\partial r } + \\left( \\frac{m}{m^{2} + r^{2}} \\right) \\frac{\\partial}{\\partial {\\tilde{\\tilde{\\varphi}}} }$$"
      ],
      "text/plain": [
       "ok = 1/2*(m^2 + 2*m*r + r^2)/(m^2 + r^2) d/dto - 1/2*(m^2 - 2*m*r + r^2)/(m^2 + r^2) d/dr + m/(m^2 + r^2) d/doph"
      ]
     },
     "execution_count": 51,
     "metadata": {},
     "output_type": "execute_result"
    }
   ],
   "source": [
    "ok = (r - m)^2/(2*(r^2 + m^2)) * kI\n",
    "ok.set_name('ok', latex_name=r\"k'\")\n",
    "ok.display()"
   ]
  },
  {
   "cell_type": "code",
   "execution_count": 52,
   "metadata": {},
   "outputs": [
    {
     "data": {
      "text/html": [
       "<html><script type=\"math/tex; mode=display\">\\newcommand{\\Bold}[1]{\\mathbf{#1}}-\\frac{m^{2} \\cos\\left({\\theta}\\right)^{2} + r^{2}}{m^{2} + r^{2}}</script></html>"
      ],
      "text/latex": [
       "$$\\newcommand{\\Bold}[1]{\\mathbf{#1}}-\\frac{m^{2} \\cos\\left({\\theta}\\right)^{2} + r^{2}}{m^{2} + r^{2}}$$"
      ],
      "text/plain": [
       "-(m^2*cos(th)^2 + r^2)/(m^2 + r^2)"
      ]
     },
     "execution_count": 52,
     "metadata": {},
     "output_type": "execute_result"
    }
   ],
   "source": [
    "g(k, el).expr()"
   ]
  },
  {
   "cell_type": "code",
   "execution_count": 53,
   "metadata": {},
   "outputs": [
    {
     "data": {
      "text/html": [
       "<html><script type=\"math/tex; mode=display\">\\newcommand{\\Bold}[1]{\\mathbf{#1}}-\\frac{m^{2} \\cos\\left({\\theta}\\right)^{2} + r^{2}}{m^{2} + r^{2}}</script></html>"
      ],
      "text/latex": [
       "$$\\newcommand{\\Bold}[1]{\\mathbf{#1}}-\\frac{m^{2} \\cos\\left({\\theta}\\right)^{2} + r^{2}}{m^{2} + r^{2}}$$"
      ],
      "text/plain": [
       "-(m^2*cos(th)^2 + r^2)/(m^2 + r^2)"
      ]
     },
     "execution_count": 53,
     "metadata": {},
     "output_type": "execute_result"
    }
   ],
   "source": [
    "g(ok, ol).expr()"
   ]
  },
  {
   "cell_type": "code",
   "execution_count": 54,
   "metadata": {},
   "outputs": [
    {
     "data": {
      "text/html": [
       "<html><script type=\"math/tex; mode=display\">\\newcommand{\\Bold}[1]{\\mathbf{#1}}-\\frac{2 \\, {\\left(m^{2} \\cos\\left({\\theta}\\right)^{2} + r^{2}\\right)}}{{\\left(m - r\\right)}^{2}}</script></html>"
      ],
      "text/latex": [
       "$$\\newcommand{\\Bold}[1]{\\mathbf{#1}}-\\frac{2 \\, {\\left(m^{2} \\cos\\left({\\theta}\\right)^{2} + r^{2}\\right)}}{{\\left(m - r\\right)}^{2}}$$"
      ],
      "text/plain": [
       "-2*(m^2*cos(th)^2 + r^2)/(m - r)^2"
      ]
     },
     "execution_count": 54,
     "metadata": {},
     "output_type": "execute_result"
    }
   ],
   "source": [
    "g(k, ol).expr().factor()"
   ]
  },
  {
   "cell_type": "code",
   "execution_count": 55,
   "metadata": {},
   "outputs": [
    {
     "data": {
      "text/html": [
       "<html><script type=\"math/tex; mode=display\">\\newcommand{\\Bold}[1]{\\mathbf{#1}}-\\frac{{\\left(m^{2} \\cos\\left({\\theta}\\right)^{2} + r^{2}\\right)} {\\left(m - r\\right)}^{2}}{2 \\, {\\left(m^{2} + r^{2}\\right)}^{2}}</script></html>"
      ],
      "text/latex": [
       "$$\\newcommand{\\Bold}[1]{\\mathbf{#1}}-\\frac{{\\left(m^{2} \\cos\\left({\\theta}\\right)^{2} + r^{2}\\right)} {\\left(m - r\\right)}^{2}}{2 \\, {\\left(m^{2} + r^{2}\\right)}^{2}}$$"
      ],
      "text/plain": [
       "-1/2*(m^2*cos(th)^2 + r^2)*(m - r)^2/(m^2 + r^2)^2"
      ]
     },
     "execution_count": 55,
     "metadata": {},
     "output_type": "execute_result"
    }
   ],
   "source": [
    "g(ok, el).expr().factor()"
   ]
  },
  {
   "cell_type": "markdown",
   "metadata": {},
   "source": [
    "### Non-affinity coefficient of $k'$"
   ]
  },
  {
   "cell_type": "code",
   "execution_count": 56,
   "metadata": {},
   "outputs": [
    {
     "data": {
      "text/html": [
       "<html><script type=\"math/tex; mode=display\">\\newcommand{\\Bold}[1]{\\mathbf{#1}}\\left( \\frac{m^{5} + 2 \\, m^{4} r - 2 \\, m^{2} r^{3} - m r^{4}}{2 \\, {\\left(m^{6} + 3 \\, m^{4} r^{2} + 3 \\, m^{2} r^{4} + r^{6}\\right)}} \\right) \\frac{\\partial}{\\partial {\\tilde{\\tilde{t}}} } + \\left( -\\frac{m^{5} - 2 \\, m^{4} r + 2 \\, m^{2} r^{3} - m r^{4}}{2 \\, {\\left(m^{6} + 3 \\, m^{4} r^{2} + 3 \\, m^{2} r^{4} + r^{6}\\right)}} \\right) \\frac{\\partial}{\\partial r } + \\left( \\frac{m^{4} - m^{2} r^{2}}{m^{6} + 3 \\, m^{4} r^{2} + 3 \\, m^{2} r^{4} + r^{6}} \\right) \\frac{\\partial}{\\partial {\\tilde{\\tilde{\\varphi}}} }</script></html>"
      ],
      "text/latex": [
       "$$\\newcommand{\\Bold}[1]{\\mathbf{#1}}\\left( \\frac{m^{5} + 2 \\, m^{4} r - 2 \\, m^{2} r^{3} - m r^{4}}{2 \\, {\\left(m^{6} + 3 \\, m^{4} r^{2} + 3 \\, m^{2} r^{4} + r^{6}\\right)}} \\right) \\frac{\\partial}{\\partial {\\tilde{\\tilde{t}}} } + \\left( -\\frac{m^{5} - 2 \\, m^{4} r + 2 \\, m^{2} r^{3} - m r^{4}}{2 \\, {\\left(m^{6} + 3 \\, m^{4} r^{2} + 3 \\, m^{2} r^{4} + r^{6}\\right)}} \\right) \\frac{\\partial}{\\partial r } + \\left( \\frac{m^{4} - m^{2} r^{2}}{m^{6} + 3 \\, m^{4} r^{2} + 3 \\, m^{2} r^{4} + r^{6}} \\right) \\frac{\\partial}{\\partial {\\tilde{\\tilde{\\varphi}}} }$$"
      ],
      "text/plain": [
       "1/2*(m^5 + 2*m^4*r - 2*m^2*r^3 - m*r^4)/(m^6 + 3*m^4*r^2 + 3*m^2*r^4 + r^6) d/dto - 1/2*(m^5 - 2*m^4*r + 2*m^2*r^3 - m*r^4)/(m^6 + 3*m^4*r^2 + 3*m^2*r^4 + r^6) d/dr + (m^4 - m^2*r^2)/(m^6 + 3*m^4*r^2 + 3*m^2*r^4 + r^6) d/doph"
      ]
     },
     "execution_count": 56,
     "metadata": {},
     "output_type": "execute_result"
    }
   ],
   "source": [
    "acc_ok = nabla(ok).contract(ok)\n",
    "acc_ok.display()"
   ]
  },
  {
   "cell_type": "code",
   "execution_count": 57,
   "metadata": {},
   "outputs": [
    {
     "data": {
      "text/html": [
       "<html><script type=\"math/tex; mode=display\">\\newcommand{\\Bold}[1]{\\mathbf{#1}}\\frac{{\\left(m + r\\right)} {\\left(m - r\\right)} m}{{\\left(m^{2} + r^{2}\\right)}^{2}}</script></html>"
      ],
      "text/latex": [
       "$$\\newcommand{\\Bold}[1]{\\mathbf{#1}}\\frac{{\\left(m + r\\right)} {\\left(m - r\\right)} m}{{\\left(m^{2} + r^{2}\\right)}^{2}}$$"
      ],
      "text/plain": [
       "(m + r)*(m - r)*m/(m^2 + r^2)^2"
      ]
     },
     "execution_count": 57,
     "metadata": {},
     "output_type": "execute_result"
    }
   ],
   "source": [
    "kappa_ok = acc_ok[0] / ok[0]\n",
    "kappa_ok.factor()"
   ]
  },
  {
   "cell_type": "markdown",
   "metadata": {},
   "source": [
    "We check that $\\nabla_{k'} k' = \\kappa_{k'} k'$:"
   ]
  },
  {
   "cell_type": "code",
   "execution_count": 58,
   "metadata": {},
   "outputs": [
    {
     "data": {
      "text/html": [
       "<html><script type=\"math/tex; mode=display\">\\newcommand{\\Bold}[1]{\\mathbf{#1}}\\mathrm{True}</script></html>"
      ],
      "text/latex": [
       "$$\\newcommand{\\Bold}[1]{\\mathbf{#1}}\\mathrm{True}$$"
      ],
      "text/plain": [
       "True"
      ]
     },
     "execution_count": 58,
     "metadata": {},
     "output_type": "execute_result"
    }
   ],
   "source": [
    "acc_ok == kappa_ok * ok"
   ]
  },
  {
   "cell_type": "code",
   "execution_count": null,
   "metadata": {},
   "outputs": [],
   "source": []
  }
 ],
 "metadata": {
  "kernelspec": {
   "display_name": "SageMath 9.3.rc5",
   "language": "sage",
   "name": "sagemath"
  },
  "language_info": {
   "codemirror_mode": {
    "name": "ipython",
    "version": 3
   },
   "file_extension": ".py",
   "mimetype": "text/x-python",
   "name": "python",
   "nbconvert_exporter": "python",
   "pygments_lexer": "ipython3",
   "version": "3.8.5"
  }
 },
 "nbformat": 4,
 "nbformat_minor": 4
}
