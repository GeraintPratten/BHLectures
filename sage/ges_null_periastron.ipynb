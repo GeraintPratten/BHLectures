{
 "cells": [
  {
   "cell_type": "markdown",
   "metadata": {},
   "source": [
    "# Determination of the periastron/apoastron of null geodesics in Schwarzschild spacetime"
   ]
  },
  {
   "cell_type": "markdown",
   "metadata": {},
   "source": [
    "This Jupyter/SageMath notebook is relative to the lectures\n",
    "[Geometry and physics of black holes](http://luth.obspm.fr/~luthier/gourgoulhon/bh16/).\n",
    "\n",
    "Click [here](https://raw.githubusercontent.com/egourgoulhon/BHLectures/master/sage/ges_null_periastron.ipynb) to download the notebook file (ipynb format). To run it, you must start SageMath with `sage -n jupyter`."
   ]
  },
  {
   "cell_type": "code",
   "execution_count": 1,
   "metadata": {},
   "outputs": [
    {
     "data": {
      "text/plain": [
       "'SageMath version 9.1.beta1, Release Date: 2020-01-21'"
      ]
     },
     "execution_count": 1,
     "metadata": {},
     "output_type": "execute_result"
    }
   ],
   "source": [
    "version()"
   ]
  },
  {
   "cell_type": "code",
   "execution_count": 2,
   "metadata": {},
   "outputs": [],
   "source": [
    "%display latex"
   ]
  },
  {
   "cell_type": "markdown",
   "metadata": {},
   "source": [
    "## The cubic polynomial"
   ]
  },
  {
   "cell_type": "code",
   "execution_count": 3,
   "metadata": {},
   "outputs": [],
   "source": [
    "r, b, m = var('r b m', domain='real')"
   ]
  },
  {
   "cell_type": "code",
   "execution_count": 4,
   "metadata": {},
   "outputs": [
    {
     "data": {
      "text/html": [
       "<html><script type=\"math/tex; mode=display\">\\newcommand{\\Bold}[1]{\\mathbf{#1}}2 \\, b^{2} m - b^{2} r + r^{3}</script></html>"
      ],
      "text/plain": [
       "2*b^2*m - b^2*r + r^3"
      ]
     },
     "execution_count": 4,
     "metadata": {},
     "output_type": "execute_result"
    }
   ],
   "source": [
    "P(r, b, m) = r^3 - b^2*r + 2*m*b^2\n",
    "P(r, b, m)"
   ]
  },
  {
   "cell_type": "markdown",
   "metadata": {},
   "source": [
    "## Roots via Viète's trigonometric method"
   ]
  },
  {
   "cell_type": "code",
   "execution_count": 5,
   "metadata": {},
   "outputs": [
    {
     "data": {
      "text/html": [
       "<html><script type=\"math/tex; mode=display\">\\newcommand{\\Bold}[1]{\\mathbf{#1}}\\frac{2}{3} \\, \\sqrt{3} b \\cos\\left(\\frac{1}{3} \\, \\pi - \\frac{1}{3} \\, \\arccos\\left(\\frac{3 \\, \\sqrt{3} m}{b}\\right)\\right)</script></html>"
      ],
      "text/plain": [
       "2/3*sqrt(3)*b*cos(1/3*pi - 1/3*arccos(3*sqrt(3)*m/b))"
      ]
     },
     "execution_count": 5,
     "metadata": {},
     "output_type": "execute_result"
    }
   ],
   "source": [
    "r0 = 2/sqrt(3)*b*cos(pi/3 - arccos(3*sqrt(3)*m/b)/3)\n",
    "r0"
   ]
  },
  {
   "cell_type": "code",
   "execution_count": 6,
   "metadata": {},
   "outputs": [
    {
     "data": {
      "text/html": [
       "<html><script type=\"math/tex; mode=display\">\\newcommand{\\Bold}[1]{\\mathbf{#1}}0</script></html>"
      ],
      "text/plain": [
       "0"
      ]
     },
     "execution_count": 6,
     "metadata": {},
     "output_type": "execute_result"
    }
   ],
   "source": [
    "P(r0, b, m).simplify_full().trig_reduce()"
   ]
  },
  {
   "cell_type": "code",
   "execution_count": 7,
   "metadata": {},
   "outputs": [
    {
     "data": {
      "text/html": [
       "<html><script type=\"math/tex; mode=display\">\\newcommand{\\Bold}[1]{\\mathbf{#1}}\\frac{2}{3} \\, \\sqrt{3} b \\cos\\left(\\pi - \\frac{1}{3} \\, \\arccos\\left(\\frac{3 \\, \\sqrt{3} m}{b}\\right)\\right)</script></html>"
      ],
      "text/plain": [
       "2/3*sqrt(3)*b*cos(pi - 1/3*arccos(3*sqrt(3)*m/b))"
      ]
     },
     "execution_count": 7,
     "metadata": {},
     "output_type": "execute_result"
    }
   ],
   "source": [
    "r1 = 2/sqrt(3)*b*cos(pi - arccos(3*sqrt(3)*m/b)/3)\n",
    "r1"
   ]
  },
  {
   "cell_type": "code",
   "execution_count": 8,
   "metadata": {},
   "outputs": [
    {
     "data": {
      "text/html": [
       "<html><script type=\"math/tex; mode=display\">\\newcommand{\\Bold}[1]{\\mathbf{#1}}0</script></html>"
      ],
      "text/plain": [
       "0"
      ]
     },
     "execution_count": 8,
     "metadata": {},
     "output_type": "execute_result"
    }
   ],
   "source": [
    "P(r1, b, m).simplify_full().trig_reduce()"
   ]
  },
  {
   "cell_type": "code",
   "execution_count": 9,
   "metadata": {},
   "outputs": [
    {
     "data": {
      "text/html": [
       "<html><script type=\"math/tex; mode=display\">\\newcommand{\\Bold}[1]{\\mathbf{#1}}\\frac{2}{3} \\, \\sqrt{3} b \\cos\\left(\\frac{5}{3} \\, \\pi - \\frac{1}{3} \\, \\arccos\\left(\\frac{3 \\, \\sqrt{3} m}{b}\\right)\\right)</script></html>"
      ],
      "text/plain": [
       "2/3*sqrt(3)*b*cos(5/3*pi - 1/3*arccos(3*sqrt(3)*m/b))"
      ]
     },
     "execution_count": 9,
     "metadata": {},
     "output_type": "execute_result"
    }
   ],
   "source": [
    "r2 = 2/sqrt(3)*b*cos(5*pi/3 - arccos(3*sqrt(3)*m/b)/3)\n",
    "r2"
   ]
  },
  {
   "cell_type": "code",
   "execution_count": 10,
   "metadata": {},
   "outputs": [
    {
     "data": {
      "text/html": [
       "<html><script type=\"math/tex; mode=display\">\\newcommand{\\Bold}[1]{\\mathbf{#1}}0</script></html>"
      ],
      "text/plain": [
       "0"
      ]
     },
     "execution_count": 10,
     "metadata": {},
     "output_type": "execute_result"
    }
   ],
   "source": [
    "P(r2, b, m).simplify_full().trig_reduce()"
   ]
  },
  {
   "cell_type": "code",
   "execution_count": 11,
   "metadata": {},
   "outputs": [],
   "source": [
    "rm(b) = r1.subs({m: 1})\n",
    "rp(b) = r0.subs({m: 1})\n",
    "ra(b) = r2.subs({m: 1})"
   ]
  },
  {
   "cell_type": "code",
   "execution_count": 12,
   "metadata": {},
   "outputs": [
    {
     "data": {
      "image/png": "[encoded data removed]",
      "text/plain": [
       "Graphics object consisting of 3 graphics primitives"
      ]
     },
     "execution_count": 12,
     "metadata": {},
     "output_type": "execute_result"
    }
   ],
   "source": [
    "g = plot(rp(b), (b, 3*sqrt(3), 8), color='red', legend_label=r'$r_{\\rm per}$',\n",
    "         axes_labels=[r'$b/m$', r'$r$']) \\\n",
    "    + plot(ra(b), (b, 3*sqrt(3), 8), color='green', legend_label=r'$r_{\\rm apo}$') \\\n",
    "    + plot(rm(b), (b, 3*sqrt(3), 8), color='blue', legend_label=r'$r_{\\rm neg}$')\n",
    "g"
   ]
  },
  {
   "cell_type": "code",
   "execution_count": 13,
   "metadata": {},
   "outputs": [
    {
     "data": {
      "image/png": "[encoded data removed]",
      "text/plain": [
       "Graphics object consisting of 2 graphics primitives"
      ]
     },
     "execution_count": 13,
     "metadata": {},
     "output_type": "execute_result"
    }
   ],
   "source": [
    "g = plot(rp(b), (b, 3*sqrt(3), 10), color='red', thickness=1.5,\n",
    "         legend_label=r'$r_{\\rm per}$', axes_labels=[r'$b/m$', r'$r/m$'], \n",
    "         frame=True, gridlines=True, aspect_ratio=1) \\\n",
    "    + plot(ra(b), (b, 3*sqrt(3), 10), color='green', thickness=1.5,\n",
    "           legend_label=r'$r_{\\rm apo}$')\n",
    "g"
   ]
  },
  {
   "cell_type": "code",
   "execution_count": 14,
   "metadata": {},
   "outputs": [
    {
     "data": {
      "image/png": "[encoded data removed]",
      "text/plain": [
       "Graphics object consisting of 2 graphics primitives"
      ]
     },
     "metadata": {},
     "output_type": "display_data"
    }
   ],
   "source": [
    "show(g, xmin=5, ymin=2)"
   ]
  },
  {
   "cell_type": "code",
   "execution_count": 15,
   "metadata": {},
   "outputs": [],
   "source": [
    "g.save('ges_null_per_apo.pdf', xmin=5, ymin=2)"
   ]
  },
  {
   "cell_type": "markdown",
   "metadata": {},
   "source": [
    "## Expansions close to $b_{\\rm crit}$"
   ]
  },
  {
   "cell_type": "markdown",
   "metadata": {},
   "source": [
    "### Expansion of the form $b = b_{\\rm crit} + x$"
   ]
  },
  {
   "cell_type": "code",
   "execution_count": 16,
   "metadata": {},
   "outputs": [],
   "source": [
    "bcrit = 3*sqrt(3)"
   ]
  },
  {
   "cell_type": "code",
   "execution_count": 17,
   "metadata": {},
   "outputs": [
    {
     "data": {
      "text/html": [
       "<html><script type=\"math/tex; mode=display\">\\newcommand{\\Bold}[1]{\\mathbf{#1}}\\frac{59}{972} \\cdot 3^{\\frac{1}{4}} \\sqrt{2} x^{\\frac{3}{2}} - \\frac{4}{2187} \\, x^{2} + \\frac{1}{3} \\cdot 3^{\\frac{3}{4}} \\sqrt{2} \\sqrt{x} + \\frac{8}{27} \\, \\sqrt{3} x + 3</script></html>"
      ],
      "text/plain": [
       "59/972*3^(1/4)*sqrt(2)*x^(3/2) - 4/2187*x^2 + 1/3*3^(3/4)*sqrt(2)*sqrt(x) + 8/27*sqrt(3)*x + 3"
      ]
     },
     "execution_count": 17,
     "metadata": {},
     "output_type": "execute_result"
    }
   ],
   "source": [
    "rpx = rp(bcrit + x).taylor(x, 0, 2)\n",
    "rpx"
   ]
  },
  {
   "cell_type": "code",
   "execution_count": 18,
   "metadata": {},
   "outputs": [
    {
     "data": {
      "text/html": [
       "<html><script type=\"math/tex; mode=display\">\\newcommand{\\Bold}[1]{\\mathbf{#1}}-\\frac{59}{972} \\cdot 3^{\\frac{1}{4}} \\sqrt{2} x^{\\frac{3}{2}} - \\frac{4}{2187} \\, x^{2} - \\frac{1}{3} \\cdot 3^{\\frac{3}{4}} \\sqrt{2} \\sqrt{x} + \\frac{8}{27} \\, \\sqrt{3} x + 3</script></html>"
      ],
      "text/plain": [
       "-59/972*3^(1/4)*sqrt(2)*x^(3/2) - 4/2187*x^2 - 1/3*3^(3/4)*sqrt(2)*sqrt(x) + 8/27*sqrt(3)*x + 3"
      ]
     },
     "execution_count": 18,
     "metadata": {},
     "output_type": "execute_result"
    }
   ],
   "source": [
    "rax = ra(bcrit + x).taylor(x, 0, 2)\n",
    "rax"
   ]
  },
  {
   "cell_type": "code",
   "execution_count": 19,
   "metadata": {},
   "outputs": [
    {
     "data": {
      "text/html": [
       "<html><script type=\"math/tex; mode=display\">\\newcommand{\\Bold}[1]{\\mathbf{#1}}\\frac{61}{8748} \\cdot 3^{\\frac{1}{4}} \\sqrt{2} x^{\\frac{3}{2}} + \\frac{49}{19683} \\, x^{2} - \\frac{1}{27} \\cdot 3^{\\frac{3}{4}} \\sqrt{2} \\sqrt{x} - \\frac{2}{243} \\, \\sqrt{3} x + \\frac{1}{3}</script></html>"
      ],
      "text/plain": [
       "61/8748*3^(1/4)*sqrt(2)*x^(3/2) + 49/19683*x^2 - 1/27*3^(3/4)*sqrt(2)*sqrt(x) - 2/243*sqrt(3)*x + 1/3"
      ]
     },
     "execution_count": 19,
     "metadata": {},
     "output_type": "execute_result"
    }
   ],
   "source": [
    "upx = (1/rpx).taylor(x, 0, 2)\n",
    "upx"
   ]
  },
  {
   "cell_type": "code",
   "execution_count": 20,
   "metadata": {},
   "outputs": [
    {
     "data": {
      "text/html": [
       "<html><script type=\"math/tex; mode=display\">\\newcommand{\\Bold}[1]{\\mathbf{#1}}-\\frac{61}{8748} \\cdot 3^{\\frac{1}{4}} \\sqrt{2} x^{\\frac{3}{2}} + \\frac{49}{19683} \\, x^{2} + \\frac{1}{27} \\cdot 3^{\\frac{3}{4}} \\sqrt{2} \\sqrt{x} - \\frac{2}{243} \\, \\sqrt{3} x + \\frac{1}{3}</script></html>"
      ],
      "text/plain": [
       "-61/8748*3^(1/4)*sqrt(2)*x^(3/2) + 49/19683*x^2 + 1/27*3^(3/4)*sqrt(2)*sqrt(x) - 2/243*sqrt(3)*x + 1/3"
      ]
     },
     "execution_count": 20,
     "metadata": {},
     "output_type": "execute_result"
    }
   ],
   "source": [
    "uax = (1/rax).taylor(x, 0, 2)\n",
    "uax"
   ]
  },
  {
   "cell_type": "markdown",
   "metadata": {},
   "source": [
    "### Expansion of the form $u_{\\rm per} = \\frac{1}{3} (1 - x)$"
   ]
  },
  {
   "cell_type": "code",
   "execution_count": 21,
   "metadata": {},
   "outputs": [],
   "source": [
    "up = (1 - x)/3"
   ]
  },
  {
   "cell_type": "code",
   "execution_count": 22,
   "metadata": {},
   "outputs": [
    {
     "data": {
      "text/html": [
       "<html><script type=\"math/tex; mode=display\">\\newcommand{\\Bold}[1]{\\mathbf{#1}}-\\frac{3}{{\\left(x - 1\\right)} \\sqrt{\\frac{2}{3} \\, x + \\frac{1}{3}}}</script></html>"
      ],
      "text/plain": [
       "-3/((x - 1)*sqrt(2/3*x + 1/3))"
      ]
     },
     "execution_count": 22,
     "metadata": {},
     "output_type": "execute_result"
    }
   ],
   "source": [
    "bx = 1/(up*sqrt(1 - 2*up)).simplify_full()\n",
    "bx"
   ]
  },
  {
   "cell_type": "code",
   "execution_count": 23,
   "metadata": {},
   "outputs": [
    {
     "data": {
      "text/html": [
       "<html><script type=\"math/tex; mode=display\">\\newcommand{\\Bold}[1]{\\mathbf{#1}}-\\frac{1}{3} \\, x + \\frac{1}{3}</script></html>"
      ],
      "text/plain": [
       "-1/3*x + 1/3"
      ]
     },
     "execution_count": 23,
     "metadata": {},
     "output_type": "execute_result"
    }
   ],
   "source": [
    "upx = (1/rp(bx)).simplify_full().taylor(x, 0, 3)\n",
    "upx"
   ]
  },
  {
   "cell_type": "code",
   "execution_count": 24,
   "metadata": {},
   "outputs": [
    {
     "data": {
      "text/html": [
       "<html><script type=\"math/tex; mode=display\">\\newcommand{\\Bold}[1]{\\mathbf{#1}}0</script></html>"
      ],
      "text/plain": [
       "0"
      ]
     },
     "execution_count": 24,
     "metadata": {},
     "output_type": "execute_result"
    }
   ],
   "source": [
    "P(1/upx, bx, 1).simplify_full()"
   ]
  },
  {
   "cell_type": "code",
   "execution_count": 25,
   "metadata": {},
   "outputs": [
    {
     "data": {
      "text/html": [
       "<html><script type=\"math/tex; mode=display\">\\newcommand{\\Bold}[1]{\\mathbf{#1}}\\frac{4}{27} \\, x^{3} - \\frac{2}{9} \\, x^{2} + \\frac{1}{3} \\, x + \\frac{1}{3}</script></html>"
      ],
      "text/plain": [
       "4/27*x^3 - 2/9*x^2 + 1/3*x + 1/3"
      ]
     },
     "execution_count": 25,
     "metadata": {},
     "output_type": "execute_result"
    }
   ],
   "source": [
    "uax = (1/ra(bx)).simplify_full().taylor(x, 0, 3)\n",
    "uax"
   ]
  },
  {
   "cell_type": "code",
   "execution_count": 26,
   "metadata": {},
   "outputs": [
    {
     "data": {
      "text/html": [
       "<html><script type=\"math/tex; mode=display\">\\newcommand{\\Bold}[1]{\\mathbf{#1}}0</script></html>"
      ],
      "text/plain": [
       "0"
      ]
     },
     "execution_count": 26,
     "metadata": {},
     "output_type": "execute_result"
    }
   ],
   "source": [
    "P(1/uax, bx, 1).simplify_full().taylor(x, 0, 3)"
   ]
  },
  {
   "cell_type": "code",
   "execution_count": 27,
   "metadata": {},
   "outputs": [
    {
     "data": {
      "text/html": [
       "<html><script type=\"math/tex; mode=display\">\\newcommand{\\Bold}[1]{\\mathbf{#1}}-\\frac{4}{27} \\, x^{3} + \\frac{2}{9} \\, x^{2} - \\frac{1}{6}</script></html>"
      ],
      "text/plain": [
       "-4/27*x^3 + 2/9*x^2 - 1/6"
      ]
     },
     "execution_count": 27,
     "metadata": {},
     "output_type": "execute_result"
    }
   ],
   "source": [
    "umx = (1/rm(bx)).simplify_full().taylor(x, 0, 3)\n",
    "umx"
   ]
  },
  {
   "cell_type": "code",
   "execution_count": 28,
   "metadata": {},
   "outputs": [
    {
     "data": {
      "text/html": [
       "<html><script type=\"math/tex; mode=display\">\\newcommand{\\Bold}[1]{\\mathbf{#1}}0</script></html>"
      ],
      "text/plain": [
       "0"
      ]
     },
     "execution_count": 28,
     "metadata": {},
     "output_type": "execute_result"
    }
   ],
   "source": [
    "P(1/umx, bx, 1).simplify_full().taylor(x, 0, 3)"
   ]
  },
  {
   "cell_type": "markdown",
   "metadata": {},
   "source": [
    "Another check:"
   ]
  },
  {
   "cell_type": "code",
   "execution_count": 29,
   "metadata": {},
   "outputs": [
    {
     "data": {
      "text/html": [
       "<html><script type=\"math/tex; mode=display\">\\newcommand{\\Bold}[1]{\\mathbf{#1}}\\frac{1}{2}</script></html>"
      ],
      "text/plain": [
       "1/2"
      ]
     },
     "execution_count": 29,
     "metadata": {},
     "output_type": "execute_result"
    }
   ],
   "source": [
    "umx + upx + uax"
   ]
  },
  {
   "cell_type": "markdown",
   "metadata": {},
   "source": [
    "## The polynomial $P_b(u)$"
   ]
  },
  {
   "cell_type": "code",
   "execution_count": 30,
   "metadata": {},
   "outputs": [
    {
     "data": {
      "text/html": [
       "<html><script type=\"math/tex; mode=display\">\\newcommand{\\Bold}[1]{\\mathbf{#1}}\\left( u, b \\right) \\ {\\mapsto} \\ 2 \\, u^{3} - u^{2} + \\frac{1}{b^{2}}</script></html>"
      ],
      "text/plain": [
       "(u, b) |--> 2*u^3 - u^2 + 1/b^2"
      ]
     },
     "execution_count": 30,
     "metadata": {},
     "output_type": "execute_result"
    }
   ],
   "source": [
    "P(u, b) = 2*u^3 - u^2 + 1/b^2\n",
    "P"
   ]
  },
  {
   "cell_type": "code",
   "execution_count": 31,
   "metadata": {},
   "outputs": [
    {
     "data": {
      "text/html": [
       "<html><script type=\"math/tex; mode=display\">\\newcommand{\\Bold}[1]{\\mathbf{#1}}\\left[3, 4, 3 \\, \\sqrt{3}, 7, 20\\right]</script></html>"
      ],
      "text/plain": [
       "[3, 4, 3*sqrt(3), 7, 20]"
      ]
     },
     "execution_count": 31,
     "metadata": {},
     "output_type": "execute_result"
    }
   ],
   "source": [
    "b_crit = 3*sqrt(3)\n",
    "b_sel = [3, 4, b_crit, 7, 20]\n",
    "b_sel"
   ]
  },
  {
   "cell_type": "code",
   "execution_count": 32,
   "metadata": {},
   "outputs": [
    {
     "data": {
      "image/png": "[encoded data removed]",
      "text/plain": [
       "Graphics object consisting of 5 graphics primitives"
      ]
     },
     "metadata": {},
     "output_type": "display_data"
    }
   ],
   "source": [
    "graph = Graphics()\n",
    "for b in b_sel:\n",
    "    if b == b_crit:\n",
    "        legend_label = r'$b = 3\\sqrt{3}\\, m$'\n",
    "    else:\n",
    "        legend_label=r'$b = {:.0f} \\, m$'.format(float(b))\n",
    "    graph += plot(P(u, b), (u, -0.5, 0.8), color = hue((b - b_crit)/6), \n",
    "                  legend_label=legend_label, thickness=1.5,\n",
    "                  axes_labels=[r\"$u$\", r\"$P_b(u)$\"])\n",
    "show(graph, ymin=-0.2, ymax=0.2)"
   ]
  },
  {
   "cell_type": "code",
   "execution_count": 33,
   "metadata": {},
   "outputs": [],
   "source": [
    "graph.save('ges_polynomial_b_u.pdf', ymin=-0.2, ymax=0.2)"
   ]
  },
  {
   "cell_type": "markdown",
   "metadata": {},
   "source": [
    "### Roots of $P_b(u)$\n",
    "\n",
    "The depressed polynomial:"
   ]
  },
  {
   "cell_type": "code",
   "execution_count": 34,
   "metadata": {},
   "outputs": [
    {
     "data": {
      "text/html": [
       "<html><script type=\"math/tex; mode=display\">\\newcommand{\\Bold}[1]{\\mathbf{#1}}x^{3} - \\frac{1}{12} \\, x + \\frac{1}{2 \\, b^{2}} - \\frac{1}{108}</script></html>"
      ],
      "text/plain": [
       "x^3 - 1/12*x + 1/2/b^2 - 1/108"
      ]
     },
     "execution_count": 34,
     "metadata": {},
     "output_type": "execute_result"
    }
   ],
   "source": [
    "b = var('b')\n",
    "pd = (P(x + 1/6, b)/2).expand()\n",
    "pd"
   ]
  },
  {
   "cell_type": "code",
   "execution_count": 35,
   "metadata": {},
   "outputs": [
    {
     "data": {
      "text/html": [
       "<html><script type=\"math/tex; mode=display\">\\newcommand{\\Bold}[1]{\\mathbf{#1}}\\left(-\\frac{1}{12}, \\frac{1}{2 \\, b^{2}} - \\frac{1}{108}\\right)</script></html>"
      ],
      "text/plain": [
       "(-1/12, 1/2/b^2 - 1/108)"
      ]
     },
     "execution_count": 35,
     "metadata": {},
     "output_type": "execute_result"
    }
   ],
   "source": [
    "p = -1/12\n",
    "q = 1/(2*b^2) - 1/108\n",
    "p, q"
   ]
  },
  {
   "cell_type": "markdown",
   "metadata": {},
   "source": [
    "Roots via Viète formula:"
   ]
  },
  {
   "cell_type": "code",
   "execution_count": 36,
   "metadata": {},
   "outputs": [
    {
     "data": {
      "text/html": [
       "<html><script type=\"math/tex; mode=display\">\\newcommand{\\Bold}[1]{\\mathbf{#1}}-\\frac{54}{b^{2}} + 1</script></html>"
      ],
      "text/plain": [
       "-54/b^2 + 1"
      ]
     },
     "execution_count": 36,
     "metadata": {},
     "output_type": "execute_result"
    }
   ],
   "source": [
    "3*q/(2*p)*sqrt(-3/p)"
   ]
  },
  {
   "cell_type": "code",
   "execution_count": 37,
   "metadata": {},
   "outputs": [
    {
     "data": {
      "text/html": [
       "<html><script type=\"math/tex; mode=display\">\\newcommand{\\Bold}[1]{\\mathbf{#1}}\\frac{1}{3} \\, \\cos\\left(\\frac{2}{3} \\, \\pi + \\frac{2}{3} \\, \\arcsin\\left(\\frac{3 \\, \\sqrt{3}}{b}\\right)\\right) + \\frac{1}{6}</script></html>"
      ],
      "text/plain": [
       "1/3*cos(2/3*pi + 2/3*arcsin(3*sqrt(3)/b)) + 1/6"
      ]
     },
     "execution_count": 37,
     "metadata": {},
     "output_type": "execute_result"
    }
   ],
   "source": [
    "psi = arcsin(b_crit/b)\n",
    "un(b) = 1/3*cos(2*psi/3 + 2*pi/3) + 1/6\n",
    "un(b)"
   ]
  },
  {
   "cell_type": "code",
   "execution_count": 38,
   "metadata": {},
   "outputs": [
    {
     "data": {
      "text/html": [
       "<html><script type=\"math/tex; mode=display\">\\newcommand{\\Bold}[1]{\\mathbf{#1}}0</script></html>"
      ],
      "text/plain": [
       "0"
      ]
     },
     "execution_count": 38,
     "metadata": {},
     "output_type": "execute_result"
    }
   ],
   "source": [
    "P(un(b), b).simplify_full().trig_reduce().trig_expand()"
   ]
  },
  {
   "cell_type": "code",
   "execution_count": 39,
   "metadata": {},
   "outputs": [
    {
     "data": {
      "text/html": [
       "<html><script type=\"math/tex; mode=display\">\\newcommand{\\Bold}[1]{\\mathbf{#1}}\\frac{1}{3} \\, \\cos\\left(\\frac{4}{3} \\, \\pi + \\frac{2}{3} \\, \\arcsin\\left(\\frac{3 \\, \\sqrt{3}}{b}\\right)\\right) + \\frac{1}{6}</script></html>"
      ],
      "text/plain": [
       "1/3*cos(4/3*pi + 2/3*arcsin(3*sqrt(3)/b)) + 1/6"
      ]
     },
     "execution_count": 39,
     "metadata": {},
     "output_type": "execute_result"
    }
   ],
   "source": [
    "up(b) = 1/3*cos(2*psi/3 + 4*pi/3) + 1/6\n",
    "up(b)"
   ]
  },
  {
   "cell_type": "code",
   "execution_count": 40,
   "metadata": {},
   "outputs": [
    {
     "data": {
      "text/html": [
       "<html><script type=\"math/tex; mode=display\">\\newcommand{\\Bold}[1]{\\mathbf{#1}}0</script></html>"
      ],
      "text/plain": [
       "0"
      ]
     },
     "execution_count": 40,
     "metadata": {},
     "output_type": "execute_result"
    }
   ],
   "source": [
    "P(up(b), b).simplify_full().trig_reduce().trig_expand()"
   ]
  },
  {
   "cell_type": "code",
   "execution_count": 41,
   "metadata": {},
   "outputs": [
    {
     "data": {
      "text/html": [
       "<html><script type=\"math/tex; mode=display\">\\newcommand{\\Bold}[1]{\\mathbf{#1}}\\frac{1}{3} \\, \\cos\\left(\\frac{2}{3} \\, \\arcsin\\left(\\frac{3 \\, \\sqrt{3}}{b}\\right)\\right) + \\frac{1}{6}</script></html>"
      ],
      "text/plain": [
       "1/3*cos(2/3*arcsin(3*sqrt(3)/b)) + 1/6"
      ]
     },
     "execution_count": 41,
     "metadata": {},
     "output_type": "execute_result"
    }
   ],
   "source": [
    "ua(b) = 1/3*cos(2*psi/3) + 1/6\n",
    "ua(b)"
   ]
  },
  {
   "cell_type": "code",
   "execution_count": 42,
   "metadata": {},
   "outputs": [
    {
     "data": {
      "text/html": [
       "<html><script type=\"math/tex; mode=display\">\\newcommand{\\Bold}[1]{\\mathbf{#1}}0</script></html>"
      ],
      "text/plain": [
       "0"
      ]
     },
     "execution_count": 42,
     "metadata": {},
     "output_type": "execute_result"
    }
   ],
   "source": [
    "P(ua(b), b).simplify_full().trig_reduce().trig_expand()"
   ]
  },
  {
   "cell_type": "code",
   "execution_count": 43,
   "metadata": {},
   "outputs": [
    {
     "data": {
      "image/png": "[encoded data removed]",
      "text/plain": [
       "Graphics object consisting of 3 graphics primitives"
      ]
     },
     "execution_count": 43,
     "metadata": {},
     "output_type": "execute_result"
    }
   ],
   "source": [
    "g = plot(up(b), (b, 3*sqrt(3), 20), color='red', thickness=1.5,\n",
    "         legend_label=r'$u_{\\rm per}$', axes_labels=[r'$b/m$', r'$u$'], \n",
    "         frame=True, gridlines=True) \\\n",
    "    + plot(ua(b), (b, 3*sqrt(3), 20), color='green', thickness=1.5,\n",
    "           legend_label=r'$u_{\\rm apo}$') \\\n",
    "    + plot(un(b), (b, 3*sqrt(3), 20), color='maroon', thickness=1.5,\n",
    "           legend_label=r'$u_{\\rm neg}$')\n",
    "g"
   ]
  },
  {
   "cell_type": "code",
   "execution_count": 44,
   "metadata": {},
   "outputs": [
    {
     "data": {
      "image/png": "[encoded data removed]",
      "text/plain": [
       "Graphics object consisting of 3 graphics primitives"
      ]
     },
     "metadata": {},
     "output_type": "display_data"
    }
   ],
   "source": [
    "show(g, xmin=5, ymin=-0.2)"
   ]
  },
  {
   "cell_type": "code",
   "execution_count": 45,
   "metadata": {},
   "outputs": [],
   "source": [
    "g.save('gis_u_per_apo_neg.pdf', xmin=5, ymin=-0.2)"
   ]
  },
  {
   "cell_type": "markdown",
   "metadata": {},
   "source": [
    "## Elliptic modulus $k$"
   ]
  },
  {
   "cell_type": "code",
   "execution_count": 46,
   "metadata": {},
   "outputs": [
    {
     "data": {
      "text/html": [
       "<html><script type=\"math/tex; mode=display\">\\newcommand{\\Bold}[1]{\\mathbf{#1}}\\sqrt{2} \\sqrt{\\frac{\\sqrt{3} \\sin\\left(\\frac{2}{3} \\, \\arcsin\\left(\\frac{3 \\, \\sqrt{3}}{b}\\right)\\right)}{\\sqrt{3} \\sin\\left(\\frac{2}{3} \\, \\arcsin\\left(\\frac{3 \\, \\sqrt{3}}{b}\\right)\\right) + 3 \\, \\cos\\left(\\frac{2}{3} \\, \\arcsin\\left(\\frac{3 \\, \\sqrt{3}}{b}\\right)\\right)}}</script></html>"
      ],
      "text/plain": [
       "sqrt(2)*sqrt(sqrt(3)*sin(2/3*arcsin(3*sqrt(3)/b))/(sqrt(3)*sin(2/3*arcsin(3*sqrt(3)/b)) + 3*cos(2/3*arcsin(3*sqrt(3)/b))))"
      ]
     },
     "execution_count": 46,
     "metadata": {},
     "output_type": "execute_result"
    }
   ],
   "source": [
    "k(b) = sqrt((up(b) - un(b))/(ua(b) - un(b))).simplify_full()\n",
    "k(b)"
   ]
  },
  {
   "cell_type": "code",
   "execution_count": 47,
   "metadata": {},
   "outputs": [
    {
     "data": {
      "image/png": "[encoded data removed]",
      "text/plain": [
       "Graphics object consisting of 1 graphics primitive"
      ]
     },
     "execution_count": 47,
     "metadata": {},
     "output_type": "execute_result"
    }
   ],
   "source": [
    "g = plot(k(b), (b, 3*sqrt(3), 20), color='red', thickness=1.5,\n",
    "         axes_labels=[r'$b/m$', r'$k$'], \n",
    "         frame=True, gridlines=True)\n",
    "g"
   ]
  },
  {
   "cell_type": "code",
   "execution_count": 48,
   "metadata": {},
   "outputs": [],
   "source": [
    "g.save(\"gis_elliptic_mod.pdf\")"
   ]
  },
  {
   "cell_type": "code",
   "execution_count": 49,
   "metadata": {},
   "outputs": [
    {
     "data": {
      "text/html": [
       "<html><script type=\"math/tex; mode=display\">\\newcommand{\\Bold}[1]{\\mathbf{#1}}\\frac{\\sqrt{2}}{\\sqrt{\\sqrt{3} \\cot\\left(\\frac{2}{3} \\, \\arcsin\\left(\\frac{3 \\, \\sqrt{3}}{b}\\right)\\right) + 1}}</script></html>"
      ],
      "text/plain": [
       "sqrt(2)/sqrt(sqrt(3)*cot(2/3*arcsin(3*sqrt(3)/b)) + 1)"
      ]
     },
     "execution_count": 49,
     "metadata": {},
     "output_type": "execute_result"
    }
   ],
   "source": [
    "k1(b) = sqrt(2) / sqrt(sqrt(3)*cot(2/3*arcsin(3*sqrt(3)/b)) + 1)\n",
    "k1(b)"
   ]
  },
  {
   "cell_type": "code",
   "execution_count": 50,
   "metadata": {},
   "outputs": [
    {
     "data": {
      "text/html": [
       "<html><script type=\"math/tex; mode=display\">\\newcommand{\\Bold}[1]{\\mathbf{#1}}0</script></html>"
      ],
      "text/plain": [
       "0"
      ]
     },
     "execution_count": 50,
     "metadata": {},
     "output_type": "execute_result"
    }
   ],
   "source": [
    "(k(b)^2 - k1(b)^2).simplify_full()"
   ]
  },
  {
   "cell_type": "markdown",
   "metadata": {},
   "source": [
    "### Series expansion for $b$ close to $b_{\\rm crit}$"
   ]
  },
  {
   "cell_type": "code",
   "execution_count": 51,
   "metadata": {},
   "outputs": [],
   "source": [
    "upx = (1 - x)/3"
   ]
  },
  {
   "cell_type": "code",
   "execution_count": 52,
   "metadata": {},
   "outputs": [
    {
     "data": {
      "text/html": [
       "<html><script type=\"math/tex; mode=display\">\\newcommand{\\Bold}[1]{\\mathbf{#1}}-\\frac{3}{{\\left(x - 1\\right)} \\sqrt{\\frac{2}{3} \\, x + \\frac{1}{3}}}</script></html>"
      ],
      "text/plain": [
       "-3/((x - 1)*sqrt(2/3*x + 1/3))"
      ]
     },
     "execution_count": 52,
     "metadata": {},
     "output_type": "execute_result"
    }
   ],
   "source": [
    "bx = 1/(upx*sqrt(1 - 2*upx)).simplify_full()\n",
    "bx"
   ]
  },
  {
   "cell_type": "code",
   "execution_count": 53,
   "metadata": {},
   "outputs": [
    {
     "data": {
      "text/html": [
       "<html><script type=\"math/tex; mode=display\">\\newcommand{\\Bold}[1]{\\mathbf{#1}}-\\frac{1}{3} \\, x + \\frac{1}{3}</script></html>"
      ],
      "text/plain": [
       "-1/3*x + 1/3"
      ]
     },
     "execution_count": 53,
     "metadata": {},
     "output_type": "execute_result"
    }
   ],
   "source": [
    "up(bx).taylor(x, 0, 2)"
   ]
  },
  {
   "cell_type": "code",
   "execution_count": 54,
   "metadata": {},
   "outputs": [
    {
     "data": {
      "text/html": [
       "<html><script type=\"math/tex; mode=display\">\\newcommand{\\Bold}[1]{\\mathbf{#1}}-\\frac{2}{9} \\, x^{2} + \\frac{1}{3} \\, x + \\frac{1}{3}</script></html>"
      ],
      "text/plain": [
       "-2/9*x^2 + 1/3*x + 1/3"
      ]
     },
     "execution_count": 54,
     "metadata": {},
     "output_type": "execute_result"
    }
   ],
   "source": [
    "uax = ua(bx).taylor(x, 0, 2)\n",
    "uax"
   ]
  },
  {
   "cell_type": "code",
   "execution_count": 55,
   "metadata": {},
   "outputs": [
    {
     "data": {
      "text/html": [
       "<html><script type=\"math/tex; mode=display\">\\newcommand{\\Bold}[1]{\\mathbf{#1}}\\frac{2}{9} \\, x^{2} - \\frac{1}{6}</script></html>"
      ],
      "text/plain": [
       "2/9*x^2 - 1/6"
      ]
     },
     "execution_count": 55,
     "metadata": {},
     "output_type": "execute_result"
    }
   ],
   "source": [
    "unx = un(bx).taylor(x, 0, 2)\n",
    "unx"
   ]
  },
  {
   "cell_type": "code",
   "execution_count": 56,
   "metadata": {},
   "outputs": [
    {
     "data": {
      "text/html": [
       "<html><script type=\"math/tex; mode=display\">\\newcommand{\\Bold}[1]{\\mathbf{#1}}\\frac{4}{9} \\, x^{2} - \\frac{2}{3} \\, x + 1</script></html>"
      ],
      "text/plain": [
       "4/9*x^2 - 2/3*x + 1"
      ]
     },
     "execution_count": 56,
     "metadata": {},
     "output_type": "execute_result"
    }
   ],
   "source": [
    "kx = k(bx).taylor(x, 0, 2)\n",
    "kx"
   ]
  },
  {
   "cell_type": "code",
   "execution_count": 57,
   "metadata": {},
   "outputs": [
    {
     "data": {
      "text/html": [
       "<html><script type=\"math/tex; mode=display\">\\newcommand{\\Bold}[1]{\\mathbf{#1}}\\frac{1}{6} \\, x^{2} - \\frac{1}{3} \\, x + 1</script></html>"
      ],
      "text/plain": [
       "1/6*x^2 - 1/3*x + 1"
      ]
     },
     "execution_count": 57,
     "metadata": {},
     "output_type": "execute_result"
    }
   ],
   "source": [
    "sin_ax = (sqrt(upx/uax)/kx).taylor(x, 0, 2)\n",
    "sin_ax"
   ]
  },
  {
   "cell_type": "code",
   "execution_count": 58,
   "metadata": {},
   "outputs": [
    {
     "data": {
      "text/html": [
       "<html><script type=\"math/tex; mode=display\">\\newcommand{\\Bold}[1]{\\mathbf{#1}}\\frac{1}{2} \\, \\pi + \\frac{2}{27} \\, \\sqrt{3} \\sqrt{2} x^{\\frac{3}{2}} - \\frac{1}{3} \\, \\sqrt{3} \\sqrt{2} \\sqrt{x}</script></html>"
      ],
      "text/plain": [
       "1/2*pi + 2/27*sqrt(3)*sqrt(2)*x^(3/2) - 1/3*sqrt(3)*sqrt(2)*sqrt(x)"
      ]
     },
     "execution_count": 58,
     "metadata": {},
     "output_type": "execute_result"
    }
   ],
   "source": [
    "ax = (arcsin(sqrt(upx/uax)/kx)).taylor(x, 0, 2)\n",
    "ax"
   ]
  },
  {
   "cell_type": "code",
   "execution_count": 59,
   "metadata": {},
   "outputs": [
    {
     "data": {
      "text/html": [
       "<html><script type=\"math/tex; mode=display\">\\newcommand{\\Bold}[1]{\\mathbf{#1}}-\\frac{11}{18} \\, \\sqrt{3} \\sqrt{2} x^{\\frac{3}{2}} + \\frac{\\sqrt{3} \\sqrt{2}}{2 \\, \\sqrt{x}}</script></html>"
      ],
      "text/plain": [
       "-11/18*sqrt(3)*sqrt(2)*x^(3/2) + 1/2*sqrt(3)*sqrt(2)/sqrt(x)"
      ]
     },
     "execution_count": 59,
     "metadata": {},
     "output_type": "execute_result"
    }
   ],
   "source": [
    "tan_ax = tan(arcsin(sqrt(upx/uax)/kx)).taylor(x, 0, 2)\n",
    "tan_ax"
   ]
  },
  {
   "cell_type": "code",
   "execution_count": 60,
   "metadata": {},
   "outputs": [
    {
     "data": {
      "text/html": [
       "<html><script type=\"math/tex; mode=display\">\\newcommand{\\Bold}[1]{\\mathbf{#1}}-\\frac{11}{24} \\, \\sqrt{2} x^{2} - \\frac{1}{2} \\, \\sqrt{2} x + \\sqrt{2}</script></html>"
      ],
      "text/plain": [
       "-11/24*sqrt(2)*x^2 - 1/2*sqrt(2)*x + sqrt(2)"
      ]
     },
     "execution_count": 60,
     "metadata": {},
     "output_type": "execute_result"
    }
   ],
   "source": [
    "(tan_ax * sqrt(1 - k(bx)^2)).taylor(x, 0, 2)"
   ]
  },
  {
   "cell_type": "code",
   "execution_count": 61,
   "metadata": {},
   "outputs": [
    {
     "data": {
      "text/html": [
       "<html><script type=\"math/tex; mode=display\">\\newcommand{\\Bold}[1]{\\mathbf{#1}}\\frac{17}{48} \\, \\sqrt{2} x^{2} + \\frac{1}{4} \\, \\sqrt{2} x + \\frac{1}{2} \\, \\sqrt{2}</script></html>"
      ],
      "text/plain": [
       "17/48*sqrt(2)*x^2 + 1/4*sqrt(2)*x + 1/2*sqrt(2)"
      ]
     },
     "execution_count": 61,
     "metadata": {},
     "output_type": "execute_result"
    }
   ],
   "source": [
    "(1/_).taylor(x, 0, 2)"
   ]
  },
  {
   "cell_type": "code",
   "execution_count": 62,
   "metadata": {},
   "outputs": [
    {
     "data": {
      "text/html": [
       "<html><script type=\"math/tex; mode=display\">\\newcommand{\\Bold}[1]{\\mathbf{#1}}\\frac{1}{3} \\, \\sqrt{3}</script></html>"
      ],
      "text/plain": [
       "1/3*sqrt(3)"
      ]
     },
     "execution_count": 62,
     "metadata": {},
     "output_type": "execute_result"
    }
   ],
   "source": [
    "sin(arctan(1/sqrt(2))).simplify_full()"
   ]
  },
  {
   "cell_type": "code",
   "execution_count": 63,
   "metadata": {},
   "outputs": [
    {
     "data": {
      "text/html": [
       "<html><script type=\"math/tex; mode=display\">\\newcommand{\\Bold}[1]{\\mathbf{#1}}\\arctan\\left(\\frac{1}{2} \\, \\sqrt{2}\\right)</script></html>"
      ],
      "text/plain": [
       "arctan(1/2*sqrt(2))"
      ]
     },
     "execution_count": 63,
     "metadata": {},
     "output_type": "execute_result"
    }
   ],
   "source": [
    "arctan(1/sqrt(2)).simplify_full()"
   ]
  },
  {
   "cell_type": "code",
   "execution_count": 64,
   "metadata": {},
   "outputs": [
    {
     "data": {
      "text/html": [
       "<html><script type=\"math/tex; mode=display\">\\newcommand{\\Bold}[1]{\\mathbf{#1}}-\\frac{1}{3} \\, \\sqrt{3} x^{\\frac{3}{2}} + \\frac{2}{3} \\, \\sqrt{3} \\sqrt{x}</script></html>"
      ],
      "text/plain": [
       "-1/3*sqrt(3)*x^(3/2) + 2/3*sqrt(3)*sqrt(x)"
      ]
     },
     "execution_count": 64,
     "metadata": {},
     "output_type": "execute_result"
    }
   ],
   "source": [
    "sqrt(1 - k(bx)^2).taylor(x, 0, 2)"
   ]
  },
  {
   "cell_type": "code",
   "execution_count": 65,
   "metadata": {},
   "outputs": [
    {
     "data": {
      "text/html": [
       "<html><script type=\"math/tex; mode=display\">\\newcommand{\\Bold}[1]{\\mathbf{#1}}-\\frac{5}{4} \\, \\sqrt{3} \\sqrt{2} x^{\\frac{3}{2}} + \\frac{1}{6} \\, \\sqrt{3} \\sqrt{2} \\sqrt{x} + \\frac{\\sqrt{3} \\sqrt{2}}{\\sqrt{x}}</script></html>"
      ],
      "text/plain": [
       "-5/4*sqrt(3)*sqrt(2)*x^(3/2) + 1/6*sqrt(3)*sqrt(2)*sqrt(x) + sqrt(3)*sqrt(2)/sqrt(x)"
      ]
     },
     "execution_count": 65,
     "metadata": {},
     "output_type": "execute_result"
    }
   ],
   "source": [
    "aax = arcsin(sqrt(upx/uax)/kx)\n",
    "(tan(aax) + sec(aax)).taylor(x, 0, 2)"
   ]
  },
  {
   "cell_type": "code",
   "execution_count": 66,
   "metadata": {},
   "outputs": [
    {
     "data": {
      "text/html": [
       "<html><script type=\"math/tex; mode=display\">\\newcommand{\\Bold}[1]{\\mathbf{#1}}\\frac{9}{2} \\, \\sqrt{3} x^{2} + 3 \\, \\sqrt{3}</script></html>"
      ],
      "text/plain": [
       "9/2*sqrt(3)*x^2 + 3*sqrt(3)"
      ]
     },
     "execution_count": 66,
     "metadata": {},
     "output_type": "execute_result"
    }
   ],
   "source": [
    "bx.taylor(x, 0, 2)"
   ]
  },
  {
   "cell_type": "code",
   "execution_count": 67,
   "metadata": {},
   "outputs": [
    {
     "data": {
      "text/html": [
       "<html><script type=\"math/tex; mode=display\">\\newcommand{\\Bold}[1]{\\mathbf{#1}}-\\frac{3}{2} \\, x^{2} + 1</script></html>"
      ],
      "text/plain": [
       "-3/2*x^2 + 1"
      ]
     },
     "execution_count": 67,
     "metadata": {},
     "output_type": "execute_result"
    }
   ],
   "source": [
    "(3*sqrt(3)/bx).taylor(x, 0, 2)"
   ]
  },
  {
   "cell_type": "code",
   "execution_count": 68,
   "metadata": {},
   "outputs": [
    {
     "data": {
      "text/html": [
       "<html><script type=\"math/tex; mode=display\">\\newcommand{\\Bold}[1]{\\mathbf{#1}}\\frac{1}{3} \\, \\pi + \\frac{2}{9} \\, \\sqrt{3} x^{2} - \\frac{2}{3} \\, \\sqrt{3} x</script></html>"
      ],
      "text/plain": [
       "1/3*pi + 2/9*sqrt(3)*x^2 - 2/3*sqrt(3)*x"
      ]
     },
     "execution_count": 68,
     "metadata": {},
     "output_type": "execute_result"
    }
   ],
   "source": [
    "(2/3)*arcsin((3*sqrt(3)/bx)).taylor(x, 0, 2)"
   ]
  },
  {
   "cell_type": "code",
   "execution_count": null,
   "metadata": {},
   "outputs": [],
   "source": []
  }
 ],
 "metadata": {
  "kernelspec": {
   "display_name": "SageMath 9.1.beta1",
   "language": "sage",
   "name": "sagemath"
  },
  "language_info": {
   "codemirror_mode": {
    "name": "ipython",
    "version": 3
   },
   "file_extension": ".py",
   "mimetype": "text/x-python",
   "name": "python",
   "nbconvert_exporter": "python",
   "pygments_lexer": "ipython3",
   "version": "3.7.3"
  }
 },
 "nbformat": 4,
 "nbformat_minor": 2
}
